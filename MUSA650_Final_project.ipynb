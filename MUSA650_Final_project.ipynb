{
 "cells": [
  {
   "cell_type": "markdown",
   "metadata": {},
   "source": [
    "<a id=\"top\"></a>\n",
    "# Landslide identification in Hong Kong using generative adversarial networks based on long term historical inventory data\n",
    "\n",
    "**Author: Anran Zheng, Xiaoyi Wu**\n",
    "\n",
    "**MUSA 650 Final Project**"
   ]
  },
  {
   "cell_type": "markdown",
   "metadata": {},
   "source": [
    "This study applies a new proposed approach, which was based on the generative adversarial network (GAN), to landslide inventory data. GAN generate synthetic inventory data that makes up the shortage of original dataset. Based on fusing the original data and the synthetic data, prediction models were built, and the different types of landslide susceptibility were mapped. In this research, landslide inventory data was identified in Hong Kong, China, one most frequent landslide prone region. Based on previous studies and suggestions, multiple geo-environmental factors were compiled in the integration of geodatabase. The proposed model was compared with the traditional machine learning and deep learning models that have been commonly used in landslide susceptibility mapping, including K-nearest neighbors (KNN), Random Forest (RF), Decision Tree (DT) and Logistic Regression (LR) .  It is therefore necessary to explore how GAN improve and boost such models. Model performance was evaluated using the overall accuracy (OA), under the receiver operating characteristic curve (AUROC), confusion matrix and F1-score.  "
   ]
  },
  {
   "cell_type": "markdown",
   "metadata": {},
   "source": [
    "## Contents"
   ]
  },
  {
   "cell_type": "markdown",
   "metadata": {},
   "source": [
    "- Data process\n",
    "    - [Data cleaning](#cleaning)\n",
    "    - [Principal Component Analysis](#pca)\n",
    "    \n",
    "   \n",
    "- Train the GAN model\n",
    "    - [Train the GAN model](#gan)\n",
    "    \n",
    "    \n",
    "- Assessment and comparison of models\n",
    "    - [KNN](#knn)\n",
    "    - [Logistic Regression](#lr)\n",
    "    - [Decision Tree](#dt)\n",
    "    - [Random Forest](#rf)\n",
    "    \n",
    "    \n",
    "-  Landslide susceptibility mapping\n",
    "    - [ Landslide susceptibility mapping](#mapping)"
   ]
  },
  {
   "cell_type": "markdown",
   "metadata": {},
   "source": [
    "# 1. Data process\n"
   ]
  },
  {
   "cell_type": "markdown",
   "metadata": {},
   "source": [
    "[Back to Top](#top)\n",
    "<a id=\"cleaning\"></a>\n",
    "## 1.1 Data cleaning"
   ]
  },
  {
   "cell_type": "markdown",
   "metadata": {},
   "source": [
    "load large landslide inventory dataset, which contains about 11,000 samples"
   ]
  },
  {
   "cell_type": "code",
   "execution_count": 254,
   "metadata": {},
   "outputs": [],
   "source": [
    "import pandas as pd\n",
    "import numpy as np\n",
    "import numpy as np\n",
    "import pandas as pd\n",
    "import seaborn as sns\n",
    "import matplotlib.pyplot as plt\n",
    "import os\n",
    "\n",
    "import sklearn\n",
    "\n",
    "# Import necessary modules\n",
    "from sklearn.model_selection import train_test_split\n",
    "from sklearn.metrics import mean_squared_error\n",
    "from math import sqrt\n",
    "\n",
    "# Keras specific\n",
    "import keras\n",
    "from keras.models import Sequential\n",
    "from keras.layers import Dense,Flatten\n",
    "from tensorflow.keras.utils import to_categorical\n",
    "from sklearn import preprocessing\n",
    "from sklearn.model_selection import GridSearchCV\n",
    "\n",
    "from sklearn.linear_model import LogisticRegression\n",
    "from sklearn.svm import SVC\n",
    "from sklearn.tree import DecisionTreeClassifier\n",
    "from sklearn.ensemble import RandomForestClassifier\n",
    "from sklearn.neural_network import MLPClassifier\n",
    "from sklearn.neighbors import KNeighborsClassifier\n",
    "\n",
    "from sklearn.metrics import confusion_matrix\n",
    "from sklearn.metrics import accuracy_score\n",
    "from sklearn.metrics import roc_curve\n",
    "from sklearn.metrics import roc_auc_score\n",
    "from sklearn.metrics import precision_recall_fscore_support\n",
    "from sklearn.metrics import precision_recall_curve\n",
    "from tensorflow.keras.optimizers import RMSprop\n",
    "from keras.layers import Dense, Dropout,Flatten,Conv2D, MaxPooling2D\n",
    "import sys\n",
    "from sklearn.preprocessing import StandardScaler\n",
    "\n",
    "#GAN\n",
    "from sdv.demo import load_tabular_demo\n",
    "from sdv.tabular import CTGAN\n",
    "from sdv.evaluation import evaluate\n",
    "np.set_printoptions(threshold=sys.maxsize)"
   ]
  },
  {
   "cell_type": "code",
   "execution_count": 255,
   "metadata": {},
   "outputs": [
    {
     "data": {
      "text/html": [
       "<div>\n",
       "<style scoped>\n",
       "    .dataframe tbody tr th:only-of-type {\n",
       "        vertical-align: middle;\n",
       "    }\n",
       "\n",
       "    .dataframe tbody tr th {\n",
       "        vertical-align: top;\n",
       "    }\n",
       "\n",
       "    .dataframe thead th {\n",
       "        text-align: right;\n",
       "    }\n",
       "</style>\n",
       "<table border=\"1\" class=\"dataframe\">\n",
       "  <thead>\n",
       "    <tr style=\"text-align: right;\">\n",
       "      <th></th>\n",
       "      <th>SLIDE_TYPE</th>\n",
       "      <th>M_WIDTH</th>\n",
       "      <th>S_LENGTH</th>\n",
       "      <th>SLOPE</th>\n",
       "      <th>COVER</th>\n",
       "      <th>YEAR_1</th>\n",
       "      <th>HEADELEV</th>\n",
       "      <th>TAILELEV</th>\n",
       "      <th>ELE_DIFF</th>\n",
       "      <th>GULLY</th>\n",
       "      <th>CLASS</th>\n",
       "      <th>curv_plan</th>\n",
       "      <th>curv_prof</th>\n",
       "      <th>aspect</th>\n",
       "      <th>curv</th>\n",
       "      <th>ID</th>\n",
       "    </tr>\n",
       "  </thead>\n",
       "  <tbody>\n",
       "    <tr>\n",
       "      <th>0</th>\n",
       "      <td>R</td>\n",
       "      <td>14.0</td>\n",
       "      <td>8.0</td>\n",
       "      <td>9999.0</td>\n",
       "      <td>C</td>\n",
       "      <td>1967</td>\n",
       "      <td>9999.0</td>\n",
       "      <td>9999.0</td>\n",
       "      <td>9999.0</td>\n",
       "      <td>N</td>\n",
       "      <td>S</td>\n",
       "      <td>-9999.0</td>\n",
       "      <td>-9999.0</td>\n",
       "      <td>-9999.000</td>\n",
       "      <td>-9999.0</td>\n",
       "      <td>0</td>\n",
       "    </tr>\n",
       "    <tr>\n",
       "      <th>1</th>\n",
       "      <td>R</td>\n",
       "      <td>13.0</td>\n",
       "      <td>6.0</td>\n",
       "      <td>9999.0</td>\n",
       "      <td>C</td>\n",
       "      <td>1967</td>\n",
       "      <td>9999.0</td>\n",
       "      <td>9999.0</td>\n",
       "      <td>9999.0</td>\n",
       "      <td>N</td>\n",
       "      <td>S</td>\n",
       "      <td>-9999.0</td>\n",
       "      <td>-9999.0</td>\n",
       "      <td>-9999.000</td>\n",
       "      <td>-9999.0</td>\n",
       "      <td>1</td>\n",
       "    </tr>\n",
       "    <tr>\n",
       "      <th>2</th>\n",
       "      <td>R</td>\n",
       "      <td>15.0</td>\n",
       "      <td>13.5</td>\n",
       "      <td>9999.0</td>\n",
       "      <td>C</td>\n",
       "      <td>1967</td>\n",
       "      <td>9999.0</td>\n",
       "      <td>9999.0</td>\n",
       "      <td>9999.0</td>\n",
       "      <td>N</td>\n",
       "      <td>S</td>\n",
       "      <td>-9999.0</td>\n",
       "      <td>-9999.0</td>\n",
       "      <td>295.115</td>\n",
       "      <td>-9999.0</td>\n",
       "      <td>2</td>\n",
       "    </tr>\n",
       "    <tr>\n",
       "      <th>3</th>\n",
       "      <td>R</td>\n",
       "      <td>18.0</td>\n",
       "      <td>10.0</td>\n",
       "      <td>9999.0</td>\n",
       "      <td>C</td>\n",
       "      <td>1967</td>\n",
       "      <td>9999.0</td>\n",
       "      <td>9999.0</td>\n",
       "      <td>9999.0</td>\n",
       "      <td>N</td>\n",
       "      <td>S</td>\n",
       "      <td>-9999.0</td>\n",
       "      <td>-9999.0</td>\n",
       "      <td>150.945</td>\n",
       "      <td>-9999.0</td>\n",
       "      <td>3</td>\n",
       "    </tr>\n",
       "    <tr>\n",
       "      <th>4</th>\n",
       "      <td>R</td>\n",
       "      <td>17.0</td>\n",
       "      <td>10.0</td>\n",
       "      <td>9999.0</td>\n",
       "      <td>C</td>\n",
       "      <td>1967</td>\n",
       "      <td>9999.0</td>\n",
       "      <td>9999.0</td>\n",
       "      <td>9999.0</td>\n",
       "      <td>N</td>\n",
       "      <td>S</td>\n",
       "      <td>-9999.0</td>\n",
       "      <td>-9999.0</td>\n",
       "      <td>133.977</td>\n",
       "      <td>-9999.0</td>\n",
       "      <td>4</td>\n",
       "    </tr>\n",
       "  </tbody>\n",
       "</table>\n",
       "</div>"
      ],
      "text/plain": [
       "  SLIDE_TYPE  M_WIDTH  S_LENGTH   SLOPE COVER  YEAR_1  HEADELEV  TAILELEV  \\\n",
       "0          R     14.0       8.0  9999.0     C    1967    9999.0    9999.0   \n",
       "1          R     13.0       6.0  9999.0     C    1967    9999.0    9999.0   \n",
       "2          R     15.0      13.5  9999.0     C    1967    9999.0    9999.0   \n",
       "3          R     18.0      10.0  9999.0     C    1967    9999.0    9999.0   \n",
       "4          R     17.0      10.0  9999.0     C    1967    9999.0    9999.0   \n",
       "\n",
       "   ELE_DIFF GULLY CLASS  curv_plan  curv_prof    aspect    curv  ID  \n",
       "0    9999.0     N     S    -9999.0    -9999.0 -9999.000 -9999.0   0  \n",
       "1    9999.0     N     S    -9999.0    -9999.0 -9999.000 -9999.0   1  \n",
       "2    9999.0     N     S    -9999.0    -9999.0   295.115 -9999.0   2  \n",
       "3    9999.0     N     S    -9999.0    -9999.0   150.945 -9999.0   3  \n",
       "4    9999.0     N     S    -9999.0    -9999.0   133.977 -9999.0   4  "
      ]
     },
     "execution_count": 255,
     "metadata": {},
     "output_type": "execute_result"
    }
   ],
   "source": [
    "data_raw= pd.read_csv('..\\\\rawdata\\\\landslide3.csv')\n",
    "data_raw.head()"
   ]
  },
  {
   "cell_type": "markdown",
   "metadata": {},
   "source": [
    "visualize the ```CLASS``` variable: there is lot of '-' meaning uncategorized landslide. We delete this later because this cause negative impact on model accuracy"
   ]
  },
  {
   "cell_type": "code",
   "execution_count": 256,
   "metadata": {
    "scrolled": true
   },
   "outputs": [
    {
     "name": "stderr",
     "output_type": "stream",
     "text": [
      "D:\\ProgramData\\Anaconda3\\lib\\site-packages\\seaborn\\_decorators.py:36: FutureWarning: Pass the following variable as a keyword arg: x. From version 0.12, the only valid positional argument will be `data`, and passing other arguments without an explicit keyword will result in an error or misinterpretation.\n",
      "  warnings.warn(\n"
     ]
    },
    {
     "data": {
      "text/plain": [
       "<AxesSubplot:xlabel='CLASS', ylabel='count'>"
      ]
     },
     "execution_count": 256,
     "metadata": {},
     "output_type": "execute_result"
    },
    {
     "data": {
      "image/png": "[encoded data removed]",
      "text/plain": [
       "<Figure size 432x288 with 1 Axes>"
      ]
     },
     "metadata": {},
     "output_type": "display_data"
    }
   ],
   "source": [
    "\n",
    "sns.countplot(data_raw['CLASS'] )"
   ]
  },
  {
   "cell_type": "markdown",
   "metadata": {},
   "source": [
    "select 10000 data randomly"
   ]
  },
  {
   "cell_type": "code",
   "execution_count": 257,
   "metadata": {},
   "outputs": [],
   "source": [
    "data=data_raw.sample(n=10000,random_state=1)"
   ]
  },
  {
   "cell_type": "code",
   "execution_count": 258,
   "metadata": {},
   "outputs": [
    {
     "data": {
      "text/plain": [
       "(10000, 16)"
      ]
     },
     "execution_count": 258,
     "metadata": {},
     "output_type": "execute_result"
    }
   ],
   "source": [
    "data.shape"
   ]
  },
  {
   "cell_type": "markdown",
   "metadata": {},
   "source": [
    "delete abnormal values"
   ]
  },
  {
   "cell_type": "code",
   "execution_count": 259,
   "metadata": {},
   "outputs": [
    {
     "name": "stderr",
     "output_type": "stream",
     "text": [
      "C:\\Users\\zheng\\AppData\\Local\\Temp/ipykernel_11876/3306246812.py:12: SettingWithCopyWarning: \n",
      "A value is trying to be set on a copy of a slice from a DataFrame.\n",
      "Try using .loc[row_indexer,col_indexer] = value instead\n",
      "\n",
      "See the caveats in the documentation: https://pandas.pydata.org/pandas-docs/stable/user_guide/indexing.html#returning-a-view-versus-a-copy\n",
      "  data1['history']=2022-data1['YEAR_1']\n",
      "D:\\ProgramData\\Anaconda3\\lib\\site-packages\\seaborn\\_decorators.py:36: FutureWarning: Pass the following variable as a keyword arg: x. From version 0.12, the only valid positional argument will be `data`, and passing other arguments without an explicit keyword will result in an error or misinterpretation.\n",
      "  warnings.warn(\n"
     ]
    },
    {
     "data": {
      "text/plain": [
       "<AxesSubplot:xlabel='SLIDE_TYPE', ylabel='count'>"
      ]
     },
     "execution_count": 259,
     "metadata": {},
     "output_type": "execute_result"
    },
    {
     "data": {
      "image/png": "[encoded data removed]",
      "text/plain": [
       "<Figure size 432x288 with 1 Axes>"
      ]
     },
     "metadata": {},
     "output_type": "display_data"
    }
   ],
   "source": [
    "\n",
    "data1=data[~data['SLOPE'].isin([9999])]\n",
    "data1=data[~data['HEADELEV'].isin([9999])]\n",
    "data1=data[~data['TAILELEV'].isin([9999])]\n",
    "data1=data[~data['ELE_DIFF'].isin([9999])]\n",
    "\n",
    "#there is newly added data from GIS: curv_plan, curv_prof, aspect, curv\n",
    "data1=data[~data['curv_plan'].isin([-9999])]\n",
    "data1=data[~data['curv_prof'].isin([-9999])]\n",
    "data1=data[~data['aspect'].isin([-9999])]\n",
    "data1=data[~data['curv'].isin([-9999])]\n",
    "\n",
    "data1['history']=2022-data1['YEAR_1']\n",
    "data1=data1.drop(['YEAR_1','CLASS','ID'], axis=1)\n",
    "#remove class\n",
    "data2 = pd.get_dummies(data1, columns=['COVER','GULLY'])\n",
    "#Y variable: SLIDE_TYPE\n",
    "def slide_type(slide_type1):\n",
    "    if slide_type1 == 'R':\n",
    "        return 0\n",
    "    elif slide_type1 == 'C':\n",
    "        return 1\n",
    "    elif slide_type1 == 'O':\n",
    "        return 2\n",
    "    else :\n",
    "        return 3\n",
    "    \n",
    "data2['SLIDE_TYPE'] = data2['SLIDE_TYPE'].apply(slide_type)\n",
    "\n",
    "#see the distribution of Y variable\n",
    "sns.countplot(data2['SLIDE_TYPE'] )"
   ]
  },
  {
   "cell_type": "code",
   "execution_count": 260,
   "metadata": {},
   "outputs": [
    {
     "data": {
      "text/plain": [
       "(9240, 18)"
      ]
     },
     "execution_count": 260,
     "metadata": {},
     "output_type": "execute_result"
    }
   ],
   "source": [
    "data2.shape"
   ]
  },
  {
   "cell_type": "code",
   "execution_count": 261,
   "metadata": {},
   "outputs": [
    {
     "name": "stderr",
     "output_type": "stream",
     "text": [
      "C:\\Users\\zheng\\AppData\\Local\\Temp/ipykernel_11876/3010493044.py:1: FutureWarning: The pandas.np module is deprecated and will be removed from pandas in a future version. Import numpy directly instead\n",
      "  col= data2.columns[pd.np.r_[1:18]]\n"
     ]
    }
   ],
   "source": [
    "col= data2.columns[pd.np.r_[1:18]]\n",
    "x = np.array(data2[col])\n",
    "y=np.array(data2['SLIDE_TYPE'])\n",
    "# collect data with train data:test data is 3:7\n",
    "X_train, X_test, y_train, y_test = train_test_split(x,y, test_size = 0.3, stratify = y, random_state = 4)\n"
   ]
  },
  {
   "cell_type": "code",
   "execution_count": 262,
   "metadata": {},
   "outputs": [
    {
     "name": "stdout",
     "output_type": "stream",
     "text": [
      "(9240,)\n",
      "(9240, 17)\n",
      "(6468, 17)\n",
      "(6468,)\n"
     ]
    }
   ],
   "source": [
    "print(y.shape)\n",
    "print(x.shape)\n",
    "print(X_train.shape)\n",
    "print(y_train.shape)"
   ]
  },
  {
   "cell_type": "code",
   "execution_count": 263,
   "metadata": {},
   "outputs": [
    {
     "data": {
      "text/plain": [
       "array([0, 0, 0, 0, 2], dtype=int64)"
      ]
     },
     "execution_count": 263,
     "metadata": {},
     "output_type": "execute_result"
    }
   ],
   "source": [
    "y_train[:5]"
   ]
  },
  {
   "cell_type": "code",
   "execution_count": 264,
   "metadata": {},
   "outputs": [
    {
     "data": {
      "text/plain": [
       "array([[ 1.10000e+01,  6.50000e+00,  2.95000e+01,  2.41000e+02,\n",
       "         2.35000e+02,  6.00000e+00,  3.86668e-02, -5.96217e-02,\n",
       "         1.62341e+02,  9.82885e-02,  5.90000e+01,  0.00000e+00,\n",
       "         0.00000e+00,  1.00000e+00,  0.00000e+00,  1.00000e+00,\n",
       "         0.00000e+00],\n",
       "       [ 7.00000e+00,  8.00000e+00,  6.10000e+01,  5.13000e+02,\n",
       "         5.01000e+02,  1.20000e+01, -3.72750e-01,  1.18693e-01,\n",
       "         3.01087e+02, -4.91442e-01,  5.90000e+01,  0.00000e+00,\n",
       "         0.00000e+00,  1.00000e+00,  0.00000e+00,  1.00000e+00,\n",
       "         0.00000e+00],\n",
       "       [ 1.00000e+01,  1.00000e+01,  3.35000e+01,  3.15000e+02,\n",
       "         3.08000e+02,  7.00000e+00, -8.13650e-02, -4.45068e-02,\n",
       "         3.18085e+02, -3.68582e-02,  5.90000e+01,  0.00000e+00,\n",
       "         0.00000e+00,  1.00000e+00,  0.00000e+00,  1.00000e+00,\n",
       "         0.00000e+00],\n",
       "       [ 1.40000e+01,  1.10000e+01,  2.95000e+01,  1.55000e+02,\n",
       "         1.48000e+02,  7.00000e+00,  6.58958e-02, -9.38230e-02,\n",
       "         7.59464e+00,  1.59719e-01,  5.90000e+01,  0.00000e+00,\n",
       "         0.00000e+00,  0.00000e+00,  1.00000e+00,  1.00000e+00,\n",
       "         0.00000e+00],\n",
       "       [ 6.50000e+00,  3.00000e+00,  2.00000e+01,  3.64000e+02,\n",
       "         3.61000e+02,  3.00000e+00, -1.17281e-02,  1.97135e-01,\n",
       "         1.18921e+02, -2.08863e-01,  2.30000e+01,  1.00000e+00,\n",
       "         0.00000e+00,  0.00000e+00,  0.00000e+00,  1.00000e+00,\n",
       "         0.00000e+00]])"
      ]
     },
     "execution_count": 264,
     "metadata": {},
     "output_type": "execute_result"
    }
   ],
   "source": [
    "X_train[:5,:]"
   ]
  },
  {
   "cell_type": "markdown",
   "metadata": {},
   "source": [
    "the input of gan in ```svd``` package is df, here convert the numpy into df"
   ]
  },
  {
   "cell_type": "code",
   "execution_count": 265,
   "metadata": {},
   "outputs": [
    {
     "name": "stderr",
     "output_type": "stream",
     "text": [
      "C:\\Users\\zheng\\AppData\\Local\\Temp/ipykernel_11876/2506634044.py:3: FutureWarning: The pandas.np module is deprecated and will be removed from pandas in a future version. Import numpy directly instead\n",
      "  train_data=pd.DataFrame(data=original_train,columns=data2.columns[pd.np.r_[:18]])\n"
     ]
    },
    {
     "data": {
      "text/html": [
       "<div>\n",
       "<style scoped>\n",
       "    .dataframe tbody tr th:only-of-type {\n",
       "        vertical-align: middle;\n",
       "    }\n",
       "\n",
       "    .dataframe tbody tr th {\n",
       "        vertical-align: top;\n",
       "    }\n",
       "\n",
       "    .dataframe thead th {\n",
       "        text-align: right;\n",
       "    }\n",
       "</style>\n",
       "<table border=\"1\" class=\"dataframe\">\n",
       "  <thead>\n",
       "    <tr style=\"text-align: right;\">\n",
       "      <th></th>\n",
       "      <th>SLIDE_TYPE</th>\n",
       "      <th>M_WIDTH</th>\n",
       "      <th>S_LENGTH</th>\n",
       "      <th>SLOPE</th>\n",
       "      <th>HEADELEV</th>\n",
       "      <th>TAILELEV</th>\n",
       "      <th>ELE_DIFF</th>\n",
       "      <th>curv_plan</th>\n",
       "      <th>curv_prof</th>\n",
       "      <th>aspect</th>\n",
       "      <th>curv</th>\n",
       "      <th>history</th>\n",
       "      <th>COVER_A</th>\n",
       "      <th>COVER_B</th>\n",
       "      <th>COVER_C</th>\n",
       "      <th>COVER_D</th>\n",
       "      <th>GULLY_N</th>\n",
       "      <th>GULLY_Y</th>\n",
       "    </tr>\n",
       "  </thead>\n",
       "  <tbody>\n",
       "    <tr>\n",
       "      <th>0</th>\n",
       "      <td>0.0</td>\n",
       "      <td>11.0</td>\n",
       "      <td>6.5</td>\n",
       "      <td>29.5</td>\n",
       "      <td>241.0</td>\n",
       "      <td>235.0</td>\n",
       "      <td>6.0</td>\n",
       "      <td>0.038667</td>\n",
       "      <td>-0.059622</td>\n",
       "      <td>162.34100</td>\n",
       "      <td>0.098289</td>\n",
       "      <td>59.0</td>\n",
       "      <td>0.0</td>\n",
       "      <td>0.0</td>\n",
       "      <td>1.0</td>\n",
       "      <td>0.0</td>\n",
       "      <td>1.0</td>\n",
       "      <td>0.0</td>\n",
       "    </tr>\n",
       "    <tr>\n",
       "      <th>1</th>\n",
       "      <td>0.0</td>\n",
       "      <td>7.0</td>\n",
       "      <td>8.0</td>\n",
       "      <td>61.0</td>\n",
       "      <td>513.0</td>\n",
       "      <td>501.0</td>\n",
       "      <td>12.0</td>\n",
       "      <td>-0.372750</td>\n",
       "      <td>0.118693</td>\n",
       "      <td>301.08700</td>\n",
       "      <td>-0.491442</td>\n",
       "      <td>59.0</td>\n",
       "      <td>0.0</td>\n",
       "      <td>0.0</td>\n",
       "      <td>1.0</td>\n",
       "      <td>0.0</td>\n",
       "      <td>1.0</td>\n",
       "      <td>0.0</td>\n",
       "    </tr>\n",
       "    <tr>\n",
       "      <th>2</th>\n",
       "      <td>0.0</td>\n",
       "      <td>10.0</td>\n",
       "      <td>10.0</td>\n",
       "      <td>33.5</td>\n",
       "      <td>315.0</td>\n",
       "      <td>308.0</td>\n",
       "      <td>7.0</td>\n",
       "      <td>-0.081365</td>\n",
       "      <td>-0.044507</td>\n",
       "      <td>318.08500</td>\n",
       "      <td>-0.036858</td>\n",
       "      <td>59.0</td>\n",
       "      <td>0.0</td>\n",
       "      <td>0.0</td>\n",
       "      <td>1.0</td>\n",
       "      <td>0.0</td>\n",
       "      <td>1.0</td>\n",
       "      <td>0.0</td>\n",
       "    </tr>\n",
       "    <tr>\n",
       "      <th>3</th>\n",
       "      <td>0.0</td>\n",
       "      <td>14.0</td>\n",
       "      <td>11.0</td>\n",
       "      <td>29.5</td>\n",
       "      <td>155.0</td>\n",
       "      <td>148.0</td>\n",
       "      <td>7.0</td>\n",
       "      <td>0.065896</td>\n",
       "      <td>-0.093823</td>\n",
       "      <td>7.59464</td>\n",
       "      <td>0.159719</td>\n",
       "      <td>59.0</td>\n",
       "      <td>0.0</td>\n",
       "      <td>0.0</td>\n",
       "      <td>0.0</td>\n",
       "      <td>1.0</td>\n",
       "      <td>1.0</td>\n",
       "      <td>0.0</td>\n",
       "    </tr>\n",
       "    <tr>\n",
       "      <th>4</th>\n",
       "      <td>2.0</td>\n",
       "      <td>6.5</td>\n",
       "      <td>3.0</td>\n",
       "      <td>20.0</td>\n",
       "      <td>364.0</td>\n",
       "      <td>361.0</td>\n",
       "      <td>3.0</td>\n",
       "      <td>-0.011728</td>\n",
       "      <td>0.197135</td>\n",
       "      <td>118.92100</td>\n",
       "      <td>-0.208863</td>\n",
       "      <td>23.0</td>\n",
       "      <td>1.0</td>\n",
       "      <td>0.0</td>\n",
       "      <td>0.0</td>\n",
       "      <td>0.0</td>\n",
       "      <td>1.0</td>\n",
       "      <td>0.0</td>\n",
       "    </tr>\n",
       "  </tbody>\n",
       "</table>\n",
       "</div>"
      ],
      "text/plain": [
       "   SLIDE_TYPE  M_WIDTH  S_LENGTH  SLOPE  HEADELEV  TAILELEV  ELE_DIFF  \\\n",
       "0         0.0     11.0       6.5   29.5     241.0     235.0       6.0   \n",
       "1         0.0      7.0       8.0   61.0     513.0     501.0      12.0   \n",
       "2         0.0     10.0      10.0   33.5     315.0     308.0       7.0   \n",
       "3         0.0     14.0      11.0   29.5     155.0     148.0       7.0   \n",
       "4         2.0      6.5       3.0   20.0     364.0     361.0       3.0   \n",
       "\n",
       "   curv_plan  curv_prof     aspect      curv  history  COVER_A  COVER_B  \\\n",
       "0   0.038667  -0.059622  162.34100  0.098289     59.0      0.0      0.0   \n",
       "1  -0.372750   0.118693  301.08700 -0.491442     59.0      0.0      0.0   \n",
       "2  -0.081365  -0.044507  318.08500 -0.036858     59.0      0.0      0.0   \n",
       "3   0.065896  -0.093823    7.59464  0.159719     59.0      0.0      0.0   \n",
       "4  -0.011728   0.197135  118.92100 -0.208863     23.0      1.0      0.0   \n",
       "\n",
       "   COVER_C  COVER_D  GULLY_N  GULLY_Y  \n",
       "0      1.0      0.0      1.0      0.0  \n",
       "1      1.0      0.0      1.0      0.0  \n",
       "2      1.0      0.0      1.0      0.0  \n",
       "3      0.0      1.0      1.0      0.0  \n",
       "4      0.0      0.0      1.0      0.0  "
      ]
     },
     "execution_count": 265,
     "metadata": {},
     "output_type": "execute_result"
    }
   ],
   "source": [
    "original_train=np.concatenate((y_train.reshape(-1,1),X_train),axis=1)\n",
    "train_data=pd.DataFrame(data=original_train,columns=data2.columns[pd.np.r_[:18]])\n",
    "train_data.head()"
   ]
  },
  {
   "cell_type": "markdown",
   "metadata": {},
   "source": [
    "[Back to Top](#top)\n",
    "<a id=\"pca\"></a>\n",
    "## 1.2 Principal Component Analysis"
   ]
  },
  {
   "cell_type": "markdown",
   "metadata": {},
   "source": [
    "PCA requires scaling/normalization of the data to work properly"
   ]
  },
  {
   "cell_type": "code",
   "execution_count": 346,
   "metadata": {},
   "outputs": [
    {
     "data": {
      "text/plain": [
       "Index(['M_WIDTH', 'S_LENGTH', 'SLOPE', 'HEADELEV', 'TAILELEV', 'ELE_DIFF',\n",
       "       'curv_plan', 'curv_prof', 'aspect', 'curv', 'history', 'COVER_A',\n",
       "       'COVER_B', 'COVER_C', 'COVER_D', 'GULLY_N', 'GULLY_Y'],\n",
       "      dtype='object')"
      ]
     },
     "execution_count": 346,
     "metadata": {},
     "output_type": "execute_result"
    }
   ],
   "source": [
    "from sklearn.preprocessing import StandardScaler\n",
    "scaler = StandardScaler()\n",
    "x = scaler.fit_transform(x)\n",
    "\n",
    "from sklearn.decomposition import PCA\n",
    "pca = PCA(n_components=None)\n",
    "dfx = pd.DataFrame(data=x,columns=data2.columns[1:]) \n",
    "dfx_pca = pca.fit(dfx)\n",
    "\n",
    "data2.columns[1:]"
   ]
  },
  {
   "cell_type": "code",
   "execution_count": 347,
   "metadata": {},
   "outputs": [
    {
     "data": {
      "text/html": [
       "<div>\n",
       "<style scoped>\n",
       "    .dataframe tbody tr th:only-of-type {\n",
       "        vertical-align: middle;\n",
       "    }\n",
       "\n",
       "    .dataframe tbody tr th {\n",
       "        vertical-align: top;\n",
       "    }\n",
       "\n",
       "    .dataframe thead th {\n",
       "        text-align: right;\n",
       "    }\n",
       "</style>\n",
       "<table border=\"1\" class=\"dataframe\">\n",
       "  <thead>\n",
       "    <tr style=\"text-align: right;\">\n",
       "      <th></th>\n",
       "      <th>M_WIDTH</th>\n",
       "      <th>S_LENGTH</th>\n",
       "      <th>SLOPE</th>\n",
       "      <th>HEADELEV</th>\n",
       "      <th>TAILELEV</th>\n",
       "      <th>ELE_DIFF</th>\n",
       "      <th>curv_plan</th>\n",
       "      <th>curv_prof</th>\n",
       "      <th>aspect</th>\n",
       "      <th>curv</th>\n",
       "      <th>history</th>\n",
       "      <th>COVER_A</th>\n",
       "      <th>COVER_B</th>\n",
       "      <th>COVER_C</th>\n",
       "      <th>COVER_D</th>\n",
       "      <th>GULLY_N</th>\n",
       "      <th>GULLY_Y</th>\n",
       "    </tr>\n",
       "  </thead>\n",
       "  <tbody>\n",
       "    <tr>\n",
       "      <th>0</th>\n",
       "      <td>-0.343142</td>\n",
       "      <td>-0.528932</td>\n",
       "      <td>-0.182866</td>\n",
       "      <td>-0.131306</td>\n",
       "      <td>-0.130674</td>\n",
       "      <td>-0.200463</td>\n",
       "      <td>2.371016</td>\n",
       "      <td>-2.430549</td>\n",
       "      <td>0.348360</td>\n",
       "      <td>2.721795</td>\n",
       "      <td>0.370305</td>\n",
       "      <td>-0.471919</td>\n",
       "      <td>-0.173825</td>\n",
       "      <td>0.709346</td>\n",
       "      <td>-0.374967</td>\n",
       "      <td>0.178721</td>\n",
       "      <td>-0.178721</td>\n",
       "    </tr>\n",
       "    <tr>\n",
       "      <th>1</th>\n",
       "      <td>-0.509529</td>\n",
       "      <td>0.406550</td>\n",
       "      <td>-0.185367</td>\n",
       "      <td>-0.211413</td>\n",
       "      <td>-0.211764</td>\n",
       "      <td>-0.198886</td>\n",
       "      <td>-0.618278</td>\n",
       "      <td>0.517939</td>\n",
       "      <td>0.263299</td>\n",
       "      <td>-0.647116</td>\n",
       "      <td>0.370305</td>\n",
       "      <td>-0.471919</td>\n",
       "      <td>-0.173825</td>\n",
       "      <td>-1.409749</td>\n",
       "      <td>2.666904</td>\n",
       "      <td>0.178721</td>\n",
       "      <td>-0.178721</td>\n",
       "    </tr>\n",
       "    <tr>\n",
       "      <th>2</th>\n",
       "      <td>0.571985</td>\n",
       "      <td>1.903321</td>\n",
       "      <td>-0.190647</td>\n",
       "      <td>-0.208028</td>\n",
       "      <td>-0.208408</td>\n",
       "      <td>-0.198886</td>\n",
       "      <td>0.133016</td>\n",
       "      <td>-0.460818</td>\n",
       "      <td>0.264321</td>\n",
       "      <td>0.328097</td>\n",
       "      <td>0.370305</td>\n",
       "      <td>-0.471919</td>\n",
       "      <td>-0.173825</td>\n",
       "      <td>-1.409749</td>\n",
       "      <td>2.666904</td>\n",
       "      <td>0.178721</td>\n",
       "      <td>-0.178721</td>\n",
       "    </tr>\n",
       "    <tr>\n",
       "      <th>3</th>\n",
       "      <td>0.488792</td>\n",
       "      <td>0.219453</td>\n",
       "      <td>-0.190369</td>\n",
       "      <td>-0.256543</td>\n",
       "      <td>-0.255385</td>\n",
       "      <td>-0.199938</td>\n",
       "      <td>1.116044</td>\n",
       "      <td>0.454935</td>\n",
       "      <td>0.283347</td>\n",
       "      <td>0.416753</td>\n",
       "      <td>0.370305</td>\n",
       "      <td>-0.471919</td>\n",
       "      <td>-0.173825</td>\n",
       "      <td>-1.409749</td>\n",
       "      <td>2.666904</td>\n",
       "      <td>0.178721</td>\n",
       "      <td>-0.178721</td>\n",
       "    </tr>\n",
       "    <tr>\n",
       "      <th>4</th>\n",
       "      <td>1.237532</td>\n",
       "      <td>-0.435384</td>\n",
       "      <td>-0.182310</td>\n",
       "      <td>-0.297160</td>\n",
       "      <td>-0.296209</td>\n",
       "      <td>-0.199412</td>\n",
       "      <td>-0.069077</td>\n",
       "      <td>1.449178</td>\n",
       "      <td>-3.369837</td>\n",
       "      <td>-0.824429</td>\n",
       "      <td>0.370305</td>\n",
       "      <td>-0.471919</td>\n",
       "      <td>-0.173825</td>\n",
       "      <td>0.709346</td>\n",
       "      <td>-0.374967</td>\n",
       "      <td>0.178721</td>\n",
       "      <td>-0.178721</td>\n",
       "    </tr>\n",
       "  </tbody>\n",
       "</table>\n",
       "</div>"
      ],
      "text/plain": [
       "    M_WIDTH  S_LENGTH     SLOPE  HEADELEV  TAILELEV  ELE_DIFF  curv_plan  \\\n",
       "0 -0.343142 -0.528932 -0.182866 -0.131306 -0.130674 -0.200463   2.371016   \n",
       "1 -0.509529  0.406550 -0.185367 -0.211413 -0.211764 -0.198886  -0.618278   \n",
       "2  0.571985  1.903321 -0.190647 -0.208028 -0.208408 -0.198886   0.133016   \n",
       "3  0.488792  0.219453 -0.190369 -0.256543 -0.255385 -0.199938   1.116044   \n",
       "4  1.237532 -0.435384 -0.182310 -0.297160 -0.296209 -0.199412  -0.069077   \n",
       "\n",
       "   curv_prof    aspect      curv   history   COVER_A   COVER_B   COVER_C  \\\n",
       "0  -2.430549  0.348360  2.721795  0.370305 -0.471919 -0.173825  0.709346   \n",
       "1   0.517939  0.263299 -0.647116  0.370305 -0.471919 -0.173825 -1.409749   \n",
       "2  -0.460818  0.264321  0.328097  0.370305 -0.471919 -0.173825 -1.409749   \n",
       "3   0.454935  0.283347  0.416753  0.370305 -0.471919 -0.173825 -1.409749   \n",
       "4   1.449178 -3.369837 -0.824429  0.370305 -0.471919 -0.173825  0.709346   \n",
       "\n",
       "    COVER_D   GULLY_N   GULLY_Y  \n",
       "0 -0.374967  0.178721 -0.178721  \n",
       "1  2.666904  0.178721 -0.178721  \n",
       "2  2.666904  0.178721 -0.178721  \n",
       "3  2.666904  0.178721 -0.178721  \n",
       "4 -0.374967  0.178721 -0.178721  "
      ]
     },
     "execution_count": 347,
     "metadata": {},
     "output_type": "execute_result"
    }
   ],
   "source": [
    "dfx.head()"
   ]
  },
  {
   "cell_type": "markdown",
   "metadata": {},
   "source": [
    "Plot the explained variance ratio"
   ]
  },
  {
   "cell_type": "code",
   "execution_count": 348,
   "metadata": {},
   "outputs": [
    {
     "data": {
      "image/png": "[encoded data removed]",
      "text/plain": [
       "<Figure size 720x432 with 1 Axes>"
      ]
     },
     "metadata": {},
     "output_type": "display_data"
    }
   ],
   "source": [
    "plt.figure(figsize=(10,6))\n",
    "plt.scatter(x=[i+1 for i in range(len(dfx_pca.explained_variance_ratio_))],\n",
    "            y=dfx_pca.explained_variance_ratio_,\n",
    "           s=200, alpha=0.75,c='orange',edgecolor='k')\n",
    "plt.grid(True)\n",
    "plt.title(\"Explained variance ratio of the \\nfitted principal component vector\\n\",fontsize=25)\n",
    "plt.xlabel(\"Principal components\",fontsize=15)\n",
    "plt.xticks([i+1 for i in range(len(dfx_pca.explained_variance_ratio_))],fontsize=15)\n",
    "plt.yticks(fontsize=15)\n",
    "plt.ylabel(\"Explained variance ratio\",fontsize=15)\n",
    "plt.show()"
   ]
  },
  {
   "cell_type": "markdown",
   "metadata": {},
   "source": [
    "Showing better class separation using principal components"
   ]
  },
  {
   "cell_type": "code",
   "execution_count": 349,
   "metadata": {},
   "outputs": [
    {
     "data": {
      "text/html": [
       "<div>\n",
       "<style scoped>\n",
       "    .dataframe tbody tr th:only-of-type {\n",
       "        vertical-align: middle;\n",
       "    }\n",
       "\n",
       "    .dataframe tbody tr th {\n",
       "        vertical-align: top;\n",
       "    }\n",
       "\n",
       "    .dataframe thead th {\n",
       "        text-align: right;\n",
       "    }\n",
       "</style>\n",
       "<table border=\"1\" class=\"dataframe\">\n",
       "  <thead>\n",
       "    <tr style=\"text-align: right;\">\n",
       "      <th></th>\n",
       "      <th>0</th>\n",
       "      <th>1</th>\n",
       "      <th>2</th>\n",
       "      <th>3</th>\n",
       "      <th>4</th>\n",
       "      <th>5</th>\n",
       "      <th>6</th>\n",
       "      <th>7</th>\n",
       "      <th>8</th>\n",
       "      <th>9</th>\n",
       "      <th>10</th>\n",
       "      <th>11</th>\n",
       "      <th>12</th>\n",
       "      <th>13</th>\n",
       "      <th>14</th>\n",
       "      <th>15</th>\n",
       "      <th>16</th>\n",
       "    </tr>\n",
       "  </thead>\n",
       "  <tbody>\n",
       "    <tr>\n",
       "      <th>0</th>\n",
       "      <td>-0.155654</td>\n",
       "      <td>4.394332</td>\n",
       "      <td>0.454459</td>\n",
       "      <td>-0.035403</td>\n",
       "      <td>-0.940397</td>\n",
       "      <td>-0.364626</td>\n",
       "      <td>-0.196920</td>\n",
       "      <td>0.206928</td>\n",
       "      <td>0.065572</td>\n",
       "      <td>-0.075733</td>\n",
       "      <td>-0.097198</td>\n",
       "      <td>-0.017951</td>\n",
       "      <td>-0.024413</td>\n",
       "      <td>0.022378</td>\n",
       "      <td>5.770082e-06</td>\n",
       "      <td>1.664454e-16</td>\n",
       "      <td>-4.695335e-16</td>\n",
       "    </tr>\n",
       "    <tr>\n",
       "      <th>1</th>\n",
       "      <td>-0.396999</td>\n",
       "      <td>-1.029348</td>\n",
       "      <td>-0.168492</td>\n",
       "      <td>-0.603909</td>\n",
       "      <td>2.229982</td>\n",
       "      <td>-2.069486</td>\n",
       "      <td>-0.306575</td>\n",
       "      <td>-0.172004</td>\n",
       "      <td>-0.495523</td>\n",
       "      <td>0.047238</td>\n",
       "      <td>-0.206490</td>\n",
       "      <td>0.013552</td>\n",
       "      <td>0.018981</td>\n",
       "      <td>-0.017092</td>\n",
       "      <td>-2.335336e-08</td>\n",
       "      <td>1.664454e-16</td>\n",
       "      <td>5.782247e-17</td>\n",
       "    </tr>\n",
       "    <tr>\n",
       "      <th>2</th>\n",
       "      <td>-0.286981</td>\n",
       "      <td>0.540284</td>\n",
       "      <td>0.468846</td>\n",
       "      <td>-0.430768</td>\n",
       "      <td>3.409487</td>\n",
       "      <td>-0.992680</td>\n",
       "      <td>0.081924</td>\n",
       "      <td>0.242801</td>\n",
       "      <td>-0.775209</td>\n",
       "      <td>-0.057588</td>\n",
       "      <td>-0.115169</td>\n",
       "      <td>0.023231</td>\n",
       "      <td>0.010551</td>\n",
       "      <td>-0.013055</td>\n",
       "      <td>-5.530673e-07</td>\n",
       "      <td>3.052233e-16</td>\n",
       "      <td>5.782247e-17</td>\n",
       "    </tr>\n",
       "    <tr>\n",
       "      <th>3</th>\n",
       "      <td>-0.398832</td>\n",
       "      <td>0.626065</td>\n",
       "      <td>0.035166</td>\n",
       "      <td>-0.475603</td>\n",
       "      <td>2.578522</td>\n",
       "      <td>-1.716386</td>\n",
       "      <td>-0.255723</td>\n",
       "      <td>-0.030321</td>\n",
       "      <td>0.682409</td>\n",
       "      <td>0.897715</td>\n",
       "      <td>-0.199669</td>\n",
       "      <td>-0.009517</td>\n",
       "      <td>0.042701</td>\n",
       "      <td>-0.040376</td>\n",
       "      <td>2.242164e-08</td>\n",
       "      <td>1.386899e-16</td>\n",
       "      <td>5.782247e-17</td>\n",
       "    </tr>\n",
       "    <tr>\n",
       "      <th>4</th>\n",
       "      <td>-0.458021</td>\n",
       "      <td>-1.285294</td>\n",
       "      <td>1.210280</td>\n",
       "      <td>-0.079778</td>\n",
       "      <td>-0.177799</td>\n",
       "      <td>1.053051</td>\n",
       "      <td>1.262186</td>\n",
       "      <td>-2.979866</td>\n",
       "      <td>1.363848</td>\n",
       "      <td>0.609905</td>\n",
       "      <td>-0.152793</td>\n",
       "      <td>-0.032529</td>\n",
       "      <td>0.042881</td>\n",
       "      <td>-0.060860</td>\n",
       "      <td>-9.793621e-08</td>\n",
       "      <td>-3.331549e-16</td>\n",
       "      <td>5.574228e-16</td>\n",
       "    </tr>\n",
       "  </tbody>\n",
       "</table>\n",
       "</div>"
      ],
      "text/plain": [
       "         0         1         2         3         4         5         6   \\\n",
       "0 -0.155654  4.394332  0.454459 -0.035403 -0.940397 -0.364626 -0.196920   \n",
       "1 -0.396999 -1.029348 -0.168492 -0.603909  2.229982 -2.069486 -0.306575   \n",
       "2 -0.286981  0.540284  0.468846 -0.430768  3.409487 -0.992680  0.081924   \n",
       "3 -0.398832  0.626065  0.035166 -0.475603  2.578522 -1.716386 -0.255723   \n",
       "4 -0.458021 -1.285294  1.210280 -0.079778 -0.177799  1.053051  1.262186   \n",
       "\n",
       "         7         8         9         10        11        12        13  \\\n",
       "0  0.206928  0.065572 -0.075733 -0.097198 -0.017951 -0.024413  0.022378   \n",
       "1 -0.172004 -0.495523  0.047238 -0.206490  0.013552  0.018981 -0.017092   \n",
       "2  0.242801 -0.775209 -0.057588 -0.115169  0.023231  0.010551 -0.013055   \n",
       "3 -0.030321  0.682409  0.897715 -0.199669 -0.009517  0.042701 -0.040376   \n",
       "4 -2.979866  1.363848  0.609905 -0.152793 -0.032529  0.042881 -0.060860   \n",
       "\n",
       "             14            15            16  \n",
       "0  5.770082e-06  1.664454e-16 -4.695335e-16  \n",
       "1 -2.335336e-08  1.664454e-16  5.782247e-17  \n",
       "2 -5.530673e-07  3.052233e-16  5.782247e-17  \n",
       "3  2.242164e-08  1.386899e-16  5.782247e-17  \n",
       "4 -9.793621e-08 -3.331549e-16  5.574228e-16  "
      ]
     },
     "execution_count": 349,
     "metadata": {},
     "output_type": "execute_result"
    }
   ],
   "source": [
    "dfx_trans = pca.transform(dfx)\n",
    "dfx_trans = pd.DataFrame(data=dfx_trans)\n",
    "dfx_trans.head()"
   ]
  },
  {
   "cell_type": "markdown",
   "metadata": {},
   "source": [
    "Plot the first two columns of this transformed data set with the color set to original ground truth class label"
   ]
  },
  {
   "cell_type": "code",
   "execution_count": 350,
   "metadata": {},
   "outputs": [
    {
     "data": {
      "image/png": "[encoded data removed]",
      "text/plain": [
       "<Figure size 720x432 with 1 Axes>"
      ]
     },
     "metadata": {},
     "output_type": "display_data"
    }
   ],
   "source": [
    "finalDf = pd.concat([dfx_trans, data2['SLIDE_TYPE']], axis = 1)\n",
    "\n",
    "fig, ax = plt.subplots(figsize=(10,6))\n",
    "x0 = finalDf[finalDf['SLIDE_TYPE']==0]\n",
    "x1 = finalDf[finalDf['SLIDE_TYPE']==1]\n",
    "x2 = finalDf[finalDf['SLIDE_TYPE']==2]\n",
    "x3 = finalDf[finalDf['SLIDE_TYPE']==3]\n",
    "\n",
    "plt.title(\"Different types of landslide in large dataset\\n\",fontsize=20)\n",
    "plt.xlabel(\"Principal component-1\",fontsize=15)\n",
    "plt.ylabel(\"Principal component-2\",fontsize=15)\n",
    "\n",
    "plt.scatter(x0[0], x0[1], c=\"salmon\", marker='*', label='relict landslide')\n",
    "plt.scatter(x1[0], x1[1], c=\"limegreen\", marker='*', label='recent channelized debris flow')\n",
    "plt.scatter(x2[0], x2[1], c=\"aqua\", marker='*', label='recent open hillslope landslide')\n",
    "plt.scatter(x3[0], x3[1], c=\"orange\", marker='*', label='recent coastal landslide')\n",
    "\n",
    "plt.legend(loc=2, prop = {'size':15})\n",
    "ax.grid(True)"
   ]
  },
  {
   "cell_type": "markdown",
   "metadata": {},
   "source": [
    "[Back to Top](#top)\n",
    "<a id=\"gan\"></a>\n",
    "# 2. Train the GAN model "
   ]
  },
  {
   "cell_type": "markdown",
   "metadata": {},
   "source": [
    "we train gan model according to original train_data and tune the parameter according to ref doc: https://sdv.dev/SDV/user_guides/single_table/ctgan.html"
   ]
  },
  {
   "cell_type": "code",
   "execution_count": 268,
   "metadata": {},
   "outputs": [
    {
     "name": "stderr",
     "output_type": "stream",
     "text": [
      "D:\\ProgramData\\Anaconda3\\lib\\site-packages\\sklearn\\mixture\\_base.py:147: ConvergenceWarning: Number of distinct clusters (4) found smaller than n_clusters (10). Possibly due to duplicate points in X.\n",
      "  label = cluster.KMeans(n_clusters=self.n_components, n_init=1,\n",
      "D:\\ProgramData\\Anaconda3\\lib\\site-packages\\sklearn\\mixture\\_base.py:265: ConvergenceWarning: Initialization 1 did not converge. Try different init parameters, or increase max_iter, tol or check for degenerate data.\n",
      "  warnings.warn('Initialization %d did not converge. '\n",
      "D:\\ProgramData\\Anaconda3\\lib\\site-packages\\sklearn\\mixture\\_base.py:265: ConvergenceWarning: Initialization 1 did not converge. Try different init parameters, or increase max_iter, tol or check for degenerate data.\n",
      "  warnings.warn('Initialization %d did not converge. '\n",
      "D:\\ProgramData\\Anaconda3\\lib\\site-packages\\sklearn\\mixture\\_base.py:265: ConvergenceWarning: Initialization 1 did not converge. Try different init parameters, or increase max_iter, tol or check for degenerate data.\n",
      "  warnings.warn('Initialization %d did not converge. '\n",
      "D:\\ProgramData\\Anaconda3\\lib\\site-packages\\sklearn\\mixture\\_base.py:265: ConvergenceWarning: Initialization 1 did not converge. Try different init parameters, or increase max_iter, tol or check for degenerate data.\n",
      "  warnings.warn('Initialization %d did not converge. '\n",
      "D:\\ProgramData\\Anaconda3\\lib\\site-packages\\sklearn\\mixture\\_base.py:265: ConvergenceWarning: Initialization 1 did not converge. Try different init parameters, or increase max_iter, tol or check for degenerate data.\n",
      "  warnings.warn('Initialization %d did not converge. '\n",
      "D:\\ProgramData\\Anaconda3\\lib\\site-packages\\sklearn\\mixture\\_base.py:265: ConvergenceWarning: Initialization 1 did not converge. Try different init parameters, or increase max_iter, tol or check for degenerate data.\n",
      "  warnings.warn('Initialization %d did not converge. '\n",
      "D:\\ProgramData\\Anaconda3\\lib\\site-packages\\sklearn\\mixture\\_base.py:265: ConvergenceWarning: Initialization 1 did not converge. Try different init parameters, or increase max_iter, tol or check for degenerate data.\n",
      "  warnings.warn('Initialization %d did not converge. '\n",
      "D:\\ProgramData\\Anaconda3\\lib\\site-packages\\ctgan\\data_transformer.py:111: SettingWithCopyWarning: \n",
      "A value is trying to be set on a copy of a slice from a DataFrame.\n",
      "Try using .loc[row_indexer,col_indexer] = value instead\n",
      "\n",
      "See the caveats in the documentation: https://pandas.pydata.org/pandas-docs/stable/user_guide/indexing.html#returning-a-view-versus-a-copy\n",
      "  data[column_name] = data[column_name].to_numpy().flatten()\n",
      "D:\\ProgramData\\Anaconda3\\lib\\site-packages\\ctgan\\data_transformer.py:111: SettingWithCopyWarning: \n",
      "A value is trying to be set on a copy of a slice from a DataFrame.\n",
      "Try using .loc[row_indexer,col_indexer] = value instead\n",
      "\n",
      "See the caveats in the documentation: https://pandas.pydata.org/pandas-docs/stable/user_guide/indexing.html#returning-a-view-versus-a-copy\n",
      "  data[column_name] = data[column_name].to_numpy().flatten()\n",
      "D:\\ProgramData\\Anaconda3\\lib\\site-packages\\ctgan\\data_transformer.py:111: SettingWithCopyWarning: \n",
      "A value is trying to be set on a copy of a slice from a DataFrame.\n",
      "Try using .loc[row_indexer,col_indexer] = value instead\n",
      "\n",
      "See the caveats in the documentation: https://pandas.pydata.org/pandas-docs/stable/user_guide/indexing.html#returning-a-view-versus-a-copy\n",
      "  data[column_name] = data[column_name].to_numpy().flatten()\n",
      "D:\\ProgramData\\Anaconda3\\lib\\site-packages\\ctgan\\data_transformer.py:111: SettingWithCopyWarning: \n",
      "A value is trying to be set on a copy of a slice from a DataFrame.\n",
      "Try using .loc[row_indexer,col_indexer] = value instead\n",
      "\n",
      "See the caveats in the documentation: https://pandas.pydata.org/pandas-docs/stable/user_guide/indexing.html#returning-a-view-versus-a-copy\n",
      "  data[column_name] = data[column_name].to_numpy().flatten()\n",
      "D:\\ProgramData\\Anaconda3\\lib\\site-packages\\ctgan\\data_transformer.py:111: SettingWithCopyWarning: \n",
      "A value is trying to be set on a copy of a slice from a DataFrame.\n",
      "Try using .loc[row_indexer,col_indexer] = value instead\n",
      "\n",
      "See the caveats in the documentation: https://pandas.pydata.org/pandas-docs/stable/user_guide/indexing.html#returning-a-view-versus-a-copy\n",
      "  data[column_name] = data[column_name].to_numpy().flatten()\n",
      "D:\\ProgramData\\Anaconda3\\lib\\site-packages\\ctgan\\data_transformer.py:111: SettingWithCopyWarning: \n",
      "A value is trying to be set on a copy of a slice from a DataFrame.\n",
      "Try using .loc[row_indexer,col_indexer] = value instead\n",
      "\n",
      "See the caveats in the documentation: https://pandas.pydata.org/pandas-docs/stable/user_guide/indexing.html#returning-a-view-versus-a-copy\n",
      "  data[column_name] = data[column_name].to_numpy().flatten()\n",
      "D:\\ProgramData\\Anaconda3\\lib\\site-packages\\ctgan\\data_transformer.py:111: SettingWithCopyWarning: \n",
      "A value is trying to be set on a copy of a slice from a DataFrame.\n",
      "Try using .loc[row_indexer,col_indexer] = value instead\n",
      "\n",
      "See the caveats in the documentation: https://pandas.pydata.org/pandas-docs/stable/user_guide/indexing.html#returning-a-view-versus-a-copy\n",
      "  data[column_name] = data[column_name].to_numpy().flatten()\n",
      "D:\\ProgramData\\Anaconda3\\lib\\site-packages\\ctgan\\data_transformer.py:111: SettingWithCopyWarning: \n",
      "A value is trying to be set on a copy of a slice from a DataFrame.\n",
      "Try using .loc[row_indexer,col_indexer] = value instead\n",
      "\n",
      "See the caveats in the documentation: https://pandas.pydata.org/pandas-docs/stable/user_guide/indexing.html#returning-a-view-versus-a-copy\n",
      "  data[column_name] = data[column_name].to_numpy().flatten()\n",
      "D:\\ProgramData\\Anaconda3\\lib\\site-packages\\ctgan\\data_transformer.py:111: SettingWithCopyWarning: \n",
      "A value is trying to be set on a copy of a slice from a DataFrame.\n",
      "Try using .loc[row_indexer,col_indexer] = value instead\n",
      "\n",
      "See the caveats in the documentation: https://pandas.pydata.org/pandas-docs/stable/user_guide/indexing.html#returning-a-view-versus-a-copy\n",
      "  data[column_name] = data[column_name].to_numpy().flatten()\n",
      "D:\\ProgramData\\Anaconda3\\lib\\site-packages\\ctgan\\data_transformer.py:111: SettingWithCopyWarning: \n",
      "A value is trying to be set on a copy of a slice from a DataFrame.\n",
      "Try using .loc[row_indexer,col_indexer] = value instead\n",
      "\n",
      "See the caveats in the documentation: https://pandas.pydata.org/pandas-docs/stable/user_guide/indexing.html#returning-a-view-versus-a-copy\n",
      "  data[column_name] = data[column_name].to_numpy().flatten()\n",
      "D:\\ProgramData\\Anaconda3\\lib\\site-packages\\ctgan\\data_transformer.py:111: SettingWithCopyWarning: \n",
      "A value is trying to be set on a copy of a slice from a DataFrame.\n",
      "Try using .loc[row_indexer,col_indexer] = value instead\n",
      "\n",
      "See the caveats in the documentation: https://pandas.pydata.org/pandas-docs/stable/user_guide/indexing.html#returning-a-view-versus-a-copy\n",
      "  data[column_name] = data[column_name].to_numpy().flatten()\n",
      "D:\\ProgramData\\Anaconda3\\lib\\site-packages\\ctgan\\data_transformer.py:111: SettingWithCopyWarning: \n",
      "A value is trying to be set on a copy of a slice from a DataFrame.\n",
      "Try using .loc[row_indexer,col_indexer] = value instead\n",
      "\n",
      "See the caveats in the documentation: https://pandas.pydata.org/pandas-docs/stable/user_guide/indexing.html#returning-a-view-versus-a-copy\n",
      "  data[column_name] = data[column_name].to_numpy().flatten()\n"
     ]
    }
   ],
   "source": [
    "#if you have GPU, cuda = True, else cuda = False \n",
    "model = CTGAN(cuda=True)\n",
    "\n",
    "model.fit(train_data)"
   ]
  },
  {
   "cell_type": "code",
   "execution_count": 269,
   "metadata": {},
   "outputs": [
    {
     "data": {
      "text/plain": [
       "(6468, 18)"
      ]
     },
     "execution_count": 269,
     "metadata": {},
     "output_type": "execute_result"
    }
   ],
   "source": [
    "original_train.shape"
   ]
  },
  {
   "cell_type": "markdown",
   "metadata": {},
   "source": [
    "save and load the GAN model"
   ]
  },
  {
   "cell_type": "code",
   "execution_count": 270,
   "metadata": {},
   "outputs": [],
   "source": [
    "# once you decide to use previous model, just load it, you don't need to train it again! \n",
    "model.save('new_trial\\\\my_model.pkl')"
   ]
  },
  {
   "cell_type": "code",
   "execution_count": 271,
   "metadata": {},
   "outputs": [],
   "source": [
    "loaded = CTGAN.load('new_trial\\\\my_model.pkl')"
   ]
  },
  {
   "cell_type": "markdown",
   "metadata": {},
   "source": [
    "generate new data, the original data: new data = 1:1 "
   ]
  },
  {
   "cell_type": "code",
   "execution_count": 272,
   "metadata": {},
   "outputs": [],
   "source": [
    "new_data = loaded.sample(num_rows=train_data.shape[0])"
   ]
  },
  {
   "cell_type": "code",
   "execution_count": 273,
   "metadata": {},
   "outputs": [
    {
     "data": {
      "text/plain": [
       "(6468, 18)"
      ]
     },
     "execution_count": 273,
     "metadata": {},
     "output_type": "execute_result"
    }
   ],
   "source": [
    "new_data.shape"
   ]
  },
  {
   "cell_type": "markdown",
   "metadata": {},
   "source": [
    "label ditribution in sythetic data and tune the parameter according to the this plot"
   ]
  },
  {
   "cell_type": "code",
   "execution_count": 274,
   "metadata": {},
   "outputs": [
    {
     "name": "stderr",
     "output_type": "stream",
     "text": [
      "D:\\ProgramData\\Anaconda3\\lib\\site-packages\\seaborn\\_decorators.py:36: FutureWarning: Pass the following variable as a keyword arg: x. From version 0.12, the only valid positional argument will be `data`, and passing other arguments without an explicit keyword will result in an error or misinterpretation.\n",
      "  warnings.warn(\n"
     ]
    },
    {
     "data": {
      "text/plain": [
       "<AxesSubplot:xlabel='SLIDE_TYPE', ylabel='count'>"
      ]
     },
     "execution_count": 274,
     "metadata": {},
     "output_type": "execute_result"
    },
    {
     "data": {
      "image/png": "[encoded data removed]",
      "text/plain": [
       "<Figure size 432x288 with 1 Axes>"
      ]
     },
     "metadata": {},
     "output_type": "display_data"
    }
   ],
   "source": [
    "sns.countplot(new_data['SLIDE_TYPE'] )"
   ]
  },
  {
   "cell_type": "markdown",
   "metadata": {},
   "source": [
    "evaluate the data generated from GAN (ref doc: https://sdv.dev/SDV/user_guides/evaluation/index.html#evaluation)"
   ]
  },
  {
   "cell_type": "code",
   "execution_count": 275,
   "metadata": {},
   "outputs": [
    {
     "name": "stderr",
     "output_type": "stream",
     "text": [
      "D:\\ProgramData\\Anaconda3\\lib\\site-packages\\sklearn\\linear_model\\_logistic.py:763: ConvergenceWarning: lbfgs failed to converge (status=1):\n",
      "STOP: TOTAL NO. of ITERATIONS REACHED LIMIT.\n",
      "\n",
      "Increase the number of iterations (max_iter) or scale the data as shown in:\n",
      "    https://scikit-learn.org/stable/modules/preprocessing.html\n",
      "Please also refer to the documentation for alternative solver options:\n",
      "    https://scikit-learn.org/stable/modules/linear_model.html#logistic-regression\n",
      "  n_iter_i = _check_optimize_result(\n",
      "D:\\ProgramData\\Anaconda3\\lib\\site-packages\\sklearn\\linear_model\\_logistic.py:763: ConvergenceWarning: lbfgs failed to converge (status=1):\n",
      "STOP: TOTAL NO. of ITERATIONS REACHED LIMIT.\n",
      "\n",
      "Increase the number of iterations (max_iter) or scale the data as shown in:\n",
      "    https://scikit-learn.org/stable/modules/preprocessing.html\n",
      "Please also refer to the documentation for alternative solver options:\n",
      "    https://scikit-learn.org/stable/modules/linear_model.html#logistic-regression\n",
      "  n_iter_i = _check_optimize_result(\n",
      "D:\\ProgramData\\Anaconda3\\lib\\site-packages\\sklearn\\linear_model\\_logistic.py:763: ConvergenceWarning: lbfgs failed to converge (status=1):\n",
      "STOP: TOTAL NO. of ITERATIONS REACHED LIMIT.\n",
      "\n",
      "Increase the number of iterations (max_iter) or scale the data as shown in:\n",
      "    https://scikit-learn.org/stable/modules/preprocessing.html\n",
      "Please also refer to the documentation for alternative solver options:\n",
      "    https://scikit-learn.org/stable/modules/linear_model.html#logistic-regression\n",
      "  n_iter_i = _check_optimize_result(\n",
      "D:\\ProgramData\\Anaconda3\\lib\\site-packages\\sdmetrics\\base.py:97: RuntimeWarning: overflow encountered in exp\n",
      "  score = 1 / (1 + np.exp(-raw_score))\n",
      "D:\\ProgramData\\Anaconda3\\lib\\site-packages\\sdmetrics\\column_pairs\\statistical\\kl_divergence.py:51: SettingWithCopyWarning: \n",
      "A value is trying to be set on a copy of a slice from a DataFrame.\n",
      "Try using .loc[row_indexer,col_indexer] = value instead\n",
      "\n",
      "See the caveats in the documentation: https://pandas.pydata.org/pandas-docs/stable/user_guide/indexing.html#returning-a-view-versus-a-copy\n",
      "  real_data[pd.isna(real_data)] = 0.0\n",
      "D:\\ProgramData\\Anaconda3\\lib\\site-packages\\pandas\\core\\frame.py:3718: SettingWithCopyWarning: \n",
      "A value is trying to be set on a copy of a slice from a DataFrame\n",
      "\n",
      "See the caveats in the documentation: https://pandas.pydata.org/pandas-docs/stable/user_guide/indexing.html#returning-a-view-versus-a-copy\n",
      "  self._where(-key, value, inplace=True)\n",
      "D:\\ProgramData\\Anaconda3\\lib\\site-packages\\sdmetrics\\column_pairs\\statistical\\kl_divergence.py:52: SettingWithCopyWarning: \n",
      "A value is trying to be set on a copy of a slice from a DataFrame.\n",
      "Try using .loc[row_indexer,col_indexer] = value instead\n",
      "\n",
      "See the caveats in the documentation: https://pandas.pydata.org/pandas-docs/stable/user_guide/indexing.html#returning-a-view-versus-a-copy\n",
      "  synthetic_data[pd.isna(synthetic_data)] = 0.0\n"
     ]
    },
    {
     "data": {
      "text/plain": [
       "0.5561425837996369"
      ]
     },
     "execution_count": 275,
     "metadata": {},
     "output_type": "execute_result"
    }
   ],
   "source": [
    "evaluate(new_data, train_data)"
   ]
  },
  {
   "cell_type": "markdown",
   "metadata": {},
   "source": [
    "new train data: the mixture of original and generative data"
   ]
  },
  {
   "cell_type": "code",
   "execution_count": 276,
   "metadata": {},
   "outputs": [
    {
     "name": "stdout",
     "output_type": "stream",
     "text": [
      "(12936, 18)\n"
     ]
    },
    {
     "data": {
      "text/html": [
       "<div>\n",
       "<style scoped>\n",
       "    .dataframe tbody tr th:only-of-type {\n",
       "        vertical-align: middle;\n",
       "    }\n",
       "\n",
       "    .dataframe tbody tr th {\n",
       "        vertical-align: top;\n",
       "    }\n",
       "\n",
       "    .dataframe thead th {\n",
       "        text-align: right;\n",
       "    }\n",
       "</style>\n",
       "<table border=\"1\" class=\"dataframe\">\n",
       "  <thead>\n",
       "    <tr style=\"text-align: right;\">\n",
       "      <th></th>\n",
       "      <th>SLIDE_TYPE</th>\n",
       "      <th>M_WIDTH</th>\n",
       "      <th>S_LENGTH</th>\n",
       "      <th>SLOPE</th>\n",
       "      <th>HEADELEV</th>\n",
       "      <th>TAILELEV</th>\n",
       "      <th>ELE_DIFF</th>\n",
       "      <th>curv_plan</th>\n",
       "      <th>curv_prof</th>\n",
       "      <th>aspect</th>\n",
       "      <th>curv</th>\n",
       "      <th>history</th>\n",
       "      <th>COVER_A</th>\n",
       "      <th>COVER_B</th>\n",
       "      <th>COVER_C</th>\n",
       "      <th>COVER_D</th>\n",
       "      <th>GULLY_N</th>\n",
       "      <th>GULLY_Y</th>\n",
       "    </tr>\n",
       "  </thead>\n",
       "  <tbody>\n",
       "    <tr>\n",
       "      <th>0</th>\n",
       "      <td>0.0</td>\n",
       "      <td>14.1</td>\n",
       "      <td>11.5</td>\n",
       "      <td>40.099376</td>\n",
       "      <td>117.618178</td>\n",
       "      <td>239.339120</td>\n",
       "      <td>17.698038</td>\n",
       "      <td>0.039447</td>\n",
       "      <td>-0.666617</td>\n",
       "      <td>132.348017</td>\n",
       "      <td>0.782715</td>\n",
       "      <td>59.0</td>\n",
       "      <td>0.0</td>\n",
       "      <td>0.0</td>\n",
       "      <td>0.0</td>\n",
       "      <td>1.0</td>\n",
       "      <td>1.0</td>\n",
       "      <td>0.0</td>\n",
       "    </tr>\n",
       "    <tr>\n",
       "      <th>1</th>\n",
       "      <td>2.0</td>\n",
       "      <td>5.0</td>\n",
       "      <td>7.5</td>\n",
       "      <td>32.569109</td>\n",
       "      <td>6.000000</td>\n",
       "      <td>42.363364</td>\n",
       "      <td>3.758341</td>\n",
       "      <td>-0.060554</td>\n",
       "      <td>0.231533</td>\n",
       "      <td>163.118232</td>\n",
       "      <td>-0.372615</td>\n",
       "      <td>12.0</td>\n",
       "      <td>1.0</td>\n",
       "      <td>0.0</td>\n",
       "      <td>0.0</td>\n",
       "      <td>0.0</td>\n",
       "      <td>1.0</td>\n",
       "      <td>0.0</td>\n",
       "    </tr>\n",
       "    <tr>\n",
       "      <th>2</th>\n",
       "      <td>2.0</td>\n",
       "      <td>15.6</td>\n",
       "      <td>12.2</td>\n",
       "      <td>5.584102</td>\n",
       "      <td>143.187310</td>\n",
       "      <td>298.095402</td>\n",
       "      <td>25.637841</td>\n",
       "      <td>-0.208149</td>\n",
       "      <td>-0.031540</td>\n",
       "      <td>155.269920</td>\n",
       "      <td>0.167968</td>\n",
       "      <td>59.0</td>\n",
       "      <td>1.0</td>\n",
       "      <td>0.0</td>\n",
       "      <td>1.0</td>\n",
       "      <td>0.0</td>\n",
       "      <td>0.0</td>\n",
       "      <td>1.0</td>\n",
       "    </tr>\n",
       "    <tr>\n",
       "      <th>3</th>\n",
       "      <td>0.0</td>\n",
       "      <td>17.0</td>\n",
       "      <td>12.0</td>\n",
       "      <td>62.551307</td>\n",
       "      <td>101.470194</td>\n",
       "      <td>186.429237</td>\n",
       "      <td>14.174436</td>\n",
       "      <td>0.440313</td>\n",
       "      <td>0.159996</td>\n",
       "      <td>300.435960</td>\n",
       "      <td>-0.397861</td>\n",
       "      <td>59.0</td>\n",
       "      <td>0.0</td>\n",
       "      <td>0.0</td>\n",
       "      <td>1.0</td>\n",
       "      <td>0.0</td>\n",
       "      <td>0.0</td>\n",
       "      <td>1.0</td>\n",
       "    </tr>\n",
       "    <tr>\n",
       "      <th>4</th>\n",
       "      <td>2.0</td>\n",
       "      <td>17.2</td>\n",
       "      <td>6.2</td>\n",
       "      <td>44.001096</td>\n",
       "      <td>164.868862</td>\n",
       "      <td>44.290648</td>\n",
       "      <td>9999.000000</td>\n",
       "      <td>-0.032154</td>\n",
       "      <td>0.213527</td>\n",
       "      <td>153.568051</td>\n",
       "      <td>0.050475</td>\n",
       "      <td>51.0</td>\n",
       "      <td>1.0</td>\n",
       "      <td>0.0</td>\n",
       "      <td>0.0</td>\n",
       "      <td>0.0</td>\n",
       "      <td>1.0</td>\n",
       "      <td>0.0</td>\n",
       "    </tr>\n",
       "  </tbody>\n",
       "</table>\n",
       "</div>"
      ],
      "text/plain": [
       "   SLIDE_TYPE  M_WIDTH  S_LENGTH      SLOPE    HEADELEV    TAILELEV  \\\n",
       "0         0.0     14.1      11.5  40.099376  117.618178  239.339120   \n",
       "1         2.0      5.0       7.5  32.569109    6.000000   42.363364   \n",
       "2         2.0     15.6      12.2   5.584102  143.187310  298.095402   \n",
       "3         0.0     17.0      12.0  62.551307  101.470194  186.429237   \n",
       "4         2.0     17.2       6.2  44.001096  164.868862   44.290648   \n",
       "\n",
       "      ELE_DIFF  curv_plan  curv_prof      aspect      curv  history  COVER_A  \\\n",
       "0    17.698038   0.039447  -0.666617  132.348017  0.782715     59.0      0.0   \n",
       "1     3.758341  -0.060554   0.231533  163.118232 -0.372615     12.0      1.0   \n",
       "2    25.637841  -0.208149  -0.031540  155.269920  0.167968     59.0      1.0   \n",
       "3    14.174436   0.440313   0.159996  300.435960 -0.397861     59.0      0.0   \n",
       "4  9999.000000  -0.032154   0.213527  153.568051  0.050475     51.0      1.0   \n",
       "\n",
       "   COVER_B  COVER_C  COVER_D  GULLY_N  GULLY_Y  \n",
       "0      0.0      0.0      1.0      1.0      0.0  \n",
       "1      0.0      0.0      0.0      1.0      0.0  \n",
       "2      0.0      1.0      0.0      0.0      1.0  \n",
       "3      0.0      1.0      0.0      0.0      1.0  \n",
       "4      0.0      0.0      0.0      1.0      0.0  "
      ]
     },
     "execution_count": 276,
     "metadata": {},
     "output_type": "execute_result"
    }
   ],
   "source": [
    "new_train=pd.concat(\n",
    "    [new_data, train_data],\n",
    "    axis=0,\n",
    ")\n",
    "print(new_train.shape)\n",
    "new_train.head()"
   ]
  },
  {
   "cell_type": "code",
   "execution_count": 277,
   "metadata": {},
   "outputs": [],
   "source": [
    "#shuffle data\n",
    "new_train_data = new_train.sample(frac=1).reset_index(drop=True)"
   ]
  },
  {
   "cell_type": "code",
   "execution_count": 278,
   "metadata": {},
   "outputs": [],
   "source": [
    "# convert df to numpy for training input \n",
    "new_train_X=new_train_data.iloc[:,1:].values\n",
    "new_train_Y_1=new_train_data.iloc[:,0:1].values\n",
    "new_train_Y=np.squeeze(new_train_Y_1)"
   ]
  },
  {
   "cell_type": "code",
   "execution_count": 279,
   "metadata": {},
   "outputs": [
    {
     "name": "stdout",
     "output_type": "stream",
     "text": [
      "(12936, 17)\n",
      "(2772, 17)\n",
      "(12936,)\n",
      "(2772,)\n"
     ]
    }
   ],
   "source": [
    "print(new_train_X.shape)\n",
    "print(X_test.shape)\n",
    "print(new_train_Y.shape)\n",
    "print(y_test.shape)"
   ]
  },
  {
   "cell_type": "markdown",
   "metadata": {},
   "source": [
    "do feature scaling first."
   ]
  },
  {
   "cell_type": "code",
   "execution_count": 282,
   "metadata": {},
   "outputs": [],
   "source": [
    "# data input of GAN model\n",
    "from sklearn.preprocessing import StandardScaler\n",
    "#from sklearn.preprocessing import MinMaxScaler\n",
    "sc = StandardScaler()\n",
    "#sc = MinMaxScaler()\n",
    "new_train_X = sc.fit_transform(new_train_X)"
   ]
  },
  {
   "cell_type": "code",
   "execution_count": 283,
   "metadata": {},
   "outputs": [],
   "source": [
    "# data input of model rather than GAN\n",
    "sc = StandardScaler()\n",
    "#sc = MinMaxScaler()\n",
    "X_train = sc.fit_transform(X_train)\n",
    "X_test = sc.fit_transform(X_test)"
   ]
  },
  {
   "cell_type": "markdown",
   "metadata": {},
   "source": [
    "# 3. Assessment and comparison of models"
   ]
  },
  {
   "cell_type": "markdown",
   "metadata": {},
   "source": [
    "[Back to Top](#top)\n",
    "<a id=\"knn\"></a>\n",
    "## 3.1 KNN"
   ]
  },
  {
   "cell_type": "markdown",
   "metadata": {},
   "source": [
    "### 3.1.1 KNN & GAN"
   ]
  },
  {
   "cell_type": "markdown",
   "metadata": {},
   "source": [
    "Hyperparameter(s):\n",
    "\n",
    "- n_neighbors\n",
    "- weights\n",
    "- metric  \n",
    "\n",
    "Hyperparameter optimization"
   ]
  },
  {
   "cell_type": "code",
   "execution_count": 312,
   "metadata": {},
   "outputs": [
    {
     "name": "stdout",
     "output_type": "stream",
     "text": [
      "Best score: 0.8840449124710462\n",
      "Best hyperparameters: {'metric': 'manhattan', 'n_neighbors': 19, 'weights': 'distance'}\n"
     ]
    }
   ],
   "source": [
    "from sklearn.neighbors import KNeighborsClassifier\n",
    "from sklearn.model_selection import GridSearchCV\n",
    "from sklearn.metrics import roc_curve\n",
    "import matplotlib.pyplot as plt\n",
    "\n",
    "#n_jobs=-1, accelerate running speed: https://scikit-learn.org/stable/computing/parallelism.html\n",
    "model = KNeighborsClassifier(n_jobs=-1)\n",
    "\n",
    "param_grid = { \n",
    "    'n_neighbors': [3,5,11,19],\n",
    "    'weights': ['uniform', 'distance'],\n",
    "    'metric' : ['euclidean', 'manhattan'],\n",
    "}\n",
    "\n",
    "grid = GridSearchCV(estimator=model, param_grid=param_grid,n_jobs=-1)\n",
    "\n",
    "grid.fit(new_train_X, new_train_Y.ravel())\n",
    "\n",
    "metric = grid.best_estimator_.metric\n",
    "n_neighbors = grid.best_estimator_.n_neighbors\n",
    "weights = grid.best_estimator_.weights\n",
    "\n",
    "# summarize the results of the grid search\n",
    "print('Best score:', grid.best_score_)\n",
    "print('Best hyperparameters:',grid.best_params_)"
   ]
  },
  {
   "cell_type": "code",
   "execution_count": 313,
   "metadata": {},
   "outputs": [],
   "source": [
    "knn = KNeighborsClassifier(metric=metric, n_neighbors=n_neighbors, weights=weights, n_jobs=8).fit(new_train_X, new_train_Y.ravel())\n",
    "#Get predictions and probabilities on test set\n",
    "knn_pred = knn.predict(X_test)\n",
    "knn_proba = knn.predict_proba(X_test)"
   ]
  },
  {
   "cell_type": "code",
   "execution_count": 314,
   "metadata": {},
   "outputs": [
    {
     "data": {
      "image/png": "[encoded data removed]",
      "text/plain": [
       "<Figure size 432x288 with 1 Axes>"
      ]
     },
     "metadata": {},
     "output_type": "display_data"
    }
   ],
   "source": [
    "# roc curve for classes\n",
    "fpr = {}\n",
    "tpr = {}\n",
    "thresh ={}\n",
    "\n",
    "n_class = 4\n",
    "\n",
    "for i in range(n_class):    \n",
    "    fpr[i], tpr[i], thresh[i] = roc_curve(y_test, knn_proba[:,i], pos_label=i)\n",
    "    \n",
    "# plotting    \n",
    "plt.plot(fpr[0], tpr[0], linestyle='--',color='orange', label='Class 0 vs Rest')\n",
    "plt.plot(fpr[1], tpr[1], linestyle='--',color='green', label='Class 1 vs Rest')\n",
    "plt.plot(fpr[2], tpr[2], linestyle='--',color='red', label='Class 2 vs Rest')\n",
    "plt.plot(fpr[3], tpr[3], linestyle='--',color='blue', label='Class 3 vs Rest')\n",
    "\n",
    "plt.title('KNN ROC curve')\n",
    "plt.xlabel('False Positive Rate')\n",
    "plt.ylabel('True Positive rate')\n",
    "plt.legend(loc='best')\n",
    "plt.savefig('ROC',dpi=300);"
   ]
  },
  {
   "cell_type": "code",
   "execution_count": 315,
   "metadata": {},
   "outputs": [
    {
     "name": "stdout",
     "output_type": "stream",
     "text": [
      "k Nearest Neighbors:\n",
      "Accuracy: 0.9278499278499278\n"
     ]
    },
    {
     "name": "stderr",
     "output_type": "stream",
     "text": [
      "D:\\ProgramData\\Anaconda3\\lib\\site-packages\\sklearn\\metrics\\_classification.py:1248: UndefinedMetricWarning: Precision and F-score are ill-defined and being set to 0.0 in labels with no predicted samples. Use `zero_division` parameter to control this behavior.\n",
      "  _warn_prf(average, modifier, msg_start, len(result))\n"
     ]
    }
   ],
   "source": [
    "knn_cls_precision, knn_cls_recall, knn_cls_f1, _ = precision_recall_fscore_support(y_test, knn_pred, average=None, labels=[0,1,2,3])\n",
    "knn_conf_mat = confusion_matrix(y_test, knn_pred)\n",
    "knn_acc = accuracy_score(y_test, knn_pred)\n",
    "print('k Nearest Neighbors:')\n",
    "print('Accuracy:',knn_acc)"
   ]
  },
  {
   "cell_type": "code",
   "execution_count": 318,
   "metadata": {},
   "outputs": [
    {
     "data": {
      "image/png": "[encoded data removed]",
      "text/plain": [
       "<Figure size 288x288 with 2 Axes>"
      ]
     },
     "metadata": {},
     "output_type": "display_data"
    }
   ],
   "source": [
    "#Performance metrics\n",
    "array = confusion_matrix(y_test, knn_pred)\n",
    "\n",
    "knn_cm = pd.DataFrame(array, range(4), range(4))\n",
    "\n",
    "plt.figure(figsize=(4,4))\n",
    "sns.set(font_scale=1) # for label size\n",
    "sns.heatmap(knn_cm, annot=True, annot_kws={\"size\": 15}, cbar=True, square= True, fmt='.1f') # font size\n",
    "\n",
    "plt.title('KNN Confusion Matrix')\n",
    "plt.show()"
   ]
  },
  {
   "cell_type": "code",
   "execution_count": 332,
   "metadata": {},
   "outputs": [
    {
     "name": "stdout",
     "output_type": "stream",
     "text": [
      "0\n",
      "Precision  = 0.9960 \n",
      "Recall on Y label = 1.0000 \n",
      "F1 on Y label = 0.9980 \n",
      "----------------------------\n",
      "1\n",
      "Precision  = 0.5000 \n",
      "Recall on Y label = 0.1719 \n",
      "F1 on Y label = 0.2558 \n",
      "----------------------------\n",
      "2\n",
      "Precision  = 0.6695 \n",
      "Recall on Y label = 0.9014 \n",
      "F1 on Y label = 0.7683 \n",
      "----------------------------\n",
      "3\n",
      "Precision  = 0.0000 \n",
      "Recall on Y label = 0.0000 \n",
      "F1 on Y label = 0.0000 \n",
      "----------------------------\n"
     ]
    }
   ],
   "source": [
    "for i in range(n_class): \n",
    "    print(i)\n",
    "    print('Precision  = %.4f ' % (knn_cls_precision[i]))\n",
    "    print('Recall on Y label = %.4f ' % (knn_cls_recall[i]))\n",
    "    print('F1 on Y label = %.4f ' % (knn_cls_f1[i]))\n",
    "    print('----------------------------')"
   ]
  },
  {
   "cell_type": "markdown",
   "metadata": {},
   "source": [
    "### 3.1.2 original KNN model"
   ]
  },
  {
   "cell_type": "code",
   "execution_count": 356,
   "metadata": {},
   "outputs": [
    {
     "name": "stdout",
     "output_type": "stream",
     "text": [
      "Best score: 0.9294979147018004\n",
      "Best hyperparameters: {'metric': 'manhattan', 'n_neighbors': 19, 'weights': 'distance'}\n"
     ]
    }
   ],
   "source": [
    "from sklearn.neighbors import KNeighborsClassifier\n",
    "from sklearn.model_selection import GridSearchCV\n",
    "from sklearn.metrics import roc_curve\n",
    "import matplotlib.pyplot as plt\n",
    "\n",
    "# todo: n_jobs=-1, accelerate running speed: https://scikit-learn.org/stable/computing/parallelism.html\n",
    "model = KNeighborsClassifier(n_jobs=-1)\n",
    "\n",
    "param_grid = { \n",
    "    'n_neighbors': [3,5,11,19],\n",
    "    'weights': ['uniform', 'distance'],\n",
    "    'metric' : ['euclidean', 'manhattan'],\n",
    "}\n",
    "\n",
    "grid = GridSearchCV(estimator=model, param_grid=param_grid,n_jobs=-1)\n",
    "\n",
    "grid.fit(X_train, y_train.ravel())\n",
    "\n",
    "metric = grid.best_estimator_.metric\n",
    "n_neighbors = grid.best_estimator_.n_neighbors\n",
    "weights = grid.best_estimator_.weights\n",
    "\n",
    "# summarize the results of the grid search\n",
    "print('Best score:', grid.best_score_)\n",
    "print('Best hyperparameters:',grid.best_params_)"
   ]
  },
  {
   "cell_type": "code",
   "execution_count": 357,
   "metadata": {},
   "outputs": [
    {
     "name": "stdout",
     "output_type": "stream",
     "text": [
      "k Nearest Neighbors:\n",
      "Accuracy: 0.9267676767676768\n"
     ]
    },
    {
     "name": "stderr",
     "output_type": "stream",
     "text": [
      "D:\\ProgramData\\Anaconda3\\lib\\site-packages\\sklearn\\metrics\\_classification.py:1248: UndefinedMetricWarning: Precision and F-score are ill-defined and being set to 0.0 in labels with no predicted samples. Use `zero_division` parameter to control this behavior.\n",
      "  _warn_prf(average, modifier, msg_start, len(result))\n"
     ]
    }
   ],
   "source": [
    "knn = KNeighborsClassifier(metric=metric, n_neighbors=n_neighbors, weights=weights, n_jobs=-1).fit(X_train, y_train.ravel())\n",
    "knn_pred = knn.predict(X_test)\n",
    "knn_proba = knn.predict_proba(X_test)\n",
    "knn_cls_precision, knn_cls_recall, knn_cls_f1, _ = precision_recall_fscore_support(y_test, knn_pred, average=None, labels=[0,1,2,3])\n",
    "\n",
    "knn_conf_mat = confusion_matrix(y_test, knn_pred)\n",
    "knn_acc = accuracy_score(y_test, knn_pred)\n",
    "print('k Nearest Neighbors:')\n",
    "print('Accuracy:',knn_acc)\n",
    "#print('ROC AUC=%.4f' % (knn_roc_auc))"
   ]
  },
  {
   "cell_type": "code",
   "execution_count": 370,
   "metadata": {},
   "outputs": [
    {
     "data": {
      "image/png": "[encoded data removed]",
      "text/plain": [
       "<Figure size 432x288 with 1 Axes>"
      ]
     },
     "metadata": {},
     "output_type": "display_data"
    }
   ],
   "source": [
    "# roc curve for classes\n",
    "fpr = {}\n",
    "tpr = {}\n",
    "thresh ={}\n",
    "\n",
    "n_class = 4\n",
    "\n",
    "for i in range(n_class):    \n",
    "    fpr[i], tpr[i], thresh[i] = roc_curve(y_test, knn_proba[:,i], pos_label=i)\n",
    "    \n",
    "# plotting    \n",
    "plt.plot(fpr[0], tpr[0], linestyle='--',color='orange', label='Class 0 vs Rest')\n",
    "plt.plot(fpr[1], tpr[1], linestyle='--',color='green', label='Class 1 vs Rest')\n",
    "plt.plot(fpr[2], tpr[2], linestyle='--',color='red', label='Class 2 vs Rest')\n",
    "plt.plot(fpr[3], tpr[3], linestyle='--',color='blue', label='Class 3 vs Rest')\n",
    "\n",
    "plt.title('KNN ROC curve: original model')\n",
    "plt.xlabel('False Positive Rate')\n",
    "plt.ylabel('True Positive rate')\n",
    "plt.legend(loc='best')\n",
    "plt.savefig('ROC',dpi=300);"
   ]
  },
  {
   "cell_type": "code",
   "execution_count": 359,
   "metadata": {},
   "outputs": [
    {
     "data": {
      "image/png": "[encoded data removed]",
      "text/plain": [
       "<Figure size 288x288 with 2 Axes>"
      ]
     },
     "metadata": {},
     "output_type": "display_data"
    }
   ],
   "source": [
    "#Performance metrics\n",
    "array = confusion_matrix(y_test, knn_pred)\n",
    "\n",
    "knn_cm = pd.DataFrame(array, range(4), range(4))\n",
    "\n",
    "plt.figure(figsize=(4,4))\n",
    "sns.set(font_scale=1) # for label size\n",
    "sns.heatmap(knn_cm, annot=True, annot_kws={\"size\": 15}, cbar=True, square= True, fmt='.1f') # font size\n",
    "\n",
    "plt.title('KNN Confusion Matrix: original model')\n",
    "plt.show()"
   ]
  },
  {
   "cell_type": "code",
   "execution_count": null,
   "metadata": {},
   "outputs": [],
   "source": []
  },
  {
   "cell_type": "markdown",
   "metadata": {},
   "source": [
    "[Back to Top](#top)\n",
    "<a id=\"lr\"></a>\n",
    "## 3.2. Logistic Regression"
   ]
  },
  {
   "cell_type": "markdown",
   "metadata": {},
   "source": [
    "### 3.2.1 LR & GAN"
   ]
  },
  {
   "cell_type": "markdown",
   "metadata": {},
   "source": [
    "Hyperparameter(s): C (inverse of regularization strength)"
   ]
  },
  {
   "cell_type": "code",
   "execution_count": 319,
   "metadata": {},
   "outputs": [
    {
     "name": "stdout",
     "output_type": "stream",
     "text": [
      "Best score: 0.8866726032970703\n",
      "Best hyperparameters: {'C': 100.0}\n"
     ]
    }
   ],
   "source": [
    "model = LogisticRegression(random_state=0, solver = 'liblinear')\n",
    "\n",
    "param_grid={'C':np.logspace(-3,3,7), # inverse of regularization strength\n",
    "     }\n",
    "\n",
    "grid = GridSearchCV(estimator=model, param_grid=param_grid)\n",
    "\n",
    "grid.fit(new_train_X, new_train_Y.ravel())\n",
    "\n",
    "C = grid.best_estimator_.C\n",
    "\n",
    "# summarize the results of the grid search\n",
    "print('Best score:', grid.best_score_)\n",
    "print('Best hyperparameters:',grid.best_params_)"
   ]
  },
  {
   "cell_type": "code",
   "execution_count": 320,
   "metadata": {},
   "outputs": [],
   "source": [
    "lr = LogisticRegression(random_state =0, solver = 'liblinear', C=C).fit(new_train_X, new_train_Y.ravel())\n",
    "lr_pred = lr.predict(X_test)\n",
    "lr_proba = lr.predict_proba(X_test)"
   ]
  },
  {
   "cell_type": "code",
   "execution_count": 321,
   "metadata": {},
   "outputs": [
    {
     "data": {
      "image/png": "[encoded data removed]",
      "text/plain": [
       "<Figure size 432x288 with 1 Axes>"
      ]
     },
     "metadata": {},
     "output_type": "display_data"
    }
   ],
   "source": [
    "# roc curve for classes\n",
    "fpr = {}\n",
    "tpr = {}\n",
    "thresh ={}\n",
    "\n",
    "n_class = 4\n",
    "\n",
    "for i in range(n_class):    \n",
    "    fpr[i], tpr[i], thresh[i] = roc_curve(y_test, lr_proba[:,i], pos_label=i)\n",
    "    \n",
    "# plotting    \n",
    "plt.plot(fpr[0], tpr[0], linestyle='--',color='orange', label='Class 0 vs Rest')\n",
    "plt.plot(fpr[1], tpr[1], linestyle='--',color='green', label='Class 1 vs Rest')\n",
    "plt.plot(fpr[2], tpr[2], linestyle='--',color='red', label='Class 2 vs Rest')\n",
    "plt.plot(fpr[3], tpr[3], linestyle='--',color='blue', label='Class 3 vs Rest')\n",
    "\n",
    "plt.title('Logistic Regression ROC curve')\n",
    "plt.xlabel('False Positive Rate')\n",
    "plt.ylabel('True Positive rate')\n",
    "plt.legend(loc='best')\n",
    "plt.savefig('ROC',dpi=300);"
   ]
  },
  {
   "cell_type": "code",
   "execution_count": 322,
   "metadata": {},
   "outputs": [
    {
     "name": "stdout",
     "output_type": "stream",
     "text": [
      "Logistic regression:\n",
      "Accuracy: 0.9253246753246753\n"
     ]
    },
    {
     "name": "stderr",
     "output_type": "stream",
     "text": [
      "D:\\ProgramData\\Anaconda3\\lib\\site-packages\\sklearn\\metrics\\_classification.py:1248: UndefinedMetricWarning: Precision and F-score are ill-defined and being set to 0.0 in labels with no predicted samples. Use `zero_division` parameter to control this behavior.\n",
      "  _warn_prf(average, modifier, msg_start, len(result))\n"
     ]
    }
   ],
   "source": [
    "lr_cls_precision, lr_cls_recall, lr_cls_f1, _ = precision_recall_fscore_support(y_test, lr_pred, average=None, labels=[0,1,2,3])\n",
    "lr_conf_mat = confusion_matrix(y_test, lr_pred)\n",
    "lr_acc = accuracy_score(y_test, lr_pred)\n",
    "print('Logistic regression:')\n",
    "print('Accuracy:',lr_acc)\n",
    "#print('ROC AUC=%.4f' % (knn_roc_auc))"
   ]
  },
  {
   "cell_type": "code",
   "execution_count": 323,
   "metadata": {},
   "outputs": [
    {
     "data": {
      "image/png": "[encoded data removed]",
      "text/plain": [
       "<Figure size 288x288 with 2 Axes>"
      ]
     },
     "metadata": {},
     "output_type": "display_data"
    }
   ],
   "source": [
    "array = confusion_matrix(y_test, lr_pred)\n",
    "\n",
    "lr_cm = pd.DataFrame(array, range(4), range(4))\n",
    "\n",
    "plt.figure(figsize=(4,4))\n",
    "sns.set(font_scale=1) # for label size\n",
    "sns.heatmap(lr_cm, annot=True, annot_kws={\"size\": 15}, cbar=True, square= True, fmt='.1f') # font size\n",
    "\n",
    "plt.title('Logistic regression Confusion Matrix')\n",
    "plt.show()"
   ]
  },
  {
   "cell_type": "code",
   "execution_count": 324,
   "metadata": {},
   "outputs": [
    {
     "name": "stdout",
     "output_type": "stream",
     "text": [
      "0\n",
      "Precision  = 0.9995 \n",
      "Recall on Y label = 0.9959 \n",
      "F1 on Y label = 0.9977 \n",
      "----------------------------\n",
      "1\n",
      "Precision  = 0.4808 \n",
      "Recall on Y label = 0.1302 \n",
      "F1 on Y label = 0.2049 \n",
      "----------------------------\n",
      "2\n",
      "Precision  = 0.6483 \n",
      "Recall on Y label = 0.9296 \n",
      "F1 on Y label = 0.7639 \n",
      "----------------------------\n",
      "3\n",
      "Precision  = 0.0000 \n",
      "Recall on Y label = 0.0000 \n",
      "F1 on Y label = 0.0000 \n",
      "----------------------------\n"
     ]
    }
   ],
   "source": [
    "for i in range(n_class): \n",
    "    print(i)\n",
    "    print('Precision  = %.4f ' % (lr_cls_precision[i]))\n",
    "    print('Recall on Y label = %.4f ' % (lr_cls_recall[i]))\n",
    "    print('F1 on Y label = %.4f ' % (lr_cls_f1[i]))\n",
    "    print('----------------------------')"
   ]
  },
  {
   "cell_type": "markdown",
   "metadata": {},
   "source": [
    "### 3.2.2 original LR model"
   ]
  },
  {
   "cell_type": "code",
   "execution_count": 360,
   "metadata": {},
   "outputs": [
    {
     "name": "stdout",
     "output_type": "stream",
     "text": [
      "Best score: 0.93506349132351\n",
      "Best hyperparameters: {'C': 1000.0}\n"
     ]
    }
   ],
   "source": [
    "model = LogisticRegression(random_state=0, solver = 'liblinear')\n",
    "\n",
    "param_grid={'C':np.logspace(-3,3,7), # inverse of regularization strength\n",
    "     }\n",
    "\n",
    "grid = GridSearchCV(estimator=model, param_grid=param_grid)\n",
    "\n",
    "grid.fit(X_train, y_train.ravel())\n",
    "\n",
    "C = grid.best_estimator_.C\n",
    "\n",
    "# summarize the results of the grid search\n",
    "print('Best score:', grid.best_score_)\n",
    "print('Best hyperparameters:',grid.best_params_)"
   ]
  },
  {
   "cell_type": "code",
   "execution_count": 361,
   "metadata": {},
   "outputs": [
    {
     "name": "stdout",
     "output_type": "stream",
     "text": [
      "Logistic Regression:\n",
      "Accuracy: 0.9292929292929293\n"
     ]
    }
   ],
   "source": [
    "lr = LogisticRegression(random_state =0, solver = 'liblinear', C=C).fit(X_train,y_train.ravel())\n",
    "lr_pred = lr.predict(X_test)\n",
    "lr_proba = lr.predict_proba(X_test)\n",
    "lr_conf_mat = confusion_matrix(y_test, lr_pred)\n",
    "lr_acc = accuracy_score(y_test, lr_pred)\n",
    "print('Logistic Regression:')\n",
    "print('Accuracy:',lr_acc)"
   ]
  },
  {
   "cell_type": "code",
   "execution_count": 369,
   "metadata": {},
   "outputs": [
    {
     "data": {
      "image/png": "[encoded data removed]",
      "text/plain": [
       "<Figure size 432x288 with 1 Axes>"
      ]
     },
     "metadata": {},
     "output_type": "display_data"
    }
   ],
   "source": [
    "# roc curve for classes\n",
    "fpr = {}\n",
    "tpr = {}\n",
    "thresh ={}\n",
    "\n",
    "n_class = 4\n",
    "\n",
    "for i in range(n_class):    \n",
    "    fpr[i], tpr[i], thresh[i] = roc_curve(y_test, lr_proba[:,i], pos_label=i)\n",
    "    \n",
    "# plotting    \n",
    "plt.plot(fpr[0], tpr[0], linestyle='--',color='orange', label='Class 0 vs Rest')\n",
    "plt.plot(fpr[1], tpr[1], linestyle='--',color='green', label='Class 1 vs Rest')\n",
    "plt.plot(fpr[2], tpr[2], linestyle='--',color='red', label='Class 2 vs Rest')\n",
    "plt.plot(fpr[3], tpr[3], linestyle='--',color='blue', label='Class 3 vs Rest')\n",
    "\n",
    "plt.title('Logistic Regression ROC curve: original model')\n",
    "plt.xlabel('False Positive Rate')\n",
    "plt.ylabel('True Positive rate')\n",
    "plt.legend(loc='best')\n",
    "plt.savefig('ROC',dpi=300);"
   ]
  },
  {
   "cell_type": "code",
   "execution_count": 363,
   "metadata": {},
   "outputs": [
    {
     "data": {
      "image/png": "[encoded data removed]",
      "text/plain": [
       "<Figure size 288x288 with 2 Axes>"
      ]
     },
     "metadata": {},
     "output_type": "display_data"
    }
   ],
   "source": [
    "array = confusion_matrix(y_test, lr_pred)\n",
    "\n",
    "lr_cm = pd.DataFrame(array, range(4), range(4))\n",
    "\n",
    "plt.figure(figsize=(4,4))\n",
    "sns.set(font_scale=1) # for label size\n",
    "sns.heatmap(lr_cm, annot=True, annot_kws={\"size\": 15}, cbar=True, square= True, fmt='.1f') # font size\n",
    "\n",
    "plt.title('Logistic regression Confusion Matrix: original model')\n",
    "plt.show()"
   ]
  },
  {
   "cell_type": "markdown",
   "metadata": {},
   "source": [
    "[Back to Top](#top)\n",
    "<a id=\"dt\"></a>\n",
    "## 3.3 Decision tree"
   ]
  },
  {
   "cell_type": "markdown",
   "metadata": {},
   "source": [
    "### 3.3.1  DT & GAN"
   ]
  },
  {
   "cell_type": "markdown",
   "metadata": {},
   "source": [
    "Hyperparameter optimization:  \n",
    "\n",
    "- max_features\n",
    "- max_depth\n",
    "- criterion"
   ]
  },
  {
   "cell_type": "code",
   "execution_count": 325,
   "metadata": {},
   "outputs": [
    {
     "name": "stdout",
     "output_type": "stream",
     "text": [
      "Best score: 0.8780922804487303\n",
      "Best hyperparameters: {'criterion': 'entropy', 'max_depth': 10, 'max_features': 'auto'}\n"
     ]
    }
   ],
   "source": [
    "model = DecisionTreeClassifier(random_state=0)\n",
    "\n",
    "param_grid = { \n",
    "    'max_features': ['auto', 'sqrt', 'log2'],\n",
    "    'max_depth' : np.arange(10,40,5),\n",
    "    'criterion' :['gini', 'entropy']\n",
    "}\n",
    "\n",
    "grid = GridSearchCV(estimator=model, param_grid=param_grid)\n",
    "\n",
    "grid.fit(new_train_X, new_train_Y.ravel())\n",
    "\n",
    "criterion = grid.best_estimator_.criterion\n",
    "max_depth = grid.best_estimator_.max_depth\n",
    "max_features = grid.best_estimator_.max_features\n",
    "\n",
    "# summarize the results of the grid search\n",
    "print('Best score:', grid.best_score_)\n",
    "print('Best hyperparameters:',grid.best_params_)"
   ]
  },
  {
   "cell_type": "code",
   "execution_count": 334,
   "metadata": {},
   "outputs": [
    {
     "name": "stdout",
     "output_type": "stream",
     "text": [
      "Decision Tree:\n",
      "Accuracy: 0.9238816738816739\n"
     ]
    }
   ],
   "source": [
    "dt = DecisionTreeClassifier(random_state=0, criterion = criterion, max_depth=max_depth, max_features=max_features).fit(new_train_X, new_train_Y.ravel())\n",
    "dt_pred = dt.predict(X_test)\n",
    "dt_proba = dt.predict_proba(X_test)\n",
    "\n",
    "dt_cls_precision, dt_cls_recall, dt_cls_f1, _ = precision_recall_fscore_support(y_test, dt_pred, average=None, labels=[0,1,2,3])\n",
    "dt_conf_mat = confusion_matrix(y_test, dt_pred)\n",
    "dt_acc = accuracy_score(y_test, dt_pred)\n",
    "print('Decision Tree:')\n",
    "print('Accuracy:',dt_acc)"
   ]
  },
  {
   "cell_type": "code",
   "execution_count": 335,
   "metadata": {},
   "outputs": [
    {
     "data": {
      "image/png": "[encoded data removed]",
      "text/plain": [
       "<Figure size 432x288 with 1 Axes>"
      ]
     },
     "metadata": {},
     "output_type": "display_data"
    }
   ],
   "source": [
    "# roc curve for classes\n",
    "fpr = {}\n",
    "tpr = {}\n",
    "thresh ={}\n",
    "\n",
    "n_class = 4\n",
    "\n",
    "for i in range(n_class):    \n",
    "    fpr[i], tpr[i], thresh[i] = roc_curve(y_test, dt_proba[:,i], pos_label=i)\n",
    "    \n",
    "# plotting    \n",
    "plt.plot(fpr[0], tpr[0], linestyle='--',color='orange', label='Class 0 vs Rest')\n",
    "plt.plot(fpr[1], tpr[1], linestyle='--',color='green', label='Class 1 vs Rest')\n",
    "plt.plot(fpr[2], tpr[2], linestyle='--',color='red', label='Class 2 vs Rest')\n",
    "plt.plot(fpr[3], tpr[3], linestyle='--',color='blue', label='Class 3 vs Rest')\n",
    "\n",
    "plt.title('Decision Tree ROC curve')\n",
    "plt.xlabel('False Positive Rate')\n",
    "plt.ylabel('True Positive rate')\n",
    "plt.legend(loc='best')\n",
    "plt.savefig('ROC',dpi=300);"
   ]
  },
  {
   "cell_type": "code",
   "execution_count": 336,
   "metadata": {},
   "outputs": [
    {
     "data": {
      "image/png": "[encoded data removed]",
      "text/plain": [
       "<Figure size 288x288 with 2 Axes>"
      ]
     },
     "metadata": {},
     "output_type": "display_data"
    }
   ],
   "source": [
    "array = confusion_matrix(y_test, dt_pred)\n",
    "\n",
    "dt_cm = pd.DataFrame(array, range(4), range(4))\n",
    "\n",
    "plt.figure(figsize=(4,4))\n",
    "sns.set(font_scale=1) # for label size\n",
    "sns.heatmap(dt_cm, annot=True, annot_kws={\"size\": 15}, cbar=True, square= True, fmt='.1f') # font size\n",
    "\n",
    "plt.title('Decision Tree Confusion Matrix')\n",
    "plt.show()"
   ]
  },
  {
   "cell_type": "code",
   "execution_count": 337,
   "metadata": {},
   "outputs": [
    {
     "name": "stdout",
     "output_type": "stream",
     "text": [
      "0\n",
      "Precision  = 0.9995 \n",
      "Recall on Y label = 0.9955 \n",
      "F1 on Y label = 0.9975 \n",
      "----------------------------\n",
      "1\n",
      "Precision  = 0.4697 \n",
      "Recall on Y label = 0.3229 \n",
      "F1 on Y label = 0.3827 \n",
      "----------------------------\n",
      "2\n",
      "Precision  = 0.6776 \n",
      "Recall on Y label = 0.8169 \n",
      "F1 on Y label = 0.7407 \n",
      "----------------------------\n",
      "3\n",
      "Precision  = 0.0000 \n",
      "Recall on Y label = 0.0000 \n",
      "F1 on Y label = 0.0000 \n",
      "----------------------------\n"
     ]
    }
   ],
   "source": [
    "for i in range(n_class): \n",
    "    print(i)\n",
    "    print('Precision  = %.4f ' % (dt_cls_precision[i]))\n",
    "    print('Recall on Y label = %.4f ' % (dt_cls_recall[i]))\n",
    "    print('F1 on Y label = %.4f ' % (dt_cls_f1[i]))\n",
    "    print('----------------------------')"
   ]
  },
  {
   "cell_type": "markdown",
   "metadata": {},
   "source": [
    "### 3.3.2 original DT model "
   ]
  },
  {
   "cell_type": "code",
   "execution_count": 364,
   "metadata": {},
   "outputs": [
    {
     "name": "stdout",
     "output_type": "stream",
     "text": [
      "Best score: 0.9363016408649116\n",
      "Best hyperparameters: {'criterion': 'gini', 'max_depth': 10, 'max_features': 'auto'}\n"
     ]
    }
   ],
   "source": [
    "model = DecisionTreeClassifier(random_state=0)\n",
    "\n",
    "param_grid = { \n",
    "    'max_features': ['auto', 'sqrt', 'log2'],\n",
    "    'max_depth' : np.arange(10,40,5),\n",
    "    'criterion' :['gini', 'entropy']\n",
    "}\n",
    "\n",
    "grid = GridSearchCV(estimator=model, param_grid=param_grid)\n",
    "\n",
    "grid.fit(X_train, y_train.ravel())\n",
    "\n",
    "criterion = grid.best_estimator_.criterion\n",
    "max_depth = grid.best_estimator_.max_depth\n",
    "max_features = grid.best_estimator_.max_features\n",
    "\n",
    "# summarize the results of the grid search\n",
    "print('Best score:', grid.best_score_)\n",
    "print('Best hyperparameters:',grid.best_params_)"
   ]
  },
  {
   "cell_type": "code",
   "execution_count": 365,
   "metadata": {},
   "outputs": [
    {
     "name": "stdout",
     "output_type": "stream",
     "text": [
      "Decision Tree:\n",
      "Accuracy: 0.9264069264069265\n"
     ]
    }
   ],
   "source": [
    "dt = DecisionTreeClassifier(random_state=0, criterion = criterion, max_depth=max_depth, max_features=max_features).fit(X_train, y_train.ravel())\n",
    "dt_pred = dt.predict(X_test)\n",
    "dt_proba = dt.predict_proba(X_test)\n",
    "\n",
    "dt_conf_mat = confusion_matrix(y_test, dt_pred)\n",
    "dt_acc = accuracy_score(y_test, dt_pred)\n",
    "print('Decision Tree:')\n",
    "print('Accuracy:',dt_acc)"
   ]
  },
  {
   "cell_type": "code",
   "execution_count": 368,
   "metadata": {},
   "outputs": [
    {
     "data": {
      "image/png": "[encoded data removed]",
      "text/plain": [
       "<Figure size 432x288 with 1 Axes>"
      ]
     },
     "metadata": {},
     "output_type": "display_data"
    }
   ],
   "source": [
    "# roc curve for classes\n",
    "fpr = {}\n",
    "tpr = {}\n",
    "thresh ={}\n",
    "\n",
    "n_class = 4\n",
    "\n",
    "for i in range(n_class):    \n",
    "    fpr[i], tpr[i], thresh[i] = roc_curve(y_test, dt_proba[:,i], pos_label=i)\n",
    "    \n",
    "# plotting    \n",
    "plt.plot(fpr[0], tpr[0], linestyle='--',color='orange', label='Class 0 vs Rest')\n",
    "plt.plot(fpr[1], tpr[1], linestyle='--',color='green', label='Class 1 vs Rest')\n",
    "plt.plot(fpr[2], tpr[2], linestyle='--',color='red', label='Class 2 vs Rest')\n",
    "plt.plot(fpr[3], tpr[3], linestyle='--',color='blue', label='Class 3 vs Rest')\n",
    "\n",
    "plt.title('Decision Tree ROC curve: original model')\n",
    "plt.xlabel('False Positive Rate')\n",
    "plt.ylabel('True Positive rate')\n",
    "plt.legend(loc='best')\n",
    "plt.savefig('ROC',dpi=300);"
   ]
  },
  {
   "cell_type": "code",
   "execution_count": 367,
   "metadata": {},
   "outputs": [
    {
     "data": {
      "image/png": "[encoded data removed]",
      "text/plain": [
       "<Figure size 288x288 with 2 Axes>"
      ]
     },
     "metadata": {},
     "output_type": "display_data"
    }
   ],
   "source": [
    "array = confusion_matrix(y_test, dt_pred)\n",
    "\n",
    "dt_cm = pd.DataFrame(array, range(4), range(4))\n",
    "\n",
    "plt.figure(figsize=(4,4))\n",
    "sns.set(font_scale=1) # for label size\n",
    "sns.heatmap(dt_cm, annot=True, annot_kws={\"size\": 15}, cbar=True, square= True, fmt='.1f') # font size\n",
    "\n",
    "plt.title('Decision Tree Confusion Matrix: original model')\n",
    "plt.show()"
   ]
  },
  {
   "cell_type": "markdown",
   "metadata": {},
   "source": [
    "# 3.4 Random forest"
   ]
  },
  {
   "cell_type": "markdown",
   "metadata": {},
   "source": [
    "Hyperparameter(s):\n",
    "\n",
    "- n_estimators\n",
    "- max_features\n",
    "- max_depth\n",
    "- criterion"
   ]
  },
  {
   "cell_type": "markdown",
   "metadata": {},
   "source": [
    "### 3.4.1 RF & GAN"
   ]
  },
  {
   "cell_type": "code",
   "execution_count": 304,
   "metadata": {},
   "outputs": [
    {
     "name": "stdout",
     "output_type": "stream",
     "text": [
      "Best score: 0.8942484387219656\n",
      "Best hyperparameters: {'criterion': 'gini', 'max_depth': 28, 'max_features': 'auto', 'n_estimators': 300}\n"
     ]
    }
   ],
   "source": [
    "#Hyperparameter optimization\n",
    "model = RandomForestClassifier(random_state=0)\n",
    "\n",
    "param_grid = { \n",
    "    'n_estimators': [200, 300, 400, 500],\n",
    "    'max_features': ['auto', 'sqrt', 'log2'],\n",
    "    'max_depth' : np.arange(10,30,2),\n",
    "    'criterion' :['gini', 'entropy']\n",
    "}\n",
    "\n",
    "grid = GridSearchCV(estimator=model, param_grid=param_grid)\n",
    "\n",
    "grid.fit(new_train_X, new_train_Y.ravel())\n",
    "\n",
    "n_estimators = grid.best_estimator_.n_estimators\n",
    "criterion = grid.best_estimator_.criterion\n",
    "max_depth = grid.best_estimator_.max_depth\n",
    "max_features = grid.best_estimator_.max_features\n",
    "\n",
    "# summarize the results of the grid search\n",
    "print('Best score:', grid.best_score_)\n",
    "print('Best hyperparameters:',grid.best_params_)"
   ]
  },
  {
   "cell_type": "code",
   "execution_count": 305,
   "metadata": {},
   "outputs": [
    {
     "data": {
      "text/plain": [
       "<BarContainer object of 17 artists>"
      ]
     },
     "execution_count": 305,
     "metadata": {},
     "output_type": "execute_result"
    },
    {
     "data": {
      "image/png": "[encoded data removed]",
      "text/plain": [
       "<Figure size 432x288 with 1 Axes>"
      ]
     },
     "metadata": {},
     "output_type": "display_data"
    }
   ],
   "source": [
    "rf = RandomForestClassifier(random_state=0, criterion=criterion, max_depth=max_depth, max_features=max_features, n_estimators = n_estimators).fit(new_train_X, new_train_Y.ravel())\n",
    "rf_pred = rf.predict(X_test)\n",
    "rf_proba = rf.predict_proba(X_test)\n",
    "\n",
    "plt.barh(new_train_data.iloc[:,1:].columns,rf.feature_importances_)"
   ]
  },
  {
   "cell_type": "code",
   "execution_count": 309,
   "metadata": {},
   "outputs": [
    {
     "data": {
      "image/png": "[encoded data removed]",
      "text/plain": [
       "<Figure size 432x288 with 1 Axes>"
      ]
     },
     "metadata": {},
     "output_type": "display_data"
    }
   ],
   "source": [
    "# roc curve for classes\n",
    "fpr = {}\n",
    "tpr = {}\n",
    "thresh ={}\n",
    "\n",
    "n_class = 4\n",
    "\n",
    "for i in range(n_class):    \n",
    "    fpr[i], tpr[i], thresh[i] = roc_curve(y_test, rf_proba[:,i], pos_label=i)\n",
    "    \n",
    "# plotting    \n",
    "plt.plot(fpr[0], tpr[0], linestyle='--',color='orange', label='Class 0 vs Rest')\n",
    "plt.plot(fpr[1], tpr[1], linestyle='--',color='green', label='Class 1 vs Rest')\n",
    "plt.plot(fpr[2], tpr[2], linestyle='--',color='red', label='Class 2 vs Rest')\n",
    "plt.plot(fpr[3], tpr[3], linestyle='--',color='blue', label='Class 3 vs Rest')\n",
    "\n",
    "plt.title('Random Forest ROC curve')\n",
    "plt.xlabel('False Positive Rate')\n",
    "plt.ylabel('True Positive rate')\n",
    "plt.legend(loc='best')\n",
    "plt.savefig('ROC',dpi=300);"
   ]
  },
  {
   "cell_type": "code",
   "execution_count": 310,
   "metadata": {},
   "outputs": [
    {
     "name": "stdout",
     "output_type": "stream",
     "text": [
      "Random Forest:\n",
      "Accuracy: 0.9303751803751804\n"
     ]
    },
    {
     "name": "stderr",
     "output_type": "stream",
     "text": [
      "D:\\ProgramData\\Anaconda3\\lib\\site-packages\\sklearn\\metrics\\_classification.py:1248: UndefinedMetricWarning: Precision and F-score are ill-defined and being set to 0.0 in labels with no predicted samples. Use `zero_division` parameter to control this behavior.\n",
      "  _warn_prf(average, modifier, msg_start, len(result))\n"
     ]
    }
   ],
   "source": [
    "rf_cls_precision, rf_cls_recall, rf_cls_f1, _ = precision_recall_fscore_support(y_test, rf_pred, average=None, labels=[0,1,2,3])\n",
    "\n",
    "rf_conf_mat = confusion_matrix(y_test, rf_pred)\n",
    "rf_acc = accuracy_score(y_test, rf_pred)\n",
    "print('Random Forest:')\n",
    "print('Accuracy:',rf_acc)"
   ]
  },
  {
   "cell_type": "code",
   "execution_count": 340,
   "metadata": {},
   "outputs": [
    {
     "data": {
      "image/png": "[encoded data removed]",
      "text/plain": [
       "<Figure size 288x288 with 2 Axes>"
      ]
     },
     "metadata": {},
     "output_type": "display_data"
    }
   ],
   "source": [
    "array = confusion_matrix(y_test, rf_pred)\n",
    "\n",
    "rf_cm = pd.DataFrame(array, range(4), range(4))\n",
    "\n",
    "plt.figure(figsize=(4,4))\n",
    "sns.set(font_scale=1) # for label size\n",
    "sns.heatmap(rf_cm, annot=True, annot_kws={\"size\": 15}, cbar=True, square= True, fmt='.1f') # font size\n",
    "\n",
    "plt.title('Random Forest Confusion Matrix')\n",
    "plt.show()"
   ]
  },
  {
   "cell_type": "code",
   "execution_count": 341,
   "metadata": {},
   "outputs": [
    {
     "name": "stdout",
     "output_type": "stream",
     "text": [
      "0\n",
      "Precision  = 0.9991 \n",
      "Recall on Y label = 1.0000 \n",
      "F1 on Y label = 0.9995 \n",
      "----------------------------\n",
      "1\n",
      "Precision  = 0.5143 \n",
      "Recall on Y label = 0.2812 \n",
      "F1 on Y label = 0.3636 \n",
      "----------------------------\n",
      "2\n",
      "Precision  = 0.6861 \n",
      "Recall on Y label = 0.8620 \n",
      "F1 on Y label = 0.7640 \n",
      "----------------------------\n",
      "3\n",
      "Precision  = 0.0000 \n",
      "Recall on Y label = 0.0000 \n",
      "F1 on Y label = 0.0000 \n",
      "----------------------------\n"
     ]
    }
   ],
   "source": [
    "for i in range(n_class): \n",
    "    print(i)\n",
    "    print('Precision  = %.4f ' % (rf_cls_precision[i]))\n",
    "    print('Recall on Y label = %.4f ' % (rf_cls_recall[i]))\n",
    "    print('F1 on Y label = %.4f ' % (rf_cls_f1[i]))\n",
    "    print('----------------------------')"
   ]
  },
  {
   "cell_type": "markdown",
   "metadata": {},
   "source": [
    "[Back to Top](#top)\n",
    "<a id=\"rf\"></a>\n",
    "### 3.4.2 original RF model"
   ]
  },
  {
   "cell_type": "code",
   "execution_count": 342,
   "metadata": {},
   "outputs": [
    {
     "name": "stdout",
     "output_type": "stream",
     "text": [
      "Best score: 0.9503705005313356\n",
      "Best hyperparameters: {'criterion': 'gini', 'max_depth': 12, 'max_features': 'auto', 'n_estimators': 500}\n"
     ]
    }
   ],
   "source": [
    "model = RandomForestClassifier(random_state=0)\n",
    "\n",
    "param_grid = { \n",
    "    'n_estimators': [200, 300, 400, 500],\n",
    "    'max_features': ['auto', 'sqrt', 'log2'],\n",
    "    'max_depth' : np.arange(10,30,2),\n",
    "    'criterion' :['gini', 'entropy']\n",
    "}\n",
    "\n",
    "grid = GridSearchCV(estimator=model, param_grid=param_grid)\n",
    "\n",
    "grid.fit(X_train, y_train.ravel())\n",
    "\n",
    "n_estimators = grid.best_estimator_.n_estimators\n",
    "criterion = grid.best_estimator_.criterion\n",
    "max_depth = grid.best_estimator_.max_depth\n",
    "max_features = grid.best_estimator_.max_features\n",
    "\n",
    "# summarize the results of the grid search\n",
    "print('Best score:', grid.best_score_)\n",
    "print('Best hyperparameters:',grid.best_params_)"
   ]
  },
  {
   "cell_type": "code",
   "execution_count": 343,
   "metadata": {},
   "outputs": [
    {
     "name": "stdout",
     "output_type": "stream",
     "text": [
      "Random Forest:\n",
      "Accuracy: 0.9383116883116883\n"
     ]
    },
    {
     "name": "stderr",
     "output_type": "stream",
     "text": [
      "D:\\ProgramData\\Anaconda3\\lib\\site-packages\\sklearn\\metrics\\_classification.py:1248: UndefinedMetricWarning: Precision and F-score are ill-defined and being set to 0.0 in labels with no predicted samples. Use `zero_division` parameter to control this behavior.\n",
      "  _warn_prf(average, modifier, msg_start, len(result))\n"
     ]
    }
   ],
   "source": [
    "\n",
    "rf = RandomForestClassifier(random_state=0, criterion=criterion, max_depth=max_depth, max_features=max_features, n_estimators = n_estimators).fit(X_train,y_train.ravel())\n",
    "\n",
    "rf_pred = rf.predict(X_test)\n",
    "rf_proba = rf.predict_proba(X_test)\n",
    "rf_cls_precision, rf_cls_recall, rf_cls_f1, _ = precision_recall_fscore_support(y_test, rf_pred, average=None, labels=[0,1,2,3])\n",
    "rf_conf_mat = confusion_matrix(y_test, rf_pred)\n",
    "rf_acc = accuracy_score(y_test, rf_pred)\n",
    "print('Random Forest:')\n",
    "print('Accuracy:',rf_acc)"
   ]
  },
  {
   "cell_type": "code",
   "execution_count": 371,
   "metadata": {},
   "outputs": [
    {
     "data": {
      "image/png": "[encoded data removed]",
      "text/plain": [
       "<Figure size 432x288 with 1 Axes>"
      ]
     },
     "metadata": {},
     "output_type": "display_data"
    }
   ],
   "source": [
    "# roc curve for classes\n",
    "fpr = {}\n",
    "tpr = {}\n",
    "thresh ={}\n",
    "\n",
    "n_class = 4\n",
    "\n",
    "for i in range(n_class):    \n",
    "    fpr[i], tpr[i], thresh[i] = roc_curve(y_test, rf_proba[:,i], pos_label=i)\n",
    "    \n",
    "# plotting    \n",
    "plt.plot(fpr[0], tpr[0], linestyle='--',color='orange', label='Class 0 vs Rest')\n",
    "plt.plot(fpr[1], tpr[1], linestyle='--',color='green', label='Class 1 vs Rest')\n",
    "plt.plot(fpr[2], tpr[2], linestyle='--',color='red', label='Class 2 vs Rest')\n",
    "plt.plot(fpr[3], tpr[3], linestyle='--',color='blue', label='Class 3 vs Rest')\n",
    "\n",
    "plt.title('Random Forest ROC curve: original model')\n",
    "plt.xlabel('False Positive Rate')\n",
    "plt.ylabel('True Positive rate')\n",
    "plt.legend(loc='best')\n",
    "plt.savefig('ROC',dpi=300);"
   ]
  },
  {
   "cell_type": "code",
   "execution_count": 372,
   "metadata": {},
   "outputs": [
    {
     "data": {
      "image/png": "[encoded data removed]",
      "text/plain": [
       "<Figure size 288x288 with 2 Axes>"
      ]
     },
     "metadata": {},
     "output_type": "display_data"
    }
   ],
   "source": [
    "array = confusion_matrix(y_test, rf_pred)\n",
    "\n",
    "rf_cm = pd.DataFrame(array, range(4), range(4))\n",
    "\n",
    "plt.figure(figsize=(4,4))\n",
    "sns.set(font_scale=1) # for label size\n",
    "sns.heatmap(rf_cm, annot=True, annot_kws={\"size\": 15}, cbar=True, square= True, fmt='.1f') # font size\n",
    "\n",
    "plt.title('Random Forest Confusion Matrix: original model')\n",
    "plt.show()"
   ]
  },
  {
   "cell_type": "markdown",
   "metadata": {},
   "source": [
    "[Back to Top](#top)\n",
    "<a id=\"mapping\"></a>\n",
    "# 4. Landslide susceptibility mapping"
   ]
  },
  {
   "cell_type": "code",
   "execution_count": 351,
   "metadata": {},
   "outputs": [
    {
     "name": "stderr",
     "output_type": "stream",
     "text": [
      "C:\\Users\\zheng\\AppData\\Local\\Temp/ipykernel_11876/393882748.py:13: SettingWithCopyWarning: \n",
      "A value is trying to be set on a copy of a slice from a DataFrame.\n",
      "Try using .loc[row_indexer,col_indexer] = value instead\n",
      "\n",
      "See the caveats in the documentation: https://pandas.pydata.org/pandas-docs/stable/user_guide/indexing.html#returning-a-view-versus-a-copy\n",
      "  data1['history']=2022-data1['YEAR_1']\n"
     ]
    }
   ],
   "source": [
    "#create dataset for landslide mapping\n",
    "data1=data[~data['SLOPE'].isin([9999])]\n",
    "data1=data[~data['HEADELEV'].isin([9999])]\n",
    "data1=data[~data['TAILELEV'].isin([9999])]\n",
    "data1=data[~data['ELE_DIFF'].isin([9999])]\n",
    "\n",
    "#newly added data: curv_plan, curv_prof, aspect, curv\n",
    "data1=data[~data['curv_plan'].isin([-9999])]\n",
    "data1=data[~data['curv_prof'].isin([-9999])]\n",
    "data1=data[~data['aspect'].isin([-9999])]\n",
    "data1=data[~data['curv'].isin([-9999])]\n",
    "\n",
    "data1['history']=2022-data1['YEAR_1']\n",
    "\n",
    "data1.to_csv('../save_data/data_mapping.csv')"
   ]
  },
  {
   "cell_type": "markdown",
   "metadata": {},
   "source": [
    "predict the landslide with logistic regression model"
   ]
  },
  {
   "cell_type": "code",
   "execution_count": 353,
   "metadata": {},
   "outputs": [],
   "source": [
    "lr_pred_all=lr.predict(x)\n",
    "lr_pred_all1=pd.DataFrame(lr_pred_all, columns = ['predict'])\n",
    "finalDf1 = pd.concat([data1, lr_pred_all1], axis = 1)\n",
    "#save the predict values in csv\n",
    "finalDf1.to_csv('../save_data/data_mapping2.csv')\n",
    "#next do the mapping in ArcGIS, join this table with the landslide point dataset layer and please see the results in report"
   ]
  },
  {
   "cell_type": "code",
   "execution_count": null,
   "metadata": {},
   "outputs": [],
   "source": []
  }
 ],
 "metadata": {
  "interpreter": {
   "hash": "968b5077a0d48cf2da4a50a8b0deb8e369346d611fbfede337ab15dbbe1d618f"
  },
  "kernelspec": {
   "display_name": "Python 3 (ipykernel)",
   "language": "python",
   "name": "python3"
  },
  "language_info": {
   "codemirror_mode": {
    "name": "ipython",
    "version": 3
   },
   "file_extension": ".py",
   "mimetype": "text/x-python",
   "name": "python",
   "nbconvert_exporter": "python",
   "pygments_lexer": "ipython3",
   "version": "3.9.7"
  }
 },
 "nbformat": 4,
 "nbformat_minor": 2
}
