{
 "cells": [
  {
   "cell_type": "code",
   "execution_count": 1,
   "metadata": {},
   "outputs": [],
   "source": [
    "\n",
    "import pandas as pd\n",
    "import numpy as np\n",
    "import numpy as np\n",
    "import pandas as pd\n",
    "import seaborn as sns\n",
    "import matplotlib.pyplot as plt\n",
    "import os\n",
    "\n",
    "import sklearn\n",
    "\n",
    "# Import necessary modules\n",
    "from sklearn.model_selection import train_test_split\n",
    "from sklearn.metrics import mean_squared_error\n",
    "from math import sqrt\n",
    "\n",
    "# Keras specific\n",
    "import keras\n",
    "from keras.models import Sequential\n",
    "from keras.layers import Dense,Flatten\n",
    "from tensorflow.keras.utils import to_categorical\n",
    "from sklearn import preprocessing\n",
    "from sklearn.model_selection import GridSearchCV\n",
    "\n",
    "from sklearn.linear_model import LogisticRegression\n",
    "from sklearn.svm import SVC\n",
    "from sklearn.tree import DecisionTreeClassifier\n",
    "from sklearn.ensemble import RandomForestClassifier\n",
    "from sklearn.neural_network import MLPClassifier\n",
    "from sklearn.neighbors import KNeighborsClassifier\n",
    "\n",
    "from sklearn.metrics import confusion_matrix\n",
    "from sklearn.metrics import accuracy_score\n",
    "from sklearn.metrics import roc_curve\n",
    "from sklearn.metrics import roc_auc_score\n",
    "from sklearn.metrics import precision_recall_fscore_support\n",
    "from sklearn.metrics import precision_recall_curve\n",
    "from tensorflow.keras.optimizers import RMSprop\n",
    "from keras.layers import Dense, Dropout,Flatten,Conv2D, MaxPooling2D\n",
    "import sys\n",
    "from sklearn.preprocessing import StandardScaler\n",
    "from sdv.demo import load_tabular_demo\n",
    "from sdv.tabular import CTGAN\n",
    "from sdv.evaluation import evaluate\n",
    "np.set_printoptions(threshold=sys.maxsize)"
   ]
  },
  {
   "cell_type": "code",
   "execution_count": 2,
   "metadata": {},
   "outputs": [
    {
     "data": {
      "text/plain": [
       "'C:\\\\Users\\\\zheng\\\\Desktop\\\\MUSA 650 RS\\\\429\\\\musa650-final\\\\script'"
      ]
     },
     "execution_count": 2,
     "metadata": {},
     "output_type": "execute_result"
    }
   ],
   "source": [
    "pwd"
   ]
  },
  {
   "cell_type": "code",
   "execution_count": 3,
   "metadata": {},
   "outputs": [
    {
     "data": {
      "text/html": [
       "<div>\n",
       "<style scoped>\n",
       "    .dataframe tbody tr th:only-of-type {\n",
       "        vertical-align: middle;\n",
       "    }\n",
       "\n",
       "    .dataframe tbody tr th {\n",
       "        vertical-align: top;\n",
       "    }\n",
       "\n",
       "    .dataframe thead th {\n",
       "        text-align: right;\n",
       "    }\n",
       "</style>\n",
       "<table border=\"1\" class=\"dataframe\">\n",
       "  <thead>\n",
       "    <tr style=\"text-align: right;\">\n",
       "      <th></th>\n",
       "      <th>SLIDE_TYPE</th>\n",
       "      <th>M_WIDTH</th>\n",
       "      <th>S_LENGTH</th>\n",
       "      <th>SLOPE</th>\n",
       "      <th>COVER</th>\n",
       "      <th>YEAR_1</th>\n",
       "      <th>HEADELEV</th>\n",
       "      <th>TAILELEV</th>\n",
       "      <th>ELE_DIFF</th>\n",
       "      <th>GULLY</th>\n",
       "      <th>CLASS</th>\n",
       "      <th>curv_plan</th>\n",
       "      <th>curv_prof</th>\n",
       "      <th>aspect</th>\n",
       "      <th>curv</th>\n",
       "      <th>ID</th>\n",
       "    </tr>\n",
       "  </thead>\n",
       "  <tbody>\n",
       "    <tr>\n",
       "      <th>0</th>\n",
       "      <td>R</td>\n",
       "      <td>14.0</td>\n",
       "      <td>8.0</td>\n",
       "      <td>9999.0</td>\n",
       "      <td>C</td>\n",
       "      <td>1967</td>\n",
       "      <td>9999.0</td>\n",
       "      <td>9999.0</td>\n",
       "      <td>9999.0</td>\n",
       "      <td>N</td>\n",
       "      <td>S</td>\n",
       "      <td>-9999.0</td>\n",
       "      <td>-9999.0</td>\n",
       "      <td>-9999.000</td>\n",
       "      <td>-9999.0</td>\n",
       "      <td>0</td>\n",
       "    </tr>\n",
       "    <tr>\n",
       "      <th>1</th>\n",
       "      <td>R</td>\n",
       "      <td>13.0</td>\n",
       "      <td>6.0</td>\n",
       "      <td>9999.0</td>\n",
       "      <td>C</td>\n",
       "      <td>1967</td>\n",
       "      <td>9999.0</td>\n",
       "      <td>9999.0</td>\n",
       "      <td>9999.0</td>\n",
       "      <td>N</td>\n",
       "      <td>S</td>\n",
       "      <td>-9999.0</td>\n",
       "      <td>-9999.0</td>\n",
       "      <td>-9999.000</td>\n",
       "      <td>-9999.0</td>\n",
       "      <td>1</td>\n",
       "    </tr>\n",
       "    <tr>\n",
       "      <th>2</th>\n",
       "      <td>R</td>\n",
       "      <td>15.0</td>\n",
       "      <td>13.5</td>\n",
       "      <td>9999.0</td>\n",
       "      <td>C</td>\n",
       "      <td>1967</td>\n",
       "      <td>9999.0</td>\n",
       "      <td>9999.0</td>\n",
       "      <td>9999.0</td>\n",
       "      <td>N</td>\n",
       "      <td>S</td>\n",
       "      <td>-9999.0</td>\n",
       "      <td>-9999.0</td>\n",
       "      <td>295.115</td>\n",
       "      <td>-9999.0</td>\n",
       "      <td>2</td>\n",
       "    </tr>\n",
       "    <tr>\n",
       "      <th>3</th>\n",
       "      <td>R</td>\n",
       "      <td>18.0</td>\n",
       "      <td>10.0</td>\n",
       "      <td>9999.0</td>\n",
       "      <td>C</td>\n",
       "      <td>1967</td>\n",
       "      <td>9999.0</td>\n",
       "      <td>9999.0</td>\n",
       "      <td>9999.0</td>\n",
       "      <td>N</td>\n",
       "      <td>S</td>\n",
       "      <td>-9999.0</td>\n",
       "      <td>-9999.0</td>\n",
       "      <td>150.945</td>\n",
       "      <td>-9999.0</td>\n",
       "      <td>3</td>\n",
       "    </tr>\n",
       "    <tr>\n",
       "      <th>4</th>\n",
       "      <td>R</td>\n",
       "      <td>17.0</td>\n",
       "      <td>10.0</td>\n",
       "      <td>9999.0</td>\n",
       "      <td>C</td>\n",
       "      <td>1967</td>\n",
       "      <td>9999.0</td>\n",
       "      <td>9999.0</td>\n",
       "      <td>9999.0</td>\n",
       "      <td>N</td>\n",
       "      <td>S</td>\n",
       "      <td>-9999.0</td>\n",
       "      <td>-9999.0</td>\n",
       "      <td>133.977</td>\n",
       "      <td>-9999.0</td>\n",
       "      <td>4</td>\n",
       "    </tr>\n",
       "  </tbody>\n",
       "</table>\n",
       "</div>"
      ],
      "text/plain": [
       "  SLIDE_TYPE  M_WIDTH  S_LENGTH   SLOPE COVER  YEAR_1  HEADELEV  TAILELEV  \\\n",
       "0          R     14.0       8.0  9999.0     C    1967    9999.0    9999.0   \n",
       "1          R     13.0       6.0  9999.0     C    1967    9999.0    9999.0   \n",
       "2          R     15.0      13.5  9999.0     C    1967    9999.0    9999.0   \n",
       "3          R     18.0      10.0  9999.0     C    1967    9999.0    9999.0   \n",
       "4          R     17.0      10.0  9999.0     C    1967    9999.0    9999.0   \n",
       "\n",
       "   ELE_DIFF GULLY CLASS  curv_plan  curv_prof    aspect    curv  ID  \n",
       "0    9999.0     N     S    -9999.0    -9999.0 -9999.000 -9999.0   0  \n",
       "1    9999.0     N     S    -9999.0    -9999.0 -9999.000 -9999.0   1  \n",
       "2    9999.0     N     S    -9999.0    -9999.0   295.115 -9999.0   2  \n",
       "3    9999.0     N     S    -9999.0    -9999.0   150.945 -9999.0   3  \n",
       "4    9999.0     N     S    -9999.0    -9999.0   133.977 -9999.0   4  "
      ]
     },
     "execution_count": 3,
     "metadata": {},
     "output_type": "execute_result"
    }
   ],
   "source": [
    "data_raw= pd.read_csv('..\\\\rawdata\\\\landslide3.csv')\n",
    "data_raw.head()"
   ]
  },
  {
   "cell_type": "markdown",
   "metadata": {},
   "source": [
    "#### data process\n"
   ]
  },
  {
   "cell_type": "code",
   "execution_count": 4,
   "metadata": {},
   "outputs": [
    {
     "name": "stderr",
     "output_type": "stream",
     "text": [
      "D:\\ProgramData\\Anaconda3\\lib\\site-packages\\seaborn\\_decorators.py:36: FutureWarning: Pass the following variable as a keyword arg: x. From version 0.12, the only valid positional argument will be `data`, and passing other arguments without an explicit keyword will result in an error or misinterpretation.\n",
      "  warnings.warn(\n"
     ]
    },
    {
     "data": {
      "text/plain": [
       "<AxesSubplot:xlabel='CLASS', ylabel='count'>"
      ]
     },
     "execution_count": 4,
     "metadata": {},
     "output_type": "execute_result"
    },
    {
     "data": {
      "image/png": "[encoded data removed]",
      "text/plain": [
       "<Figure size 432x288 with 1 Axes>"
      ]
     },
     "metadata": {
      "needs_background": "light"
     },
     "output_type": "display_data"
    }
   ],
   "source": [
    "#lot of '-' meaning uncategorized landslide\n",
    "sns.countplot(data_raw['CLASS'] )"
   ]
  },
  {
   "cell_type": "code",
   "execution_count": 5,
   "metadata": {},
   "outputs": [],
   "source": [
    "#todo: nothing to change here, we select 10000 data randomly\n",
    "data=data_raw.sample(n=10000)"
   ]
  },
  {
   "cell_type": "code",
   "execution_count": 6,
   "metadata": {},
   "outputs": [
    {
     "data": {
      "text/plain": [
       "(10000, 16)"
      ]
     },
     "execution_count": 6,
     "metadata": {},
     "output_type": "execute_result"
    }
   ],
   "source": [
    "data.shape"
   ]
  },
  {
   "cell_type": "code",
   "execution_count": 7,
   "metadata": {},
   "outputs": [
    {
     "name": "stderr",
     "output_type": "stream",
     "text": [
      "C:\\Users\\zheng\\AppData\\Local\\Temp/ipykernel_20792/1970437344.py:11: SettingWithCopyWarning: \n",
      "A value is trying to be set on a copy of a slice from a DataFrame.\n",
      "Try using .loc[row_indexer,col_indexer] = value instead\n",
      "\n",
      "See the caveats in the documentation: https://pandas.pydata.org/pandas-docs/stable/user_guide/indexing.html#returning-a-view-versus-a-copy\n",
      "  data1['history']=2022-data1['YEAR_1']\n",
      "D:\\ProgramData\\Anaconda3\\lib\\site-packages\\seaborn\\_decorators.py:36: FutureWarning: Pass the following variable as a keyword arg: x. From version 0.12, the only valid positional argument will be `data`, and passing other arguments without an explicit keyword will result in an error or misinterpretation.\n",
      "  warnings.warn(\n"
     ]
    },
    {
     "data": {
      "text/plain": [
       "<AxesSubplot:xlabel='SLIDE_TYPE', ylabel='count'>"
      ]
     },
     "execution_count": 7,
     "metadata": {},
     "output_type": "execute_result"
    },
    {
     "data": {
      "image/png": "[encoded data removed]",
      "text/plain": [
       "<Figure size 432x288 with 1 Axes>"
      ]
     },
     "metadata": {
      "needs_background": "light"
     },
     "output_type": "display_data"
    }
   ],
   "source": [
    "data1=data[~data['SLOPE'].isin([9999])]\n",
    "data1=data[~data['HEADELEV'].isin([9999])]\n",
    "data1=data[~data['TAILELEV'].isin([9999])]\n",
    "\n",
    "#newly added data: curv_plan, curv_prof, aspect, curv\n",
    "data1=data[~data['curv_plan'].isin([-9999])]\n",
    "data1=data[~data['curv_prof'].isin([-9999])]\n",
    "data1=data[~data['aspect'].isin([-9999])]\n",
    "data1=data[~data['curv'].isin([-9999])]\n",
    "\n",
    "data1['history']=2022-data1['YEAR_1']\n",
    "data1=data1.drop(['YEAR_1','CLASS','ID'], axis=1)\n",
    "#remove class\n",
    "data2 = pd.get_dummies(data1, columns=['COVER','GULLY'])\n",
    "#Y variable: SLIDE_TYPE\n",
    "def slide_type(slide_type1):\n",
    "    if slide_type1 == 'R':\n",
    "        return 0\n",
    "    elif slide_type1 == 'C':\n",
    "        return 1\n",
    "    elif slide_type1 == 'O':\n",
    "        return 2\n",
    "    else :\n",
    "        return 3\n",
    "    \n",
    "data2['SLIDE_TYPE'] = data2['SLIDE_TYPE'].apply(slide_type)\n",
    "\n",
    "sns.countplot(data2['SLIDE_TYPE'] )"
   ]
  },
  {
   "cell_type": "code",
   "execution_count": 8,
   "metadata": {},
   "outputs": [
    {
     "data": {
      "text/plain": [
       "(9228, 18)"
      ]
     },
     "execution_count": 8,
     "metadata": {},
     "output_type": "execute_result"
    }
   ],
   "source": [
    "data2.shape"
   ]
  },
  {
   "cell_type": "code",
   "execution_count": 9,
   "metadata": {},
   "outputs": [
    {
     "data": {
      "text/html": [
       "<div>\n",
       "<style scoped>\n",
       "    .dataframe tbody tr th:only-of-type {\n",
       "        vertical-align: middle;\n",
       "    }\n",
       "\n",
       "    .dataframe tbody tr th {\n",
       "        vertical-align: top;\n",
       "    }\n",
       "\n",
       "    .dataframe thead th {\n",
       "        text-align: right;\n",
       "    }\n",
       "</style>\n",
       "<table border=\"1\" class=\"dataframe\">\n",
       "  <thead>\n",
       "    <tr style=\"text-align: right;\">\n",
       "      <th></th>\n",
       "      <th>SLIDE_TYPE</th>\n",
       "      <th>M_WIDTH</th>\n",
       "      <th>S_LENGTH</th>\n",
       "      <th>SLOPE</th>\n",
       "      <th>HEADELEV</th>\n",
       "      <th>TAILELEV</th>\n",
       "      <th>ELE_DIFF</th>\n",
       "      <th>curv_plan</th>\n",
       "      <th>curv_prof</th>\n",
       "      <th>aspect</th>\n",
       "      <th>curv</th>\n",
       "      <th>history</th>\n",
       "      <th>COVER_A</th>\n",
       "      <th>COVER_B</th>\n",
       "      <th>COVER_C</th>\n",
       "      <th>COVER_D</th>\n",
       "      <th>GULLY_N</th>\n",
       "      <th>GULLY_Y</th>\n",
       "    </tr>\n",
       "  </thead>\n",
       "  <tbody>\n",
       "    <tr>\n",
       "      <th>87790</th>\n",
       "      <td>0</td>\n",
       "      <td>13.0</td>\n",
       "      <td>6.5</td>\n",
       "      <td>38.5</td>\n",
       "      <td>222.0</td>\n",
       "      <td>216.0</td>\n",
       "      <td>6.0</td>\n",
       "      <td>0.073503</td>\n",
       "      <td>-0.528514</td>\n",
       "      <td>242.8860</td>\n",
       "      <td>0.602017</td>\n",
       "      <td>59</td>\n",
       "      <td>0</td>\n",
       "      <td>0</td>\n",
       "      <td>1</td>\n",
       "      <td>0</td>\n",
       "      <td>1</td>\n",
       "      <td>0</td>\n",
       "    </tr>\n",
       "    <tr>\n",
       "      <th>77112</th>\n",
       "      <td>0</td>\n",
       "      <td>7.0</td>\n",
       "      <td>6.5</td>\n",
       "      <td>47.5</td>\n",
       "      <td>424.0</td>\n",
       "      <td>417.0</td>\n",
       "      <td>7.0</td>\n",
       "      <td>0.128651</td>\n",
       "      <td>-0.325933</td>\n",
       "      <td>133.0910</td>\n",
       "      <td>0.454584</td>\n",
       "      <td>59</td>\n",
       "      <td>0</td>\n",
       "      <td>0</td>\n",
       "      <td>1</td>\n",
       "      <td>0</td>\n",
       "      <td>1</td>\n",
       "      <td>0</td>\n",
       "    </tr>\n",
       "    <tr>\n",
       "      <th>27785</th>\n",
       "      <td>0</td>\n",
       "      <td>12.0</td>\n",
       "      <td>8.5</td>\n",
       "      <td>39.0</td>\n",
       "      <td>57.0</td>\n",
       "      <td>51.0</td>\n",
       "      <td>6.0</td>\n",
       "      <td>-0.331165</td>\n",
       "      <td>0.283138</td>\n",
       "      <td>99.4623</td>\n",
       "      <td>-0.614303</td>\n",
       "      <td>59</td>\n",
       "      <td>0</td>\n",
       "      <td>0</td>\n",
       "      <td>1</td>\n",
       "      <td>0</td>\n",
       "      <td>1</td>\n",
       "      <td>0</td>\n",
       "    </tr>\n",
       "    <tr>\n",
       "      <th>85899</th>\n",
       "      <td>0</td>\n",
       "      <td>10.5</td>\n",
       "      <td>13.5</td>\n",
       "      <td>40.5</td>\n",
       "      <td>277.0</td>\n",
       "      <td>268.0</td>\n",
       "      <td>9.0</td>\n",
       "      <td>0.051353</td>\n",
       "      <td>-0.145224</td>\n",
       "      <td>341.5650</td>\n",
       "      <td>0.196577</td>\n",
       "      <td>59</td>\n",
       "      <td>0</td>\n",
       "      <td>0</td>\n",
       "      <td>1</td>\n",
       "      <td>0</td>\n",
       "      <td>1</td>\n",
       "      <td>0</td>\n",
       "    </tr>\n",
       "    <tr>\n",
       "      <th>16880</th>\n",
       "      <td>0</td>\n",
       "      <td>9.0</td>\n",
       "      <td>5.0</td>\n",
       "      <td>29.5</td>\n",
       "      <td>117.0</td>\n",
       "      <td>112.0</td>\n",
       "      <td>5.0</td>\n",
       "      <td>0.088577</td>\n",
       "      <td>0.137721</td>\n",
       "      <td>200.7070</td>\n",
       "      <td>-0.049144</td>\n",
       "      <td>59</td>\n",
       "      <td>0</td>\n",
       "      <td>0</td>\n",
       "      <td>1</td>\n",
       "      <td>0</td>\n",
       "      <td>1</td>\n",
       "      <td>0</td>\n",
       "    </tr>\n",
       "  </tbody>\n",
       "</table>\n",
       "</div>"
      ],
      "text/plain": [
       "       SLIDE_TYPE  M_WIDTH  S_LENGTH  SLOPE  HEADELEV  TAILELEV  ELE_DIFF  \\\n",
       "87790           0     13.0       6.5   38.5     222.0     216.0       6.0   \n",
       "77112           0      7.0       6.5   47.5     424.0     417.0       7.0   \n",
       "27785           0     12.0       8.5   39.0      57.0      51.0       6.0   \n",
       "85899           0     10.5      13.5   40.5     277.0     268.0       9.0   \n",
       "16880           0      9.0       5.0   29.5     117.0     112.0       5.0   \n",
       "\n",
       "       curv_plan  curv_prof    aspect      curv  history  COVER_A  COVER_B  \\\n",
       "87790   0.073503  -0.528514  242.8860  0.602017       59        0        0   \n",
       "77112   0.128651  -0.325933  133.0910  0.454584       59        0        0   \n",
       "27785  -0.331165   0.283138   99.4623 -0.614303       59        0        0   \n",
       "85899   0.051353  -0.145224  341.5650  0.196577       59        0        0   \n",
       "16880   0.088577   0.137721  200.7070 -0.049144       59        0        0   \n",
       "\n",
       "       COVER_C  COVER_D  GULLY_N  GULLY_Y  \n",
       "87790        1        0        1        0  \n",
       "77112        1        0        1        0  \n",
       "27785        1        0        1        0  \n",
       "85899        1        0        1        0  \n",
       "16880        1        0        1        0  "
      ]
     },
     "execution_count": 9,
     "metadata": {},
     "output_type": "execute_result"
    }
   ],
   "source": [
    "data2.head()"
   ]
  },
  {
   "cell_type": "code",
   "execution_count": 10,
   "metadata": {},
   "outputs": [
    {
     "name": "stderr",
     "output_type": "stream",
     "text": [
      "C:\\Users\\zheng\\AppData\\Local\\Temp/ipykernel_20792/3010493044.py:1: FutureWarning: The pandas.np module is deprecated and will be removed from pandas in a future version. Import numpy directly instead\n",
      "  col= data2.columns[pd.np.r_[1:18]]\n"
     ]
    }
   ],
   "source": [
    "col= data2.columns[pd.np.r_[1:18]]\n",
    "x = np.array(data2[col])\n",
    "y=np.array(data2['SLIDE_TYPE'])\n",
    "# collect data with train data:test data is 3:7\n",
    "X_train, X_test, y_train, y_test = train_test_split(x,y, test_size = 0.3, stratify = y, random_state = 4)\n"
   ]
  },
  {
   "cell_type": "code",
   "execution_count": 11,
   "metadata": {},
   "outputs": [
    {
     "name": "stdout",
     "output_type": "stream",
     "text": [
      "(9228,)\n",
      "(9228, 17)\n",
      "(6459, 17)\n",
      "(6459,)\n"
     ]
    }
   ],
   "source": [
    "print(y.shape)\n",
    "print(x.shape)\n",
    "print(X_train.shape)\n",
    "print(y_train.shape)"
   ]
  },
  {
   "cell_type": "code",
   "execution_count": 12,
   "metadata": {},
   "outputs": [
    {
     "data": {
      "text/plain": [
       "array([1, 0, 0, 0, 1], dtype=int64)"
      ]
     },
     "execution_count": 12,
     "metadata": {},
     "output_type": "execute_result"
    }
   ],
   "source": [
    "y_train[:5]"
   ]
  },
  {
   "cell_type": "code",
   "execution_count": 13,
   "metadata": {},
   "outputs": [
    {
     "data": {
      "text/plain": [
       "array([[ 1.20000e+01,  1.15000e+01,  4.50000e+01,  2.26000e+02,\n",
       "         1.40000e+01,  2.12000e+02,  5.25918e-02, -1.07127e-01,\n",
       "         3.04019e+02,  1.59719e-01,  1.40000e+01,  1.00000e+00,\n",
       "         0.00000e+00,  0.00000e+00,  0.00000e+00,  1.00000e+00,\n",
       "         0.00000e+00],\n",
       "       [ 1.30000e+01,  7.50000e+00,  2.85000e+01,  2.39000e+02,\n",
       "         2.35000e+02,  4.00000e+00,  4.37082e-01,  7.06979e-03,\n",
       "        -9.99900e+03,  4.30012e-01,  5.90000e+01,  0.00000e+00,\n",
       "         0.00000e+00,  1.00000e+00,  0.00000e+00,  1.00000e+00,\n",
       "         0.00000e+00],\n",
       "       [ 1.20000e+01,  9.00000e+00,  5.20000e+01,  4.58000e+02,\n",
       "         4.48000e+02,  1.00000e+01, -1.11331e-01,  5.52116e-01,\n",
       "         1.65084e+02, -6.63447e-01,  5.90000e+01,  0.00000e+00,\n",
       "         0.00000e+00,  1.00000e+00,  0.00000e+00,  1.00000e+00,\n",
       "         0.00000e+00],\n",
       "       [ 1.10000e+01,  9.00000e+00,  2.95000e+01,  2.32000e+02,\n",
       "         2.26000e+02,  6.00000e+00, -9.22204e-02, -1.85040e-02,\n",
       "         1.18880e+02, -7.37164e-02,  5.90000e+01,  0.00000e+00,\n",
       "         0.00000e+00,  0.00000e+00,  1.00000e+00,  1.00000e+00,\n",
       "         0.00000e+00],\n",
       "       [ 8.00000e+00,  1.05000e+01,  4.60000e+01,  1.73000e+02,\n",
       "         7.00000e+01,  1.03000e+02,  1.16783e-01,  5.53522e-02,\n",
       "         8.22348e+01,  6.14303e-02,  4.00000e+00,  1.00000e+00,\n",
       "         0.00000e+00,  0.00000e+00,  0.00000e+00,  0.00000e+00,\n",
       "         1.00000e+00]])"
      ]
     },
     "execution_count": 13,
     "metadata": {},
     "output_type": "execute_result"
    }
   ],
   "source": [
    "X_train[:5,:]"
   ]
  },
  {
   "cell_type": "markdown",
   "metadata": {},
   "source": [
    "### changes of data processing"
   ]
  },
  {
   "cell_type": "code",
   "execution_count": 14,
   "metadata": {},
   "outputs": [
    {
     "name": "stderr",
     "output_type": "stream",
     "text": [
      "C:\\Users\\zheng\\AppData\\Local\\Temp/ipykernel_20792/2506634044.py:3: FutureWarning: The pandas.np module is deprecated and will be removed from pandas in a future version. Import numpy directly instead\n",
      "  train_data=pd.DataFrame(data=original_train,columns=data2.columns[pd.np.r_[:18]])\n"
     ]
    },
    {
     "data": {
      "text/html": [
       "<div>\n",
       "<style scoped>\n",
       "    .dataframe tbody tr th:only-of-type {\n",
       "        vertical-align: middle;\n",
       "    }\n",
       "\n",
       "    .dataframe tbody tr th {\n",
       "        vertical-align: top;\n",
       "    }\n",
       "\n",
       "    .dataframe thead th {\n",
       "        text-align: right;\n",
       "    }\n",
       "</style>\n",
       "<table border=\"1\" class=\"dataframe\">\n",
       "  <thead>\n",
       "    <tr style=\"text-align: right;\">\n",
       "      <th></th>\n",
       "      <th>SLIDE_TYPE</th>\n",
       "      <th>M_WIDTH</th>\n",
       "      <th>S_LENGTH</th>\n",
       "      <th>SLOPE</th>\n",
       "      <th>HEADELEV</th>\n",
       "      <th>TAILELEV</th>\n",
       "      <th>ELE_DIFF</th>\n",
       "      <th>curv_plan</th>\n",
       "      <th>curv_prof</th>\n",
       "      <th>aspect</th>\n",
       "      <th>curv</th>\n",
       "      <th>history</th>\n",
       "      <th>COVER_A</th>\n",
       "      <th>COVER_B</th>\n",
       "      <th>COVER_C</th>\n",
       "      <th>COVER_D</th>\n",
       "      <th>GULLY_N</th>\n",
       "      <th>GULLY_Y</th>\n",
       "    </tr>\n",
       "  </thead>\n",
       "  <tbody>\n",
       "    <tr>\n",
       "      <th>0</th>\n",
       "      <td>1.0</td>\n",
       "      <td>12.0</td>\n",
       "      <td>11.5</td>\n",
       "      <td>45.0</td>\n",
       "      <td>226.0</td>\n",
       "      <td>14.0</td>\n",
       "      <td>212.0</td>\n",
       "      <td>0.052592</td>\n",
       "      <td>-0.107127</td>\n",
       "      <td>304.0190</td>\n",
       "      <td>0.159719</td>\n",
       "      <td>14.0</td>\n",
       "      <td>1.0</td>\n",
       "      <td>0.0</td>\n",
       "      <td>0.0</td>\n",
       "      <td>0.0</td>\n",
       "      <td>1.0</td>\n",
       "      <td>0.0</td>\n",
       "    </tr>\n",
       "    <tr>\n",
       "      <th>1</th>\n",
       "      <td>0.0</td>\n",
       "      <td>13.0</td>\n",
       "      <td>7.5</td>\n",
       "      <td>28.5</td>\n",
       "      <td>239.0</td>\n",
       "      <td>235.0</td>\n",
       "      <td>4.0</td>\n",
       "      <td>0.437082</td>\n",
       "      <td>0.007070</td>\n",
       "      <td>-9999.0000</td>\n",
       "      <td>0.430012</td>\n",
       "      <td>59.0</td>\n",
       "      <td>0.0</td>\n",
       "      <td>0.0</td>\n",
       "      <td>1.0</td>\n",
       "      <td>0.0</td>\n",
       "      <td>1.0</td>\n",
       "      <td>0.0</td>\n",
       "    </tr>\n",
       "    <tr>\n",
       "      <th>2</th>\n",
       "      <td>0.0</td>\n",
       "      <td>12.0</td>\n",
       "      <td>9.0</td>\n",
       "      <td>52.0</td>\n",
       "      <td>458.0</td>\n",
       "      <td>448.0</td>\n",
       "      <td>10.0</td>\n",
       "      <td>-0.111331</td>\n",
       "      <td>0.552116</td>\n",
       "      <td>165.0840</td>\n",
       "      <td>-0.663447</td>\n",
       "      <td>59.0</td>\n",
       "      <td>0.0</td>\n",
       "      <td>0.0</td>\n",
       "      <td>1.0</td>\n",
       "      <td>0.0</td>\n",
       "      <td>1.0</td>\n",
       "      <td>0.0</td>\n",
       "    </tr>\n",
       "    <tr>\n",
       "      <th>3</th>\n",
       "      <td>0.0</td>\n",
       "      <td>11.0</td>\n",
       "      <td>9.0</td>\n",
       "      <td>29.5</td>\n",
       "      <td>232.0</td>\n",
       "      <td>226.0</td>\n",
       "      <td>6.0</td>\n",
       "      <td>-0.092220</td>\n",
       "      <td>-0.018504</td>\n",
       "      <td>118.8800</td>\n",
       "      <td>-0.073716</td>\n",
       "      <td>59.0</td>\n",
       "      <td>0.0</td>\n",
       "      <td>0.0</td>\n",
       "      <td>0.0</td>\n",
       "      <td>1.0</td>\n",
       "      <td>1.0</td>\n",
       "      <td>0.0</td>\n",
       "    </tr>\n",
       "    <tr>\n",
       "      <th>4</th>\n",
       "      <td>1.0</td>\n",
       "      <td>8.0</td>\n",
       "      <td>10.5</td>\n",
       "      <td>46.0</td>\n",
       "      <td>173.0</td>\n",
       "      <td>70.0</td>\n",
       "      <td>103.0</td>\n",
       "      <td>0.116783</td>\n",
       "      <td>0.055352</td>\n",
       "      <td>82.2348</td>\n",
       "      <td>0.061430</td>\n",
       "      <td>4.0</td>\n",
       "      <td>1.0</td>\n",
       "      <td>0.0</td>\n",
       "      <td>0.0</td>\n",
       "      <td>0.0</td>\n",
       "      <td>0.0</td>\n",
       "      <td>1.0</td>\n",
       "    </tr>\n",
       "  </tbody>\n",
       "</table>\n",
       "</div>"
      ],
      "text/plain": [
       "   SLIDE_TYPE  M_WIDTH  S_LENGTH  SLOPE  HEADELEV  TAILELEV  ELE_DIFF  \\\n",
       "0         1.0     12.0      11.5   45.0     226.0      14.0     212.0   \n",
       "1         0.0     13.0       7.5   28.5     239.0     235.0       4.0   \n",
       "2         0.0     12.0       9.0   52.0     458.0     448.0      10.0   \n",
       "3         0.0     11.0       9.0   29.5     232.0     226.0       6.0   \n",
       "4         1.0      8.0      10.5   46.0     173.0      70.0     103.0   \n",
       "\n",
       "   curv_plan  curv_prof     aspect      curv  history  COVER_A  COVER_B  \\\n",
       "0   0.052592  -0.107127   304.0190  0.159719     14.0      1.0      0.0   \n",
       "1   0.437082   0.007070 -9999.0000  0.430012     59.0      0.0      0.0   \n",
       "2  -0.111331   0.552116   165.0840 -0.663447     59.0      0.0      0.0   \n",
       "3  -0.092220  -0.018504   118.8800 -0.073716     59.0      0.0      0.0   \n",
       "4   0.116783   0.055352    82.2348  0.061430      4.0      1.0      0.0   \n",
       "\n",
       "   COVER_C  COVER_D  GULLY_N  GULLY_Y  \n",
       "0      0.0      0.0      1.0      0.0  \n",
       "1      1.0      0.0      1.0      0.0  \n",
       "2      1.0      0.0      1.0      0.0  \n",
       "3      0.0      1.0      1.0      0.0  \n",
       "4      0.0      0.0      0.0      1.0  "
      ]
     },
     "execution_count": 14,
     "metadata": {},
     "output_type": "execute_result"
    }
   ],
   "source": [
    "# the input of gan in svd package is df, here convert the numpy into df\n",
    "original_train=np.concatenate((y_train.reshape(-1,1),X_train),axis=1)\n",
    "train_data=pd.DataFrame(data=original_train,columns=data2.columns[pd.np.r_[:18]])\n",
    "train_data.head()\n"
   ]
  },
  {
   "cell_type": "markdown",
   "metadata": {},
   "source": []
  },
  {
   "cell_type": "markdown",
   "metadata": {},
   "source": [
    "# code below: train each label respectively"
   ]
  },
  {
   "cell_type": "markdown",
   "metadata": {},
   "source": [
    "### GAN Core"
   ]
  },
  {
   "cell_type": "code",
   "execution_count": 36,
   "metadata": {},
   "outputs": [
    {
     "name": "stderr",
     "output_type": "stream",
     "text": [
      "D:\\ProgramData\\Anaconda3\\lib\\site-packages\\sklearn\\mixture\\_base.py:147: ConvergenceWarning: Number of distinct clusters (4) found smaller than n_clusters (10). Possibly due to duplicate points in X.\n",
      "  label = cluster.KMeans(n_clusters=self.n_components, n_init=1,\n",
      "D:\\ProgramData\\Anaconda3\\lib\\site-packages\\sklearn\\mixture\\_base.py:265: ConvergenceWarning: Initialization 1 did not converge. Try different init parameters, or increase max_iter, tol or check for degenerate data.\n",
      "  warnings.warn('Initialization %d did not converge. '\n",
      "D:\\ProgramData\\Anaconda3\\lib\\site-packages\\sklearn\\mixture\\_base.py:265: ConvergenceWarning: Initialization 1 did not converge. Try different init parameters, or increase max_iter, tol or check for degenerate data.\n",
      "  warnings.warn('Initialization %d did not converge. '\n",
      "D:\\ProgramData\\Anaconda3\\lib\\site-packages\\sklearn\\mixture\\_base.py:265: ConvergenceWarning: Initialization 1 did not converge. Try different init parameters, or increase max_iter, tol or check for degenerate data.\n",
      "  warnings.warn('Initialization %d did not converge. '\n",
      "D:\\ProgramData\\Anaconda3\\lib\\site-packages\\sklearn\\mixture\\_base.py:265: ConvergenceWarning: Initialization 1 did not converge. Try different init parameters, or increase max_iter, tol or check for degenerate data.\n",
      "  warnings.warn('Initialization %d did not converge. '\n",
      "D:\\ProgramData\\Anaconda3\\lib\\site-packages\\sklearn\\mixture\\_base.py:265: ConvergenceWarning: Initialization 1 did not converge. Try different init parameters, or increase max_iter, tol or check for degenerate data.\n",
      "  warnings.warn('Initialization %d did not converge. '\n",
      "D:\\ProgramData\\Anaconda3\\lib\\site-packages\\sklearn\\mixture\\_base.py:265: ConvergenceWarning: Initialization 1 did not converge. Try different init parameters, or increase max_iter, tol or check for degenerate data.\n",
      "  warnings.warn('Initialization %d did not converge. '\n",
      "D:\\ProgramData\\Anaconda3\\lib\\site-packages\\sklearn\\mixture\\_base.py:265: ConvergenceWarning: Initialization 1 did not converge. Try different init parameters, or increase max_iter, tol or check for degenerate data.\n",
      "  warnings.warn('Initialization %d did not converge. '\n",
      "D:\\ProgramData\\Anaconda3\\lib\\site-packages\\sklearn\\mixture\\_base.py:265: ConvergenceWarning: Initialization 1 did not converge. Try different init parameters, or increase max_iter, tol or check for degenerate data.\n",
      "  warnings.warn('Initialization %d did not converge. '\n",
      "D:\\ProgramData\\Anaconda3\\lib\\site-packages\\sklearn\\mixture\\_base.py:265: ConvergenceWarning: Initialization 1 did not converge. Try different init parameters, or increase max_iter, tol or check for degenerate data.\n",
      "  warnings.warn('Initialization %d did not converge. '\n",
      "D:\\ProgramData\\Anaconda3\\lib\\site-packages\\ctgan\\data_transformer.py:111: SettingWithCopyWarning: \n",
      "A value is trying to be set on a copy of a slice from a DataFrame.\n",
      "Try using .loc[row_indexer,col_indexer] = value instead\n",
      "\n",
      "See the caveats in the documentation: https://pandas.pydata.org/pandas-docs/stable/user_guide/indexing.html#returning-a-view-versus-a-copy\n",
      "  data[column_name] = data[column_name].to_numpy().flatten()\n",
      "D:\\ProgramData\\Anaconda3\\lib\\site-packages\\ctgan\\data_transformer.py:111: SettingWithCopyWarning: \n",
      "A value is trying to be set on a copy of a slice from a DataFrame.\n",
      "Try using .loc[row_indexer,col_indexer] = value instead\n",
      "\n",
      "See the caveats in the documentation: https://pandas.pydata.org/pandas-docs/stable/user_guide/indexing.html#returning-a-view-versus-a-copy\n",
      "  data[column_name] = data[column_name].to_numpy().flatten()\n",
      "D:\\ProgramData\\Anaconda3\\lib\\site-packages\\ctgan\\data_transformer.py:111: SettingWithCopyWarning: \n",
      "A value is trying to be set on a copy of a slice from a DataFrame.\n",
      "Try using .loc[row_indexer,col_indexer] = value instead\n",
      "\n",
      "See the caveats in the documentation: https://pandas.pydata.org/pandas-docs/stable/user_guide/indexing.html#returning-a-view-versus-a-copy\n",
      "  data[column_name] = data[column_name].to_numpy().flatten()\n",
      "D:\\ProgramData\\Anaconda3\\lib\\site-packages\\ctgan\\data_transformer.py:111: SettingWithCopyWarning: \n",
      "A value is trying to be set on a copy of a slice from a DataFrame.\n",
      "Try using .loc[row_indexer,col_indexer] = value instead\n",
      "\n",
      "See the caveats in the documentation: https://pandas.pydata.org/pandas-docs/stable/user_guide/indexing.html#returning-a-view-versus-a-copy\n",
      "  data[column_name] = data[column_name].to_numpy().flatten()\n",
      "D:\\ProgramData\\Anaconda3\\lib\\site-packages\\ctgan\\data_transformer.py:111: SettingWithCopyWarning: \n",
      "A value is trying to be set on a copy of a slice from a DataFrame.\n",
      "Try using .loc[row_indexer,col_indexer] = value instead\n",
      "\n",
      "See the caveats in the documentation: https://pandas.pydata.org/pandas-docs/stable/user_guide/indexing.html#returning-a-view-versus-a-copy\n",
      "  data[column_name] = data[column_name].to_numpy().flatten()\n",
      "D:\\ProgramData\\Anaconda3\\lib\\site-packages\\ctgan\\data_transformer.py:111: SettingWithCopyWarning: \n",
      "A value is trying to be set on a copy of a slice from a DataFrame.\n",
      "Try using .loc[row_indexer,col_indexer] = value instead\n",
      "\n",
      "See the caveats in the documentation: https://pandas.pydata.org/pandas-docs/stable/user_guide/indexing.html#returning-a-view-versus-a-copy\n",
      "  data[column_name] = data[column_name].to_numpy().flatten()\n",
      "D:\\ProgramData\\Anaconda3\\lib\\site-packages\\ctgan\\data_transformer.py:111: SettingWithCopyWarning: \n",
      "A value is trying to be set on a copy of a slice from a DataFrame.\n",
      "Try using .loc[row_indexer,col_indexer] = value instead\n",
      "\n",
      "See the caveats in the documentation: https://pandas.pydata.org/pandas-docs/stable/user_guide/indexing.html#returning-a-view-versus-a-copy\n",
      "  data[column_name] = data[column_name].to_numpy().flatten()\n",
      "D:\\ProgramData\\Anaconda3\\lib\\site-packages\\ctgan\\data_transformer.py:111: SettingWithCopyWarning: \n",
      "A value is trying to be set on a copy of a slice from a DataFrame.\n",
      "Try using .loc[row_indexer,col_indexer] = value instead\n",
      "\n",
      "See the caveats in the documentation: https://pandas.pydata.org/pandas-docs/stable/user_guide/indexing.html#returning-a-view-versus-a-copy\n",
      "  data[column_name] = data[column_name].to_numpy().flatten()\n",
      "D:\\ProgramData\\Anaconda3\\lib\\site-packages\\ctgan\\data_transformer.py:111: SettingWithCopyWarning: \n",
      "A value is trying to be set on a copy of a slice from a DataFrame.\n",
      "Try using .loc[row_indexer,col_indexer] = value instead\n",
      "\n",
      "See the caveats in the documentation: https://pandas.pydata.org/pandas-docs/stable/user_guide/indexing.html#returning-a-view-versus-a-copy\n",
      "  data[column_name] = data[column_name].to_numpy().flatten()\n",
      "D:\\ProgramData\\Anaconda3\\lib\\site-packages\\ctgan\\data_transformer.py:111: SettingWithCopyWarning: \n",
      "A value is trying to be set on a copy of a slice from a DataFrame.\n",
      "Try using .loc[row_indexer,col_indexer] = value instead\n",
      "\n",
      "See the caveats in the documentation: https://pandas.pydata.org/pandas-docs/stable/user_guide/indexing.html#returning-a-view-versus-a-copy\n",
      "  data[column_name] = data[column_name].to_numpy().flatten()\n",
      "D:\\ProgramData\\Anaconda3\\lib\\site-packages\\ctgan\\data_transformer.py:111: SettingWithCopyWarning: \n",
      "A value is trying to be set on a copy of a slice from a DataFrame.\n",
      "Try using .loc[row_indexer,col_indexer] = value instead\n",
      "\n",
      "See the caveats in the documentation: https://pandas.pydata.org/pandas-docs/stable/user_guide/indexing.html#returning-a-view-versus-a-copy\n",
      "  data[column_name] = data[column_name].to_numpy().flatten()\n",
      "D:\\ProgramData\\Anaconda3\\lib\\site-packages\\ctgan\\data_transformer.py:111: SettingWithCopyWarning: \n",
      "A value is trying to be set on a copy of a slice from a DataFrame.\n",
      "Try using .loc[row_indexer,col_indexer] = value instead\n",
      "\n",
      "See the caveats in the documentation: https://pandas.pydata.org/pandas-docs/stable/user_guide/indexing.html#returning-a-view-versus-a-copy\n",
      "  data[column_name] = data[column_name].to_numpy().flatten()\n"
     ]
    }
   ],
   "source": [
    "# todo(important!): if you have GPU, cuda = True, else cuda = False \n",
    "model = CTGAN(cuda=True)\n",
    "\n",
    "# todo(important!): here we train gan model according to original train_data\n",
    "# tune the parameter according to ref doc: https://sdv.dev/SDV/user_guides/single_table/ctgan.html\n",
    "model.fit(train_data)"
   ]
  },
  {
   "cell_type": "code",
   "execution_count": 37,
   "metadata": {},
   "outputs": [
    {
     "data": {
      "text/plain": [
       "(6453, 18)"
      ]
     },
     "execution_count": 37,
     "metadata": {},
     "output_type": "execute_result"
    }
   ],
   "source": [
    "original_train.shape"
   ]
  },
  {
   "cell_type": "code",
   "execution_count": 38,
   "metadata": {},
   "outputs": [],
   "source": [
    "\n",
    "# todo: nothing needs to change but a reminder: \n",
    "# once you decide to use previous model, just load it, you don't need to train it again!\n",
    "\n",
    "# save gan model \n",
    "model.save('new_trial\\\\my_model.pkl')\n"
   ]
  },
  {
   "cell_type": "code",
   "execution_count": 15,
   "metadata": {},
   "outputs": [],
   "source": [
    "# load gan model \n",
    "loaded = CTGAN.load('new_trial\\\\my_model.pkl')"
   ]
  },
  {
   "cell_type": "code",
   "execution_count": 16,
   "metadata": {},
   "outputs": [],
   "source": [
    "# generate new data, the original data: new data = 1:1 \n",
    "# todo: you can change the ratio between original data: new data by 'num_rows'\n",
    "new_data = loaded.sample(num_rows=train_data.shape[0])"
   ]
  },
  {
   "cell_type": "code",
   "execution_count": 17,
   "metadata": {},
   "outputs": [
    {
     "data": {
      "text/plain": [
       "(6459, 18)"
      ]
     },
     "execution_count": 17,
     "metadata": {},
     "output_type": "execute_result"
    }
   ],
   "source": [
    "new_data.shape"
   ]
  },
  {
   "cell_type": "code",
   "execution_count": 18,
   "metadata": {},
   "outputs": [
    {
     "name": "stderr",
     "output_type": "stream",
     "text": [
      "D:\\ProgramData\\Anaconda3\\lib\\site-packages\\seaborn\\_decorators.py:36: FutureWarning: Pass the following variable as a keyword arg: x. From version 0.12, the only valid positional argument will be `data`, and passing other arguments without an explicit keyword will result in an error or misinterpretation.\n",
      "  warnings.warn(\n"
     ]
    },
    {
     "data": {
      "text/plain": [
       "<AxesSubplot:xlabel='SLIDE_TYPE', ylabel='count'>"
      ]
     },
     "execution_count": 18,
     "metadata": {},
     "output_type": "execute_result"
    },
    {
     "data": {
      "image/png": "[encoded data removed]",
      "text/plain": [
       "<Figure size 432x288 with 1 Axes>"
      ]
     },
     "metadata": {
      "needs_background": "light"
     },
     "output_type": "display_data"
    }
   ],
   "source": [
    "# label ditribution in sythetic data\n",
    "# filter \n",
    "# todo(important!): nothing need to change, but remember to tune the parameter according to the this plot\n",
    "sns.countplot(new_data['SLIDE_TYPE'] )\n"
   ]
  },
  {
   "cell_type": "code",
   "execution_count": 61,
   "metadata": {},
   "outputs": [
    {
     "name": "stderr",
     "output_type": "stream",
     "text": [
      "D:\\ProgramData\\Anaconda3\\lib\\site-packages\\sklearn\\linear_model\\_logistic.py:763: ConvergenceWarning: lbfgs failed to converge (status=1):\n",
      "STOP: TOTAL NO. of ITERATIONS REACHED LIMIT.\n",
      "\n",
      "Increase the number of iterations (max_iter) or scale the data as shown in:\n",
      "    https://scikit-learn.org/stable/modules/preprocessing.html\n",
      "Please also refer to the documentation for alternative solver options:\n",
      "    https://scikit-learn.org/stable/modules/linear_model.html#logistic-regression\n",
      "  n_iter_i = _check_optimize_result(\n",
      "D:\\ProgramData\\Anaconda3\\lib\\site-packages\\sklearn\\linear_model\\_logistic.py:763: ConvergenceWarning: lbfgs failed to converge (status=1):\n",
      "STOP: TOTAL NO. of ITERATIONS REACHED LIMIT.\n",
      "\n",
      "Increase the number of iterations (max_iter) or scale the data as shown in:\n",
      "    https://scikit-learn.org/stable/modules/preprocessing.html\n",
      "Please also refer to the documentation for alternative solver options:\n",
      "    https://scikit-learn.org/stable/modules/linear_model.html#logistic-regression\n",
      "  n_iter_i = _check_optimize_result(\n",
      "D:\\ProgramData\\Anaconda3\\lib\\site-packages\\sklearn\\linear_model\\_logistic.py:763: ConvergenceWarning: lbfgs failed to converge (status=1):\n",
      "STOP: TOTAL NO. of ITERATIONS REACHED LIMIT.\n",
      "\n",
      "Increase the number of iterations (max_iter) or scale the data as shown in:\n",
      "    https://scikit-learn.org/stable/modules/preprocessing.html\n",
      "Please also refer to the documentation for alternative solver options:\n",
      "    https://scikit-learn.org/stable/modules/linear_model.html#logistic-regression\n",
      "  n_iter_i = _check_optimize_result(\n",
      "D:\\ProgramData\\Anaconda3\\lib\\site-packages\\sdmetrics\\base.py:97: RuntimeWarning: overflow encountered in exp\n",
      "  score = 1 / (1 + np.exp(-raw_score))\n",
      "D:\\ProgramData\\Anaconda3\\lib\\site-packages\\sdmetrics\\column_pairs\\statistical\\kl_divergence.py:51: SettingWithCopyWarning: \n",
      "A value is trying to be set on a copy of a slice from a DataFrame.\n",
      "Try using .loc[row_indexer,col_indexer] = value instead\n",
      "\n",
      "See the caveats in the documentation: https://pandas.pydata.org/pandas-docs/stable/user_guide/indexing.html#returning-a-view-versus-a-copy\n",
      "  real_data[pd.isna(real_data)] = 0.0\n",
      "D:\\ProgramData\\Anaconda3\\lib\\site-packages\\pandas\\core\\frame.py:3718: SettingWithCopyWarning: \n",
      "A value is trying to be set on a copy of a slice from a DataFrame\n",
      "\n",
      "See the caveats in the documentation: https://pandas.pydata.org/pandas-docs/stable/user_guide/indexing.html#returning-a-view-versus-a-copy\n",
      "  self._where(-key, value, inplace=True)\n",
      "D:\\ProgramData\\Anaconda3\\lib\\site-packages\\sdmetrics\\column_pairs\\statistical\\kl_divergence.py:52: SettingWithCopyWarning: \n",
      "A value is trying to be set on a copy of a slice from a DataFrame.\n",
      "Try using .loc[row_indexer,col_indexer] = value instead\n",
      "\n",
      "See the caveats in the documentation: https://pandas.pydata.org/pandas-docs/stable/user_guide/indexing.html#returning-a-view-versus-a-copy\n",
      "  synthetic_data[pd.isna(synthetic_data)] = 0.0\n"
     ]
    },
    {
     "data": {
      "text/plain": [
       "0.5731210564151478"
      ]
     },
     "execution_count": 61,
     "metadata": {},
     "output_type": "execute_result"
    }
   ],
   "source": [
    "# todo(important!): understand the evaluation metric and add it to report \n",
    "# and use other metrics with doc below to evaluate and figure out what is wrong with new data\n",
    "# ref doc: https://sdv.dev/SDV/user_guides/evaluation/index.html#evaluation\n",
    "evaluate(new_data, train_data)"
   ]
  },
  {
   "cell_type": "markdown",
   "metadata": {},
   "source": []
  },
  {
   "cell_type": "code",
   "execution_count": null,
   "metadata": {},
   "outputs": [],
   "source": []
  },
  {
   "cell_type": "markdown",
   "metadata": {},
   "source": []
  },
  {
   "cell_type": "code",
   "execution_count": 19,
   "metadata": {},
   "outputs": [
    {
     "name": "stdout",
     "output_type": "stream",
     "text": [
      "(12918, 18)\n"
     ]
    },
    {
     "data": {
      "text/html": [
       "<div>\n",
       "<style scoped>\n",
       "    .dataframe tbody tr th:only-of-type {\n",
       "        vertical-align: middle;\n",
       "    }\n",
       "\n",
       "    .dataframe tbody tr th {\n",
       "        vertical-align: top;\n",
       "    }\n",
       "\n",
       "    .dataframe thead th {\n",
       "        text-align: right;\n",
       "    }\n",
       "</style>\n",
       "<table border=\"1\" class=\"dataframe\">\n",
       "  <thead>\n",
       "    <tr style=\"text-align: right;\">\n",
       "      <th></th>\n",
       "      <th>SLIDE_TYPE</th>\n",
       "      <th>M_WIDTH</th>\n",
       "      <th>S_LENGTH</th>\n",
       "      <th>SLOPE</th>\n",
       "      <th>HEADELEV</th>\n",
       "      <th>TAILELEV</th>\n",
       "      <th>ELE_DIFF</th>\n",
       "      <th>curv_plan</th>\n",
       "      <th>curv_prof</th>\n",
       "      <th>aspect</th>\n",
       "      <th>curv</th>\n",
       "      <th>history</th>\n",
       "      <th>COVER_A</th>\n",
       "      <th>COVER_B</th>\n",
       "      <th>COVER_C</th>\n",
       "      <th>COVER_D</th>\n",
       "      <th>GULLY_N</th>\n",
       "      <th>GULLY_Y</th>\n",
       "    </tr>\n",
       "  </thead>\n",
       "  <tbody>\n",
       "    <tr>\n",
       "      <th>0</th>\n",
       "      <td>0.0</td>\n",
       "      <td>10.7</td>\n",
       "      <td>7.6</td>\n",
       "      <td>13.614113</td>\n",
       "      <td>9866.435421</td>\n",
       "      <td>62.518139</td>\n",
       "      <td>17.654915</td>\n",
       "      <td>-0.048019</td>\n",
       "      <td>0.129014</td>\n",
       "      <td>280.122101</td>\n",
       "      <td>0.258717</td>\n",
       "      <td>59.0</td>\n",
       "      <td>0.0</td>\n",
       "      <td>0.0</td>\n",
       "      <td>0.0</td>\n",
       "      <td>1.0</td>\n",
       "      <td>1.0</td>\n",
       "      <td>0.0</td>\n",
       "    </tr>\n",
       "    <tr>\n",
       "      <th>1</th>\n",
       "      <td>0.0</td>\n",
       "      <td>10.8</td>\n",
       "      <td>4.5</td>\n",
       "      <td>36.384715</td>\n",
       "      <td>265.360988</td>\n",
       "      <td>244.381519</td>\n",
       "      <td>2.000000</td>\n",
       "      <td>0.060665</td>\n",
       "      <td>0.228032</td>\n",
       "      <td>168.307889</td>\n",
       "      <td>-0.095256</td>\n",
       "      <td>59.0</td>\n",
       "      <td>0.0</td>\n",
       "      <td>0.0</td>\n",
       "      <td>1.0</td>\n",
       "      <td>0.0</td>\n",
       "      <td>1.0</td>\n",
       "      <td>0.0</td>\n",
       "    </tr>\n",
       "    <tr>\n",
       "      <th>2</th>\n",
       "      <td>0.0</td>\n",
       "      <td>16.1</td>\n",
       "      <td>32.5</td>\n",
       "      <td>10.231371</td>\n",
       "      <td>308.879090</td>\n",
       "      <td>348.223285</td>\n",
       "      <td>2.000000</td>\n",
       "      <td>-0.173069</td>\n",
       "      <td>0.004044</td>\n",
       "      <td>254.904575</td>\n",
       "      <td>-0.414647</td>\n",
       "      <td>59.0</td>\n",
       "      <td>0.0</td>\n",
       "      <td>0.0</td>\n",
       "      <td>1.0</td>\n",
       "      <td>0.0</td>\n",
       "      <td>0.0</td>\n",
       "      <td>1.0</td>\n",
       "    </tr>\n",
       "    <tr>\n",
       "      <th>3</th>\n",
       "      <td>1.0</td>\n",
       "      <td>25.3</td>\n",
       "      <td>8.5</td>\n",
       "      <td>36.321041</td>\n",
       "      <td>900.015639</td>\n",
       "      <td>170.339736</td>\n",
       "      <td>21.650686</td>\n",
       "      <td>0.042261</td>\n",
       "      <td>0.239702</td>\n",
       "      <td>286.717396</td>\n",
       "      <td>0.795274</td>\n",
       "      <td>59.0</td>\n",
       "      <td>0.0</td>\n",
       "      <td>0.0</td>\n",
       "      <td>0.0</td>\n",
       "      <td>0.0</td>\n",
       "      <td>0.0</td>\n",
       "      <td>1.0</td>\n",
       "    </tr>\n",
       "    <tr>\n",
       "      <th>4</th>\n",
       "      <td>0.0</td>\n",
       "      <td>7.8</td>\n",
       "      <td>3.8</td>\n",
       "      <td>30.130457</td>\n",
       "      <td>173.738161</td>\n",
       "      <td>117.005156</td>\n",
       "      <td>11.470542</td>\n",
       "      <td>-0.045820</td>\n",
       "      <td>-0.000117</td>\n",
       "      <td>185.618447</td>\n",
       "      <td>-0.030861</td>\n",
       "      <td>59.0</td>\n",
       "      <td>0.0</td>\n",
       "      <td>0.0</td>\n",
       "      <td>1.0</td>\n",
       "      <td>0.0</td>\n",
       "      <td>0.0</td>\n",
       "      <td>1.0</td>\n",
       "    </tr>\n",
       "  </tbody>\n",
       "</table>\n",
       "</div>"
      ],
      "text/plain": [
       "   SLIDE_TYPE  M_WIDTH  S_LENGTH      SLOPE     HEADELEV    TAILELEV  \\\n",
       "0         0.0     10.7       7.6  13.614113  9866.435421   62.518139   \n",
       "1         0.0     10.8       4.5  36.384715   265.360988  244.381519   \n",
       "2         0.0     16.1      32.5  10.231371   308.879090  348.223285   \n",
       "3         1.0     25.3       8.5  36.321041   900.015639  170.339736   \n",
       "4         0.0      7.8       3.8  30.130457   173.738161  117.005156   \n",
       "\n",
       "    ELE_DIFF  curv_plan  curv_prof      aspect      curv  history  COVER_A  \\\n",
       "0  17.654915  -0.048019   0.129014  280.122101  0.258717     59.0      0.0   \n",
       "1   2.000000   0.060665   0.228032  168.307889 -0.095256     59.0      0.0   \n",
       "2   2.000000  -0.173069   0.004044  254.904575 -0.414647     59.0      0.0   \n",
       "3  21.650686   0.042261   0.239702  286.717396  0.795274     59.0      0.0   \n",
       "4  11.470542  -0.045820  -0.000117  185.618447 -0.030861     59.0      0.0   \n",
       "\n",
       "   COVER_B  COVER_C  COVER_D  GULLY_N  GULLY_Y  \n",
       "0      0.0      0.0      1.0      1.0      0.0  \n",
       "1      0.0      1.0      0.0      1.0      0.0  \n",
       "2      0.0      1.0      0.0      0.0      1.0  \n",
       "3      0.0      0.0      0.0      0.0      1.0  \n",
       "4      0.0      1.0      0.0      0.0      1.0  "
      ]
     },
     "execution_count": 19,
     "metadata": {},
     "output_type": "execute_result"
    }
   ],
   "source": [
    "# new train data: the mixture of original and generative data\n",
    "new_train=pd.concat(\n",
    "    [new_data, train_data],\n",
    "    axis=0,\n",
    ")\n",
    "print(new_train.shape)\n",
    "new_train.head()"
   ]
  },
  {
   "cell_type": "code",
   "execution_count": 20,
   "metadata": {},
   "outputs": [],
   "source": [
    "# todo: nothing needs to change, but you can read the data directly next time\n",
    "new_train.to_csv('../save_data/new_train1.csv')"
   ]
  },
  {
   "cell_type": "code",
   "execution_count": 21,
   "metadata": {},
   "outputs": [],
   "source": [
    "#shuffle data\n",
    "new_train_data = new_train.sample(frac=1).reset_index(drop=True)\n"
   ]
  },
  {
   "cell_type": "code",
   "execution_count": 22,
   "metadata": {},
   "outputs": [],
   "source": [
    "# convert df to numpy for training input \n",
    "new_train_X=new_train_data.iloc[:,1:].values\n",
    "new_train_Y_1=new_train_data.iloc[:,0:1].values\n",
    "new_train_Y=np.squeeze(new_train_Y_1)"
   ]
  },
  {
   "cell_type": "code",
   "execution_count": 23,
   "metadata": {},
   "outputs": [
    {
     "name": "stdout",
     "output_type": "stream",
     "text": [
      "(12918, 17)\n",
      "(2769, 17)\n",
      "(12918,)\n",
      "(2769,)\n"
     ]
    }
   ],
   "source": [
    "print(new_train_X.shape)\n",
    "print(X_test.shape)\n",
    "print(new_train_Y.shape)\n",
    "print(y_test.shape)"
   ]
  },
  {
   "cell_type": "code",
   "execution_count": 24,
   "metadata": {},
   "outputs": [],
   "source": [
    "# We need to do feature scaling first.\n",
    "from sklearn.preprocessing import StandardScaler\n",
    "#from sklearn.preprocessing import MinMaxScaler\n",
    "sc = StandardScaler()\n",
    "#sc = MinMaxScaler()\n",
    "new_train = sc.fit_transform(new_train_X)\n",
    "X_test = sc.fit_transform(X_test)"
   ]
  },
  {
   "cell_type": "markdown",
   "metadata": {},
   "source": [
    "### 1. KNN"
   ]
  },
  {
   "cell_type": "code",
   "execution_count": 25,
   "metadata": {},
   "outputs": [
    {
     "name": "stdout",
     "output_type": "stream",
     "text": [
      "Best score: 0.8080201999498987\n",
      "Best hyperparameters: {'metric': 'manhattan', 'n_neighbors': 5, 'weights': 'distance'}\n"
     ]
    }
   ],
   "source": [
    "from sklearn.neighbors import KNeighborsClassifier\n",
    "from sklearn.model_selection import GridSearchCV\n",
    "from sklearn.metrics import roc_curve\n",
    "import matplotlib.pyplot as plt\n",
    "\n",
    "# todo: n_jobs=-1, accelerate running speed: https://scikit-learn.org/stable/computing/parallelism.html\n",
    "model = KNeighborsClassifier(n_jobs=-1)\n",
    "\n",
    "param_grid = { \n",
    "    'n_neighbors': [3,5,11,19],\n",
    "    'weights': ['uniform', 'distance'],\n",
    "    'metric' : ['euclidean', 'manhattan'],\n",
    "}\n",
    "\n",
    "grid = GridSearchCV(estimator=model, param_grid=param_grid,n_jobs=-1)\n",
    "\n",
    "grid.fit(new_train_X, new_train_Y.ravel())\n",
    "\n",
    "metric = grid.best_estimator_.metric\n",
    "n_neighbors = grid.best_estimator_.n_neighbors\n",
    "weights = grid.best_estimator_.weights\n",
    "\n",
    "# summarize the results of the grid search\n",
    "print('Best score:', grid.best_score_)\n",
    "print('Best hyperparameters:',grid.best_params_)"
   ]
  },
  {
   "cell_type": "code",
   "execution_count": 26,
   "metadata": {},
   "outputs": [],
   "source": [
    "knn = KNeighborsClassifier(metric=metric, n_neighbors=n_neighbors, weights=weights, n_jobs=8).fit(new_train_X, new_train_Y.ravel())\n",
    "knn_pred = knn.predict(X_test)\n",
    "knn_proba = knn.predict_proba(X_test)"
   ]
  },
  {
   "cell_type": "code",
   "execution_count": 27,
   "metadata": {},
   "outputs": [
    {
     "data": {
      "image/png": "[encoded data removed]",
      "text/plain": [
       "<Figure size 432x288 with 1 Axes>"
      ]
     },
     "metadata": {
      "needs_background": "light"
     },
     "output_type": "display_data"
    }
   ],
   "source": [
    "# roc curve for classes\n",
    "fpr = {}\n",
    "tpr = {}\n",
    "thresh ={}\n",
    "\n",
    "n_class = 4\n",
    "\n",
    "for i in range(n_class):    \n",
    "    fpr[i], tpr[i], thresh[i] = roc_curve(y_test, knn_proba[:,i], pos_label=i)\n",
    "    \n",
    "# plotting    \n",
    "plt.plot(fpr[0], tpr[0], linestyle='--',color='orange', label='Class 0 vs Rest')\n",
    "plt.plot(fpr[1], tpr[1], linestyle='--',color='green', label='Class 1 vs Rest')\n",
    "plt.plot(fpr[2], tpr[2], linestyle='--',color='red', label='Class 2 vs Rest')\n",
    "plt.plot(fpr[3], tpr[3], linestyle='--',color='blue', label='Class 3 vs Rest')\n",
    "\n",
    "plt.title('Multiclass ROC curve')\n",
    "plt.xlabel('False Positive Rate')\n",
    "plt.ylabel('True Positive rate')\n",
    "plt.legend(loc='best')\n",
    "plt.savefig('ROC',dpi=300);"
   ]
  },
  {
   "cell_type": "code",
   "execution_count": 28,
   "metadata": {},
   "outputs": [
    {
     "name": "stderr",
     "output_type": "stream",
     "text": [
      "D:\\ProgramData\\Anaconda3\\lib\\site-packages\\sklearn\\metrics\\_classification.py:1248: UndefinedMetricWarning: Precision and F-score are ill-defined and being set to 0.0 in labels with no predicted samples. Use `zero_division` parameter to control this behavior.\n",
      "  _warn_prf(average, modifier, msg_start, len(result))\n"
     ]
    }
   ],
   "source": [
    "knn_cls_precision, knn_cls_recall, knn_cls_f1, _ = precision_recall_fscore_support(y_test, knn_pred, average=None, labels=[0,1,2,3])"
   ]
  },
  {
   "cell_type": "code",
   "execution_count": 29,
   "metadata": {},
   "outputs": [
    {
     "name": "stdout",
     "output_type": "stream",
     "text": [
      "k Nearest Neighbors:\n",
      "Accuracy: 0.7999277717587576\n"
     ]
    }
   ],
   "source": [
    "knn_conf_mat = confusion_matrix(y_test, knn_pred)\n",
    "knn_acc = accuracy_score(y_test, knn_pred)\n",
    "print('k Nearest Neighbors:')\n",
    "print('Accuracy:',knn_acc)\n",
    "#print('ROC AUC=%.4f' % (knn_roc_auc))"
   ]
  },
  {
   "cell_type": "code",
   "execution_count": 30,
   "metadata": {},
   "outputs": [
    {
     "name": "stdout",
     "output_type": "stream",
     "text": [
      "Confusion Matrix:\n"
     ]
    },
    {
     "data": {
      "image/png": "[encoded data removed]",
      "text/plain": [
       "<Figure size 288x288 with 2 Axes>"
      ]
     },
     "metadata": {
      "needs_background": "light"
     },
     "output_type": "display_data"
    }
   ],
   "source": [
    "array = confusion_matrix(y_test, knn_pred)\n",
    "\n",
    "knn_cm = pd.DataFrame(array, range(4), range(4))\n",
    "\n",
    "plt.figure(figsize=(4,4))\n",
    "sns.set(font_scale=1) # for label size\n",
    "sns.heatmap(knn_cm, annot=True, annot_kws={\"size\": 15}, cbar=True, square= True, fmt='.1f') # font size\n",
    "\n",
    "print('Confusion Matrix:')\n",
    "plt.show()"
   ]
  },
  {
   "cell_type": "code",
   "execution_count": 31,
   "metadata": {},
   "outputs": [
    {
     "name": "stdout",
     "output_type": "stream",
     "text": [
      "0\n",
      "Precision  = 0.7999 \n",
      "Recall on Y label = 1.0000 \n",
      "F1 on Y label = 0.8888 \n",
      "----------------------------\n",
      "1\n",
      "Precision  = 0.0000 \n",
      "Recall on Y label = 0.0000 \n",
      "F1 on Y label = 0.0000 \n",
      "----------------------------\n",
      "2\n",
      "Precision  = 0.0000 \n",
      "Recall on Y label = 0.0000 \n",
      "F1 on Y label = 0.0000 \n",
      "----------------------------\n",
      "3\n",
      "Precision  = 0.0000 \n",
      "Recall on Y label = 0.0000 \n",
      "F1 on Y label = 0.0000 \n",
      "----------------------------\n"
     ]
    }
   ],
   "source": [
    "for i in range(n_class): \n",
    "    print(i)\n",
    "    print('Precision  = %.4f ' % (knn_cls_precision[i]))\n",
    "    print('Recall on Y label = %.4f ' % (knn_cls_recall[i]))\n",
    "    print('F1 on Y label = %.4f ' % (knn_cls_f1[i]))\n",
    "    print('----------------------------')"
   ]
  },
  {
   "cell_type": "markdown",
   "metadata": {},
   "source": [
    "## 2. Logistic Regression"
   ]
  },
  {
   "cell_type": "code",
   "execution_count": 32,
   "metadata": {},
   "outputs": [
    {
     "name": "stderr",
     "output_type": "stream",
     "text": [
      "D:\\ProgramData\\Anaconda3\\lib\\site-packages\\sklearn\\svm\\_base.py:985: ConvergenceWarning: Liblinear failed to converge, increase the number of iterations.\n",
      "  warnings.warn(\"Liblinear failed to converge, increase \"\n",
      "D:\\ProgramData\\Anaconda3\\lib\\site-packages\\sklearn\\svm\\_base.py:985: ConvergenceWarning: Liblinear failed to converge, increase the number of iterations.\n",
      "  warnings.warn(\"Liblinear failed to converge, increase \"\n",
      "D:\\ProgramData\\Anaconda3\\lib\\site-packages\\sklearn\\svm\\_base.py:985: ConvergenceWarning: Liblinear failed to converge, increase the number of iterations.\n",
      "  warnings.warn(\"Liblinear failed to converge, increase \"\n",
      "D:\\ProgramData\\Anaconda3\\lib\\site-packages\\sklearn\\svm\\_base.py:985: ConvergenceWarning: Liblinear failed to converge, increase the number of iterations.\n",
      "  warnings.warn(\"Liblinear failed to converge, increase \"\n",
      "D:\\ProgramData\\Anaconda3\\lib\\site-packages\\sklearn\\svm\\_base.py:985: ConvergenceWarning: Liblinear failed to converge, increase the number of iterations.\n",
      "  warnings.warn(\"Liblinear failed to converge, increase \"\n",
      "D:\\ProgramData\\Anaconda3\\lib\\site-packages\\sklearn\\svm\\_base.py:985: ConvergenceWarning: Liblinear failed to converge, increase the number of iterations.\n",
      "  warnings.warn(\"Liblinear failed to converge, increase \"\n",
      "D:\\ProgramData\\Anaconda3\\lib\\site-packages\\sklearn\\svm\\_base.py:985: ConvergenceWarning: Liblinear failed to converge, increase the number of iterations.\n",
      "  warnings.warn(\"Liblinear failed to converge, increase \"\n",
      "D:\\ProgramData\\Anaconda3\\lib\\site-packages\\sklearn\\svm\\_base.py:985: ConvergenceWarning: Liblinear failed to converge, increase the number of iterations.\n",
      "  warnings.warn(\"Liblinear failed to converge, increase \"\n",
      "D:\\ProgramData\\Anaconda3\\lib\\site-packages\\sklearn\\svm\\_base.py:985: ConvergenceWarning: Liblinear failed to converge, increase the number of iterations.\n",
      "  warnings.warn(\"Liblinear failed to converge, increase \"\n",
      "D:\\ProgramData\\Anaconda3\\lib\\site-packages\\sklearn\\svm\\_base.py:985: ConvergenceWarning: Liblinear failed to converge, increase the number of iterations.\n",
      "  warnings.warn(\"Liblinear failed to converge, increase \"\n"
     ]
    },
    {
     "name": "stdout",
     "output_type": "stream",
     "text": [
      "Best score: 0.848042212177982\n",
      "Best hyperparameters: {'C': 1.0}\n"
     ]
    }
   ],
   "source": [
    "model = LogisticRegression(random_state=0, solver = 'liblinear')\n",
    "\n",
    "param_grid={'C':np.logspace(-3,3,7), # inverse of regularization strength\n",
    "     }\n",
    "\n",
    "grid = GridSearchCV(estimator=model, param_grid=param_grid)\n",
    "\n",
    "grid.fit(new_train_X, new_train_Y.ravel())\n",
    "\n",
    "C = grid.best_estimator_.C\n",
    "\n",
    "# summarize the results of the grid search\n",
    "print('Best score:', grid.best_score_)\n",
    "print('Best hyperparameters:',grid.best_params_)"
   ]
  },
  {
   "cell_type": "code",
   "execution_count": 33,
   "metadata": {},
   "outputs": [],
   "source": [
    "lr = LogisticRegression(random_state =0, solver = 'liblinear', C=C).fit(new_train_X, new_train_Y.ravel())"
   ]
  },
  {
   "cell_type": "code",
   "execution_count": 34,
   "metadata": {},
   "outputs": [],
   "source": [
    "lr_pred = lr.predict(X_test)\n",
    "lr_proba = lr.predict_proba(X_test)"
   ]
  },
  {
   "cell_type": "code",
   "execution_count": 35,
   "metadata": {},
   "outputs": [
    {
     "data": {
      "image/png": "[encoded data removed]",
      "text/plain": [
       "<Figure size 432x288 with 1 Axes>"
      ]
     },
     "metadata": {},
     "output_type": "display_data"
    }
   ],
   "source": [
    "# roc curve for classes\n",
    "fpr = {}\n",
    "tpr = {}\n",
    "thresh ={}\n",
    "\n",
    "n_class = 4\n",
    "\n",
    "for i in range(n_class):    \n",
    "    fpr[i], tpr[i], thresh[i] = roc_curve(y_test, lr_proba[:,i], pos_label=i)\n",
    "    \n",
    "# plotting    \n",
    "plt.plot(fpr[0], tpr[0], linestyle='--',color='orange', label='Class 0 vs Rest')\n",
    "plt.plot(fpr[1], tpr[1], linestyle='--',color='green', label='Class 1 vs Rest')\n",
    "plt.plot(fpr[2], tpr[2], linestyle='--',color='red', label='Class 2 vs Rest')\n",
    "plt.plot(fpr[3], tpr[3], linestyle='--',color='blue', label='Class 3 vs Rest')\n",
    "\n",
    "plt.title('Multiclass ROC curve')\n",
    "plt.xlabel('False Positive Rate')\n",
    "plt.ylabel('True Positive rate')\n",
    "plt.legend(loc='best')\n",
    "plt.savefig('ROC',dpi=300);"
   ]
  },
  {
   "cell_type": "code",
   "execution_count": 36,
   "metadata": {},
   "outputs": [
    {
     "name": "stderr",
     "output_type": "stream",
     "text": [
      "D:\\ProgramData\\Anaconda3\\lib\\site-packages\\sklearn\\metrics\\_classification.py:1248: UndefinedMetricWarning: Precision and F-score are ill-defined and being set to 0.0 in labels with no predicted samples. Use `zero_division` parameter to control this behavior.\n",
      "  _warn_prf(average, modifier, msg_start, len(result))\n"
     ]
    }
   ],
   "source": [
    "lr_cls_precision, lr_cls_recall, lr_cls_f1, _ = precision_recall_fscore_support(y_test, lr_pred, average=None, labels=[0,1,2,3])"
   ]
  },
  {
   "cell_type": "code",
   "execution_count": 38,
   "metadata": {},
   "outputs": [
    {
     "name": "stdout",
     "output_type": "stream",
     "text": [
      "Logistic regression:\n",
      "Accuracy: 0.8916576381365113\n"
     ]
    }
   ],
   "source": [
    "lr_conf_mat = confusion_matrix(y_test, lr_pred)\n",
    "lr_acc = accuracy_score(y_test, lr_pred)\n",
    "print('Logistic regression:')\n",
    "print('Accuracy:',lr_acc)\n",
    "#print('ROC AUC=%.4f' % (knn_roc_auc))"
   ]
  },
  {
   "cell_type": "code",
   "execution_count": 39,
   "metadata": {},
   "outputs": [
    {
     "name": "stdout",
     "output_type": "stream",
     "text": [
      "Confusion Matrix:\n"
     ]
    },
    {
     "data": {
      "image/png": "[encoded data removed]",
      "text/plain": [
       "<Figure size 288x288 with 2 Axes>"
      ]
     },
     "metadata": {},
     "output_type": "display_data"
    }
   ],
   "source": [
    "array = confusion_matrix(y_test, lr_pred)\n",
    "\n",
    "lr_cm = pd.DataFrame(array, range(4), range(4))\n",
    "\n",
    "plt.figure(figsize=(4,4))\n",
    "sns.set(font_scale=1) # for label size\n",
    "sns.heatmap(lr_cm, annot=True, annot_kws={\"size\": 15}, cbar=True, square= True, fmt='.1f') # font size\n",
    "\n",
    "print('Confusion Matrix:')\n",
    "plt.show()"
   ]
  },
  {
   "cell_type": "code",
   "execution_count": 40,
   "metadata": {},
   "outputs": [
    {
     "name": "stdout",
     "output_type": "stream",
     "text": [
      "0\n",
      "Precision  = 0.9991 \n",
      "Recall on Y label = 0.9553 \n",
      "F1 on Y label = 0.9767 \n",
      "----------------------------\n",
      "1\n",
      "Precision  = 0.1026 \n",
      "Recall on Y label = 0.0213 \n",
      "F1 on Y label = 0.0352 \n",
      "----------------------------\n",
      "2\n",
      "Precision  = 0.5703 \n",
      "Recall on Y label = 0.9668 \n",
      "F1 on Y label = 0.7174 \n",
      "----------------------------\n",
      "3\n",
      "Precision  = 0.0000 \n",
      "Recall on Y label = 0.0000 \n",
      "F1 on Y label = 0.0000 \n",
      "----------------------------\n"
     ]
    }
   ],
   "source": [
    "for i in range(n_class): \n",
    "    print(i)\n",
    "    print('Precision  = %.4f ' % (lr_cls_precision[i]))\n",
    "    print('Recall on Y label = %.4f ' % (lr_cls_recall[i]))\n",
    "    print('F1 on Y label = %.4f ' % (lr_cls_f1[i]))\n",
    "    print('----------------------------')"
   ]
  },
  {
   "cell_type": "markdown",
   "metadata": {},
   "source": [
    "## 3.decision tree"
   ]
  },
  {
   "cell_type": "code",
   "execution_count": 41,
   "metadata": {},
   "outputs": [
    {
     "name": "stdout",
     "output_type": "stream",
     "text": [
      "Best score: 0.8568667903618443\n",
      "Best hyperparameters: {'criterion': 'gini', 'max_depth': 10, 'max_features': 'auto'}\n"
     ]
    }
   ],
   "source": [
    "model = DecisionTreeClassifier(random_state=0)\n",
    "\n",
    "param_grid = { \n",
    "    'max_features': ['auto', 'sqrt', 'log2'],\n",
    "    'max_depth' : np.arange(10,40,5),\n",
    "    'criterion' :['gini', 'entropy']\n",
    "}\n",
    "\n",
    "grid = GridSearchCV(estimator=model, param_grid=param_grid)\n",
    "\n",
    "grid.fit(new_train_X, new_train_Y.ravel())\n",
    "\n",
    "criterion = grid.best_estimator_.criterion\n",
    "max_depth = grid.best_estimator_.max_depth\n",
    "max_features = grid.best_estimator_.max_features\n",
    "\n",
    "# summarize the results of the grid search\n",
    "print('Best score:', grid.best_score_)\n",
    "print('Best hyperparameters:',grid.best_params_)"
   ]
  },
  {
   "cell_type": "code",
   "execution_count": 42,
   "metadata": {},
   "outputs": [],
   "source": [
    "dt = DecisionTreeClassifier(random_state=0, criterion = criterion, max_depth=max_depth, max_features=max_features).fit(new_train_X, new_train_Y.ravel())"
   ]
  },
  {
   "cell_type": "code",
   "execution_count": 43,
   "metadata": {},
   "outputs": [],
   "source": [
    "dt_pred = dt.predict(X_test)\n",
    "dt_proba = dt.predict_proba(X_test)"
   ]
  },
  {
   "cell_type": "code",
   "execution_count": 44,
   "metadata": {},
   "outputs": [
    {
     "data": {
      "image/png": "[encoded data removed]",
      "text/plain": [
       "<Figure size 432x288 with 1 Axes>"
      ]
     },
     "metadata": {},
     "output_type": "display_data"
    }
   ],
   "source": [
    "# roc curve for classes\n",
    "fpr = {}\n",
    "tpr = {}\n",
    "thresh ={}\n",
    "\n",
    "n_class = 4\n",
    "\n",
    "for i in range(n_class):    \n",
    "    fpr[i], tpr[i], thresh[i] = roc_curve(y_test, dt_proba[:,i], pos_label=i)\n",
    "    \n",
    "# plotting    \n",
    "plt.plot(fpr[0], tpr[0], linestyle='--',color='orange', label='Class 0 vs Rest')\n",
    "plt.plot(fpr[1], tpr[1], linestyle='--',color='green', label='Class 1 vs Rest')\n",
    "plt.plot(fpr[2], tpr[2], linestyle='--',color='red', label='Class 2 vs Rest')\n",
    "plt.plot(fpr[3], tpr[3], linestyle='--',color='blue', label='Class 3 vs Rest')\n",
    "\n",
    "plt.title('Multiclass ROC curve')\n",
    "plt.xlabel('False Positive Rate')\n",
    "plt.ylabel('True Positive rate')\n",
    "plt.legend(loc='best')\n",
    "plt.savefig('ROC',dpi=300);"
   ]
  },
  {
   "cell_type": "code",
   "execution_count": 45,
   "metadata": {},
   "outputs": [
    {
     "name": "stdout",
     "output_type": "stream",
     "text": [
      "Decision Tree:\n",
      "Accuracy: 0.09895269050198628\n"
     ]
    }
   ],
   "source": [
    "dt_conf_mat = confusion_matrix(y_test, dt_pred)\n",
    "dt_acc = accuracy_score(y_test, dt_pred)\n",
    "print('Decision Tree:')\n",
    "print('Accuracy:',dt_acc)"
   ]
  },
  {
   "cell_type": "code",
   "execution_count": 46,
   "metadata": {},
   "outputs": [
    {
     "name": "stdout",
     "output_type": "stream",
     "text": [
      "Decision Tree Confusion Matrix:\n"
     ]
    },
    {
     "data": {
      "image/png": "[encoded data removed]",
      "text/plain": [
       "<Figure size 288x288 with 2 Axes>"
      ]
     },
     "metadata": {},
     "output_type": "display_data"
    }
   ],
   "source": [
    "array = confusion_matrix(y_test, dt_pred)\n",
    "\n",
    "dt_cm = pd.DataFrame(array, range(4), range(4))\n",
    "\n",
    "plt.figure(figsize=(4,4))\n",
    "sns.set(font_scale=1) # for label size\n",
    "sns.heatmap(dt_cm, annot=True, annot_kws={\"size\": 15}, cbar=True, square= True, fmt='.1f') # font size\n",
    "\n",
    "print('Decision Tree Confusion Matrix:')\n",
    "plt.show()"
   ]
  },
  {
   "cell_type": "code",
   "execution_count": null,
   "metadata": {},
   "outputs": [],
   "source": []
  }
 ],
 "metadata": {
  "interpreter": {
   "hash": "968b5077a0d48cf2da4a50a8b0deb8e369346d611fbfede337ab15dbbe1d618f"
  },
  "kernelspec": {
   "display_name": "Python 3 (ipykernel)",
   "language": "python",
   "name": "python3"
  },
  "language_info": {
   "codemirror_mode": {
    "name": "ipython",
    "version": 3
   },
   "file_extension": ".py",
   "mimetype": "text/x-python",
   "name": "python",
   "nbconvert_exporter": "python",
   "pygments_lexer": "ipython3",
   "version": "3.9.7"
  }
 },
 "nbformat": 4,
 "nbformat_minor": 2
}
