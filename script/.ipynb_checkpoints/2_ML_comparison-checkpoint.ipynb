{
 "cells": [
  {
   "cell_type": "code",
   "execution_count": null,
   "id": "0bcd6197",
   "metadata": {},
   "outputs": [],
   "source": [
    "import numpy as np\n",
    "import pandas as pd\n",
    "import seaborn as sns\n",
    "import matplotlib.pyplot as plt\n",
    "import os\n",
    "\n",
    "import sklearn\n",
    "\n",
    "# Import necessary modules\n",
    "from sklearn.model_selection import train_test_split\n",
    "from sklearn.metrics import mean_squared_error\n",
    "from math import sqrt\n",
    "\n",
    "# Keras specific\n",
    "import keras\n",
    "from keras.models import Sequential\n",
    "from keras.layers import Dense,Flatten\n",
    "from tensorflow.keras.utils import to_categorical\n",
    "\n",
    "from sklearn import preprocessing\n",
    "from sklearn.model_selection import GridSearchCV\n",
    "\n",
    "from sklearn.linear_model import LogisticRegression\n",
    "from sklearn.svm import SVC\n",
    "from sklearn.tree import DecisionTreeClassifier\n",
    "from sklearn.ensemble import RandomForestClassifier\n",
    "from sklearn.neural_network import MLPClassifier\n",
    "from sklearn.neighbors import KNeighborsClassifier\n",
    "\n",
    "from sklearn.metrics import confusion_matrix\n",
    "from sklearn.metrics import accuracy_score\n",
    "from sklearn.metrics import roc_curve\n",
    "from sklearn.metrics import roc_auc_score\n",
    "from sklearn.metrics import precision_recall_fscore_support\n",
    "from sklearn.metrics import precision_recall_curve"
   ]
  },
  {
   "cell_type": "code",
   "execution_count": null,
   "id": "bba73f38",
   "metadata": {
    "scrolled": true
   },
   "outputs": [],
   "source": [
    "data = pd.read_csv(\"../rawdata/landslide_data.csv\")\n",
    "print(data.shape)\n"
   ]
  },
  {
   "cell_type": "markdown",
   "id": "0f18a734",
   "metadata": {},
   "source": [
    "## data exploration"
   ]
  },
  {
   "cell_type": "code",
   "execution_count": null,
   "id": "ccad62f2",
   "metadata": {
    "scrolled": true
   },
   "outputs": [],
   "source": [
    "# low correlation\n",
    "plt.figure(figsize=(20,20))\n",
    "corr=data.corr()\n",
    "sns.heatmap(corr, cbar=True, square= True, fmt='.1f', annot=True, annot_kws={'size':15})\n",
    "data.head()\n",
    "data.dtypes\n"
   ]
  },
  {
   "cell_type": "markdown",
   "id": "4f6656dd",
   "metadata": {},
   "source": [
    "## data process"
   ]
  },
  {
   "cell_type": "code",
   "execution_count": null,
   "id": "8af43e3d",
   "metadata": {},
   "outputs": [],
   "source": [
    "#reclassify land use types\n",
    "def landuse_cal(landuse_befo):\n",
    "    if landuse_befo <= 54:\n",
    "        return 'urban'\n",
    "    elif landuse_befo == 72:\n",
    "        return 'Shrubland'\n",
    "    elif landuse_befo == 73 or landuse_befo == 81:\n",
    "        return 'Grassland'\n",
    "    elif landuse_befo == 71:\n",
    "        return 'forest'\n",
    "    elif landuse_befo == 61:\n",
    "        return 'Agriculture'\n",
    "    elif landuse_befo == 74:\n",
    "        return 'Wetland'\n",
    "    else :\n",
    "        return 'water'"
   ]
  },
  {
   "cell_type": "code",
   "execution_count": null,
   "id": "c21bd9f8",
   "metadata": {},
   "outputs": [],
   "source": [
    "data['landuse'] = data['landuse'].apply(landuse_cal)\n",
    "data.head()"
   ]
  },
  {
   "cell_type": "code",
   "execution_count": null,
   "id": "8f01f7b7",
   "metadata": {},
   "outputs": [],
   "source": [
    "df2 = pd.get_dummies(data, columns=['Main_Rock_','Period','FEATTYPE','FACAFF','landuse'])\n",
    "df2.loc[df2['Label']==0,'SCALE']=0\n",
    "#check na value\n",
    "df2.isnull().sum()\n",
    "\n",
    "# transfet the happening year to the lowest bar\n",
    "def year_cal(Years_befo):\n",
    "    if Years_befo == '0-1.8':\n",
    "        return 1.8\n",
    "    elif Years_befo == '145-199':\n",
    "        return 145\n",
    "    elif Years_befo == '359-416':\n",
    "        return 359\n",
    "    elif Years_befo == '65-145':\n",
    "        return 65\n",
    "    #Years_befo == '299-359'\n",
    "    else :\n",
    "        return 299\n",
    "    \n",
    "df2['Year'] = df2['Years_befo'].apply(year_cal)\n",
    "df2"
   ]
  },
  {
   "cell_type": "code",
   "execution_count": null,
   "id": "96a2dddf",
   "metadata": {
    "scrolled": true
   },
   "outputs": [],
   "source": [
    "col= df2.columns[pd.np.r_[0:4,5:15,16:420]]\n",
    "print(col)\n",
    "#get x value\n",
    "x = np.array(df2[col])\n",
    "x.shape"
   ]
  },
  {
   "cell_type": "code",
   "execution_count": null,
   "id": "bd516f77",
   "metadata": {},
   "outputs": [],
   "source": [
    "# get y value\n",
    "y=np.array(df2['Label'])\n",
    "y"
   ]
  },
  {
   "cell_type": "markdown",
   "id": "6d774b14",
   "metadata": {},
   "source": [
    "## Principal Component Analysis"
   ]
  },
  {
   "cell_type": "code",
   "execution_count": null,
   "id": "308b9a32",
   "metadata": {},
   "outputs": [],
   "source": [
    "from sklearn.decomposition import PCA\n",
    "pca = PCA(n_components=2, random_state=0)\n",
    "\n",
    "principalComponents = pca.fit_transform(x)\n",
    "\n",
    "principalDf = pd.DataFrame(data = principalComponents\n",
    "             , columns = ['principal component 1', 'principal component 2'])"
   ]
  },
  {
   "cell_type": "code",
   "execution_count": null,
   "id": "801eb8b9",
   "metadata": {},
   "outputs": [],
   "source": [
    "finalDf = pd.concat([principalDf, df2['Label']], axis = 1)\n",
    "finalDf"
   ]
  },
  {
   "cell_type": "code",
   "execution_count": null,
   "id": "31196fcb",
   "metadata": {},
   "outputs": [],
   "source": [
    "fig = plt.figure(figsize = (10,10))\n",
    "ax = fig.add_subplot(1,1,1) \n",
    "ax.set_xlabel('Principal Component 1', fontsize = 15)\n",
    "ax.set_ylabel('Principal Component 2', fontsize = 15)\n",
    "# ax.set_title('2 component PCA', fontsize = 20)\n",
    "targets = [1, 0]\n",
    "colors = ['r', 'g']\n",
    "for target, color in zip(targets,colors):\n",
    "    indicesToKeep = finalDf['Label'] == target\n",
    "    ax.scatter(finalDf.loc[indicesToKeep, 'principal component 1'],\n",
    "               finalDf.loc[indicesToKeep, 'principal component 2'],\n",
    "               c = 'white',\n",
    "#                c = color,\n",
    "               edgecolors = color,\n",
    "               s = 30,\n",
    "#                alpha = 0.25\n",
    "              )\n",
    "ax.legend(['Landslide','No Landslide'], fontsize =16)\n",
    "ax.grid()\n",
    "plt.show()"
   ]
  },
  {
   "cell_type": "markdown",
   "id": "f60030c0",
   "metadata": {},
   "source": [
    "### Data Splitting"
   ]
  },
  {
   "cell_type": "code",
   "execution_count": null,
   "id": "9e61d93c",
   "metadata": {},
   "outputs": [],
   "source": [
    "from sklearn.linear_model import LinearRegression\n",
    "from sklearn.model_selection import train_test_split\n"
   ]
  },
  {
   "cell_type": "code",
   "execution_count": null,
   "id": "84b191f5",
   "metadata": {},
   "outputs": [],
   "source": [
    "X_train, X_test, y_train, y_test = train_test_split(x,y, test_size = 0.3, random_state = 4)\n"
   ]
  },
  {
   "cell_type": "markdown",
   "id": "a3b4b8e6",
   "metadata": {},
   "source": [
    "##  1. k-Nearest Neighbor"
   ]
  },
  {
   "cell_type": "code",
   "execution_count": 28,
   "id": "62115f25",
   "metadata": {},
   "outputs": [],
   "source": [
    "from sklearn.neighbors import KNeighborsClassifier\n",
    "knn= KNeighborsClassifier(n_neighbors=5)"
   ]
  },
  {
   "cell_type": "code",
   "execution_count": 29,
   "id": "f93f1c5c",
   "metadata": {},
   "outputs": [],
   "source": [
    "# We need to do feature scaling first.\n",
    "from sklearn.preprocessing import StandardScaler\n",
    "#from sklearn.preprocessing import MinMaxScaler\n",
    "sc = StandardScaler()\n",
    "#sc = MinMaxScaler()\n",
    "X_train = sc.fit_transform(X_train)\n",
    "X_test = sc.fit_transform(X_test)"
   ]
  },
  {
   "cell_type": "code",
   "execution_count": 30,
   "id": "7b313d65",
   "metadata": {},
   "outputs": [
    {
     "data": {
      "text/plain": [
       "KNeighborsClassifier()"
      ]
     },
     "execution_count": 30,
     "metadata": {},
     "output_type": "execute_result"
    }
   ],
   "source": [
    "knn.fit(X_train,y_train)\n"
   ]
  },
  {
   "cell_type": "code",
   "execution_count": 31,
   "id": "27c63108",
   "metadata": {},
   "outputs": [],
   "source": [
    "knn_pred=knn.predict(X_test)\n",
    "knn_proba = knn.predict_proba(X_test)"
   ]
  },
  {
   "cell_type": "code",
   "execution_count": 32,
   "id": "617b0864",
   "metadata": {},
   "outputs": [
    {
     "data": {
      "text/plain": [
       "0.9625835189309577"
      ]
     },
     "execution_count": 32,
     "metadata": {},
     "output_type": "execute_result"
    }
   ],
   "source": [
    "from sklearn.metrics import accuracy_score\n",
    "accuracy_score(y_test,knn_pred)"
   ]
  },
  {
   "cell_type": "markdown",
   "id": "2a4eae9f",
   "metadata": {},
   "source": [
    "Performance metrics"
   ]
  },
  {
   "cell_type": "code",
   "execution_count": 33,
   "id": "5917edb2",
   "metadata": {},
   "outputs": [
    {
     "name": "stdout",
     "output_type": "stream",
     "text": [
      "k Nearest Neighbors:\n",
      "\n",
      "Confusion matrix:\n",
      " [[1142    0]\n",
      " [  84 1019]] \n",
      "\n",
      "Accuracy: 0.9625835189309577\n",
      "ROC AUC=0.9828\n",
      "Precision on (Landslide = 0) = 0.9315 \n",
      "Recall on (Landslide = 0) = 1.0000 \n",
      "F1 on (Landslide = 0) = 0.9645\n",
      "Precision on (Landslide = 1) = 1.0000 \n",
      "Recall on (Landslide = 1) = 0.9238 \n",
      "F1 on (Landslide = 1) = 0.9604 \n"
     ]
    }
   ],
   "source": [
    "knn_conf_mat = confusion_matrix(y_test, knn_pred)\n",
    "knn_acc = accuracy_score(y_test, knn_pred)\n",
    "knn_roc_auc = roc_auc_score(y_test, knn_proba[:,1])\n",
    "\n",
    "knn_fpr, knn_tpr, _ = roc_curve(y_test, knn_proba[:,1])\n",
    "knn_precision, knn_recall, _ = precision_recall_curve(y_test, knn_proba[:,1])\n",
    "\n",
    "knn_cls_precision, knn_cls_recall, knn_cls_f1, _ = precision_recall_fscore_support(y_test, knn_pred, average=None, labels=[0,1])\n",
    "\n",
    "print('k Nearest Neighbors:')\n",
    "print('\\nConfusion matrix:\\n',knn_conf_mat,'\\n')\n",
    "print('Accuracy:',knn_acc)\n",
    "print('ROC AUC=%.4f' % (knn_roc_auc))\n",
    "print('Precision on (Landslide = 0) = %.4f ' % (knn_cls_precision[0]))\n",
    "print('Recall on (Landslide = 0) = %.4f ' % (knn_cls_recall[0]))\n",
    "print('F1 on (Landslide = 0) = %.4f' % (knn_cls_f1[0]))\n",
    "print('Precision on (Landslide = 1) = %.4f ' % (knn_cls_precision[1]))\n",
    "print('Recall on (Landslide = 1) = %.4f ' % (knn_cls_recall[1]))\n",
    "print('F1 on (Landslide = 1) = %.4f ' % (knn_cls_f1[1]))"
   ]
  },
  {
   "cell_type": "code",
   "execution_count": 23,
   "id": "6e904e51",
   "metadata": {},
   "outputs": [
    {
     "data": {
      "text/plain": [
       "array([0., 0., 0., 0., 0., 1.])"
      ]
     },
     "execution_count": 23,
     "metadata": {},
     "output_type": "execute_result"
    }
   ],
   "source": [
    "knn_fpr"
   ]
  },
  {
   "cell_type": "code",
   "execution_count": 24,
   "id": "a21c1031",
   "metadata": {},
   "outputs": [
    {
     "data": {
      "text/plain": [
       "array([0.        , 0.88576609, 0.92384406, 0.9456029 , 0.9655485 ,\n",
       "       1.        ])"
      ]
     },
     "execution_count": 24,
     "metadata": {},
     "output_type": "execute_result"
    }
   ],
   "source": [
    "knn_tpr"
   ]
  },
  {
   "cell_type": "code",
   "execution_count": 25,
   "id": "62580eb2",
   "metadata": {},
   "outputs": [
    {
     "data": {
      "text/plain": [
       "array([1142, 1103], dtype=int64)"
      ]
     },
     "execution_count": 25,
     "metadata": {},
     "output_type": "execute_result"
    }
   ],
   "source": [
    "_"
   ]
  },
  {
   "cell_type": "code",
   "execution_count": 26,
   "id": "bb065cb5",
   "metadata": {},
   "outputs": [
    {
     "data": {
      "text/plain": [
       "array([0.4, 1. , 0.2, ..., 1. , 1. , 1. ])"
      ]
     },
     "execution_count": 26,
     "metadata": {},
     "output_type": "execute_result"
    }
   ],
   "source": [
    "knn_proba[:,1]"
   ]
  },
  {
   "cell_type": "code",
   "execution_count": 27,
   "id": "86280751",
   "metadata": {},
   "outputs": [
    {
     "data": {
      "text/plain": [
       "2245"
      ]
     },
     "execution_count": 27,
     "metadata": {},
     "output_type": "execute_result"
    }
   ],
   "source": [
    "len(knn_proba[:,1])"
   ]
  },
  {
   "cell_type": "code",
   "execution_count": 28,
   "id": "b80acdbd",
   "metadata": {},
   "outputs": [
    {
     "data": {
      "text/plain": [
       "array([1, 1, 1, ..., 1, 1, 1], dtype=int64)"
      ]
     },
     "execution_count": 28,
     "metadata": {},
     "output_type": "execute_result"
    }
   ],
   "source": [
    "y_test"
   ]
  },
  {
   "cell_type": "markdown",
   "id": "98960392",
   "metadata": {},
   "source": [
    "## 2. Support Vector Machine"
   ]
  },
  {
   "cell_type": "markdown",
   "id": "9730e0a4",
   "metadata": {},
   "source": [
    "Hyperparameter optimization"
   ]
  },
  {
   "cell_type": "code",
   "execution_count": 72,
   "id": "b1afd2cf",
   "metadata": {},
   "outputs": [
    {
     "data": {
      "text/plain": [
       "array([1.e-03, 1.e-02, 1.e-01, 1.e+00, 1.e+01, 1.e+02, 1.e+03])"
      ]
     },
     "execution_count": 72,
     "metadata": {},
     "output_type": "execute_result"
    }
   ],
   "source": [
    "np.logspace(-3,3,7)"
   ]
  },
  {
   "cell_type": "code",
   "execution_count": 73,
   "id": "7e6ce413",
   "metadata": {},
   "outputs": [
    {
     "name": "stdout",
     "output_type": "stream",
     "text": [
      "Best score: 1.0\n",
      "Best hyperparameters: {'C': 0.1, 'kernel': 'sigmoid'}\n"
     ]
    }
   ],
   "source": [
    "model = SVC(kernel='sigmoid',random_state=0, probability=True)\n",
    "\n",
    "param_grid={'C':np.logspace(-3,3,7),\n",
    "            'kernel': [ 'rbf', 'sigmoid']\n",
    "           }\n",
    "\n",
    "grid = GridSearchCV(estimator=model, param_grid=param_grid)\n",
    "\n",
    "grid.fit(X_train, y_train.ravel())\n",
    "\n",
    "C = grid.best_estimator_.C\n",
    "kernel = grid.best_estimator_.kernel\n",
    "\n",
    "# summarize the results of the grid search\n",
    "print('Best score:', grid.best_score_)\n",
    "print('Best hyperparameters:',grid.best_params_)"
   ]
  },
  {
   "cell_type": "markdown",
   "id": "41ac2834",
   "metadata": {},
   "source": [
    "Train on opmtimal hyperparameters"
   ]
  },
  {
   "cell_type": "code",
   "execution_count": 77,
   "id": "1d677446",
   "metadata": {},
   "outputs": [],
   "source": [
    "svm = SVC(random_state =0, probability = True,C=C,kernel = kernel).fit(X_train,y_train.ravel())"
   ]
  },
  {
   "cell_type": "markdown",
   "id": "e98a782c",
   "metadata": {},
   "source": [
    "Get predictions and probabilities on test set"
   ]
  },
  {
   "cell_type": "code",
   "execution_count": 78,
   "id": "00428d06",
   "metadata": {},
   "outputs": [],
   "source": [
    "svm_pred = svm.predict(X_test)\n",
    "svm_proba = svm.predict_proba(X_test)"
   ]
  },
  {
   "cell_type": "markdown",
   "id": "2a4dc062",
   "metadata": {},
   "source": [
    "Performance metrics"
   ]
  },
  {
   "cell_type": "code",
   "execution_count": 79,
   "id": "c6752c42",
   "metadata": {},
   "outputs": [
    {
     "name": "stdout",
     "output_type": "stream",
     "text": [
      "Support Vector Machine :\n",
      "\n",
      "Confusion matrix:\n",
      " [[1142    0]\n",
      " [   0 1103]] \n",
      "\n",
      "Accuracy: 1.0\n",
      "ROC AUC=1.0000\n",
      "Precision on (Landslide = 0) = 1.0000 \n",
      "Recall on (Landslide = 0) = 1.0000 \n",
      "F1 on (Landslide = 0) = 1.0000\n",
      "Precision on (Landslide = 1) = 1.0000 \n",
      "Recall on (Landslide = 1) = 1.0000 \n",
      "F1 on (Landslide = 1) = 1.0000 \n"
     ]
    }
   ],
   "source": [
    "svm_conf_mat = confusion_matrix(y_test, svm_pred)\n",
    "svm_acc = accuracy_score(y_test, svm_pred)\n",
    "svm_roc_auc = roc_auc_score(y_test, svm_proba[:,1])\n",
    "\n",
    "svm_fpr, svm_tpr, _ = roc_curve(y_test, svm_proba[:,1])\n",
    "svm_precision, svm_recall, _ = precision_recall_curve(y_test, svm_proba[:,1])\n",
    "\n",
    "svm_cls_precision, svm_cls_recall, svm_cls_f1, _ = precision_recall_fscore_support(y_test, svm_pred, average=None, labels=[0,1])\n",
    "print('Support Vector Machine :')\n",
    "print('\\nConfusion matrix:\\n',svm_conf_mat,'\\n')\n",
    "print('Accuracy:',svm_acc)\n",
    "print('ROC AUC=%.4f' % (svm_roc_auc))\n",
    "print('Precision on (Landslide = 0) = %.4f ' % (svm_cls_precision[0]))\n",
    "print('Recall on (Landslide = 0) = %.4f ' % (svm_cls_recall[0]))\n",
    "print('F1 on (Landslide = 0) = %.4f' % (svm_cls_f1[0]))\n",
    "print('Precision on (Landslide = 1) = %.4f ' % (svm_cls_precision[1]))\n",
    "print('Recall on (Landslide = 1) = %.4f ' % (svm_cls_recall[1]))\n",
    "print('F1 on (Landslide = 1) = %.4f ' % (svm_cls_f1[1]))"
   ]
  },
  {
   "cell_type": "markdown",
   "id": "ca01efb3",
   "metadata": {},
   "source": [
    "## 3. Artificial Neural Network"
   ]
  },
  {
   "cell_type": "code",
   "execution_count": null,
   "id": "6cec024b",
   "metadata": {},
   "outputs": [
    {
     "name": "stderr",
     "output_type": "stream",
     "text": [
      "C:\\Users\\Xiaoyi WU\\.conda\\envs\\py38\\lib\\site-packages\\sklearn\\neural_network\\_multilayer_perceptron.py:699: UserWarning: Training interrupted by user.\n",
      "  warnings.warn(\"Training interrupted by user.\")\n",
      "C:\\Users\\Xiaoyi WU\\.conda\\envs\\py38\\lib\\site-packages\\sklearn\\neural_network\\_multilayer_perceptron.py:699: UserWarning: Training interrupted by user.\n",
      "  warnings.warn(\"Training interrupted by user.\")\n",
      "C:\\Users\\Xiaoyi WU\\.conda\\envs\\py38\\lib\\site-packages\\sklearn\\neural_network\\_multilayer_perceptron.py:699: UserWarning: Training interrupted by user.\n",
      "  warnings.warn(\"Training interrupted by user.\")\n",
      "C:\\Users\\Xiaoyi WU\\.conda\\envs\\py38\\lib\\site-packages\\sklearn\\neural_network\\_multilayer_perceptron.py:699: UserWarning: Training interrupted by user.\n",
      "  warnings.warn(\"Training interrupted by user.\")\n",
      "C:\\Users\\Xiaoyi WU\\.conda\\envs\\py38\\lib\\site-packages\\sklearn\\neural_network\\_multilayer_perceptron.py:699: UserWarning: Training interrupted by user.\n",
      "  warnings.warn(\"Training interrupted by user.\")\n",
      "C:\\Users\\Xiaoyi WU\\.conda\\envs\\py38\\lib\\site-packages\\sklearn\\neural_network\\_multilayer_perceptron.py:699: UserWarning: Training interrupted by user.\n",
      "  warnings.warn(\"Training interrupted by user.\")\n",
      "C:\\Users\\Xiaoyi WU\\.conda\\envs\\py38\\lib\\site-packages\\sklearn\\neural_network\\_multilayer_perceptron.py:699: UserWarning: Training interrupted by user.\n",
      "  warnings.warn(\"Training interrupted by user.\")\n"
     ]
    }
   ],
   "source": [
    "model = MLPClassifier(random_state=0, max_iter=1000)\n",
    "\n",
    "param_grid={\n",
    "            'hidden_layer_sizes': np.arange(10, 50,5),\n",
    "            'activation': ['identity', 'logistic', 'tanh', 'relu'],\n",
    "            'alpha' : 10.0 ** -np.arange(1, 5),\n",
    "            'learning_rate': ['constant', 'adaptive']\n",
    "           }\n",
    "\n",
    "grid = GridSearchCV(estimator=model, param_grid=param_grid)\n",
    "\n",
    "grid.fit(X_train, y_train.ravel())\n",
    "\n",
    "hidden_layer_sizes = grid.best_estimator_.hidden_layer_sizes\n",
    "activation = grid.best_estimator_.activation\n",
    "alpha = grid.best_estimator_.alpha\n",
    "learning_rate = grid.best_estimator_.learning_rate\n",
    "\n",
    "# summarize the results of the grid search\n",
    "print('Best score:', grid.best_score_)\n",
    "print('Best hyperparameters:',grid.best_params_)"
   ]
  },
  {
   "cell_type": "code",
   "execution_count": 58,
   "id": "a5823f8b",
   "metadata": {},
   "outputs": [],
   "source": [
    "mlp = MLPClassifier(random_state=0, max_iter = 1000, activation = activation, alpha = alpha, hidden_layer_sizes = hidden_layer_sizes, learning_rate=learning_rate).fit(X_train,y_train.ravel())"
   ]
  },
  {
   "cell_type": "code",
   "execution_count": 59,
   "id": "b0a7cada",
   "metadata": {},
   "outputs": [],
   "source": [
    "mlp_pred = mlp.predict(X_test)\n",
    "mlp_proba = mlp.predict_proba(X_test)"
   ]
  },
  {
   "cell_type": "code",
   "execution_count": 60,
   "id": "0d5bfd72",
   "metadata": {},
   "outputs": [
    {
     "name": "stdout",
     "output_type": "stream",
     "text": [
      "Multi Layer Perceptron :\n",
      "\n",
      "Confusion matrix:\n",
      " [[1142    0]\n",
      " [   1 1102]] \n",
      "\n",
      "Accuracy: 0.999554565701559\n",
      "ROC AUC=1.0000\n",
      "Precision on (Landslide = 0) = 0.9991 \n",
      "Recall on (Landslide = 0) = 1.0000 \n",
      "F1 on (Landslide = 0) = 0.9996\n",
      "Precision on (Landslide = 1) = 1.0000 \n",
      "Recall on (Landslide = 1) = 0.9991 \n",
      "F1 on (Landslide = 1) = 0.9995 \n"
     ]
    }
   ],
   "source": [
    "mlp_conf_mat = confusion_matrix(y_test, mlp_pred)\n",
    "mlp_acc = accuracy_score(y_test, mlp_pred)\n",
    "mlp_roc_auc = roc_auc_score(y_test, mlp_proba[:,1])\n",
    "\n",
    "mlp_fpr, mlp_tpr, _ = roc_curve(y_test, mlp_proba[:,1])\n",
    "mlp_precision, mlp_recall, _ = precision_recall_curve(y_test, mlp_proba[:,1])\n",
    "\n",
    "mlp_cls_precision, mlp_cls_recall, mlp_cls_f1, _ = precision_recall_fscore_support(y_test, mlp_pred, average=None, labels=[0,1])\n",
    "\n",
    "print('Multi Layer Perceptron :')\n",
    "print('\\nConfusion matrix:\\n',mlp_conf_mat,'\\n')\n",
    "print('Accuracy:',mlp_acc)\n",
    "print('ROC AUC=%.4f' % (mlp_roc_auc))\n",
    "print('Precision on (Landslide = 0) = %.4f ' % (mlp_cls_precision[0]))\n",
    "print('Recall on (Landslide = 0) = %.4f ' % (mlp_cls_recall[0]))\n",
    "print('F1 on (Landslide = 0) = %.4f' % (mlp_cls_f1[0]))\n",
    "print('Precision on (Landslide = 1) = %.4f ' % (mlp_cls_precision[1]))\n",
    "print('Recall on (Landslide = 1) = %.4f ' % (mlp_cls_recall[1]))\n",
    "print('F1 on (Landslide = 1) = %.4f ' % (mlp_cls_f1[1]))"
   ]
  },
  {
   "cell_type": "markdown",
   "id": "e2a3eec6",
   "metadata": {},
   "source": [
    "## 4. Random Forest"
   ]
  },
  {
   "cell_type": "code",
   "execution_count": 61,
   "id": "f93972cc",
   "metadata": {},
   "outputs": [
    {
     "name": "stdout",
     "output_type": "stream",
     "text": [
      "Best score: 1.0\n",
      "Best hyperparameters: {'criterion': 'gini', 'max_depth': 10, 'max_features': 'auto', 'n_estimators': 200}\n"
     ]
    }
   ],
   "source": [
    "model = RandomForestClassifier(random_state=0)\n",
    "\n",
    "param_grid = { \n",
    "    'n_estimators': [200, 300, 400, 500],\n",
    "    'max_features': ['auto', 'sqrt', 'log2'],\n",
    "    'max_depth' : np.arange(10,30,2),\n",
    "    'criterion' :['gini', 'entropy']\n",
    "}\n",
    "\n",
    "grid = GridSearchCV(estimator=model, param_grid=param_grid)\n",
    "\n",
    "grid.fit(X_train, y_train.ravel())\n",
    "\n",
    "n_estimators = grid.best_estimator_.n_estimators\n",
    "criterion = grid.best_estimator_.criterion\n",
    "max_depth = grid.best_estimator_.max_depth\n",
    "max_features = grid.best_estimator_.max_features\n",
    "\n",
    "# summarize the results of the grid search\n",
    "print('Best score:', grid.best_score_)\n",
    "print('Best hyperparameters:',grid.best_params_)"
   ]
  },
  {
   "cell_type": "code",
   "execution_count": 62,
   "id": "7d9f8319",
   "metadata": {},
   "outputs": [],
   "source": [
    "rf = RandomForestClassifier(random_state=0, criterion=criterion, max_depth=max_depth, max_features=max_features, n_estimators = n_estimators).fit(X_train,y_train.ravel())"
   ]
  },
  {
   "cell_type": "code",
   "execution_count": 63,
   "id": "6dff26d5",
   "metadata": {},
   "outputs": [],
   "source": [
    "rf_pred = rf.predict(X_test)\n",
    "rf_proba = rf.predict_proba(X_test)"
   ]
  },
  {
   "cell_type": "code",
   "execution_count": 64,
   "id": "d9f2b38c",
   "metadata": {},
   "outputs": [
    {
     "name": "stdout",
     "output_type": "stream",
     "text": [
      "Random Forest :\n",
      "\n",
      "Confusion matrix:\n",
      " [[1142    0]\n",
      " [   0 1103]] \n",
      "\n",
      "Accuracy: 1.0\n",
      "ROC AUC=1.0000\n",
      "Precision on (Landslide = 0) = 1.0000 \n",
      "Recall on (Landslide = 0) = 1.0000 \n",
      "F1 on (Landslide = 0) = 1.0000\n",
      "Precision on (Landslide = 1) = 1.0000 \n",
      "Recall on (Landslide = 1) = 1.0000 \n",
      "F1 on (Landslide = 1) = 1.0000 \n"
     ]
    }
   ],
   "source": [
    "rf_conf_mat = confusion_matrix(y_test, rf_pred)\n",
    "rf_acc = accuracy_score(y_test, rf_pred)\n",
    "rf_roc_auc = roc_auc_score(y_test, rf_proba[:,1])\n",
    "\n",
    "rf_fpr, rf_tpr, _ = roc_curve(y_test, rf_proba[:,1])\n",
    "rf_precision, rf_recall, _ = precision_recall_curve(y_test, rf_proba[:,1])\n",
    "\n",
    "rf_cls_precision, rf_cls_recall, rf_cls_f1, _ = precision_recall_fscore_support(y_test, rf_pred, average=None, labels=[0,1])\n",
    "\n",
    "print('Random Forest :')\n",
    "print('\\nConfusion matrix:\\n',rf_conf_mat,'\\n')\n",
    "print('Accuracy:',rf_acc)\n",
    "print('ROC AUC=%.4f' % (rf_roc_auc))\n",
    "print('Precision on (Landslide = 0) = %.4f ' % (rf_cls_precision[0]))\n",
    "print('Recall on (Landslide = 0) = %.4f ' % (rf_cls_recall[0]))\n",
    "print('F1 on (Landslide = 0) = %.4f' % (rf_cls_f1[0]))\n",
    "print('Precision on (Landslide = 1) = %.4f ' % (rf_cls_precision[1]))\n",
    "print('Recall on (Landslide = 1) = %.4f ' % (rf_cls_recall[1]))\n",
    "print('F1 on (Landslide = 1) = %.4f ' % (rf_cls_f1[1]))"
   ]
  },
  {
   "cell_type": "markdown",
   "id": "40021c18",
   "metadata": {},
   "source": [
    "## 5. decision tree"
   ]
  },
  {
   "cell_type": "code",
   "execution_count": 65,
   "id": "d63857ed",
   "metadata": {},
   "outputs": [
    {
     "name": "stdout",
     "output_type": "stream",
     "text": [
      "Best score: 0.9931252141706219\n",
      "Best hyperparameters: {'criterion': 'entropy', 'max_depth': 20, 'max_features': 'auto'}\n"
     ]
    }
   ],
   "source": [
    "model = DecisionTreeClassifier(random_state=0)\n",
    "\n",
    "param_grid = { \n",
    "    'max_features': ['auto', 'sqrt', 'log2'],\n",
    "    'max_depth' : np.arange(10,40,5),\n",
    "    'criterion' :['gini', 'entropy']\n",
    "}\n",
    "\n",
    "grid = GridSearchCV(estimator=model, param_grid=param_grid)\n",
    "\n",
    "grid.fit(X_train, y_train.ravel())\n",
    "\n",
    "criterion = grid.best_estimator_.criterion\n",
    "max_depth = grid.best_estimator_.max_depth\n",
    "max_features = grid.best_estimator_.max_features\n",
    "\n",
    "# summarize the results of the grid search\n",
    "print('Best score:', grid.best_score_)\n",
    "print('Best hyperparameters:',grid.best_params_)"
   ]
  },
  {
   "cell_type": "code",
   "execution_count": 66,
   "id": "f75c57c9",
   "metadata": {},
   "outputs": [],
   "source": [
    "dt = DecisionTreeClassifier(random_state=0, criterion = criterion, max_depth=max_depth, max_features=max_features).fit(X_train, y_train.ravel())"
   ]
  },
  {
   "cell_type": "code",
   "execution_count": 67,
   "id": "0d66dec8",
   "metadata": {},
   "outputs": [],
   "source": [
    "dt_pred = dt.predict(X_test)\n",
    "dt_proba = dt.predict_proba(X_test)"
   ]
  },
  {
   "cell_type": "code",
   "execution_count": 68,
   "id": "12ba97f2",
   "metadata": {},
   "outputs": [
    {
     "name": "stdout",
     "output_type": "stream",
     "text": [
      "Decision Tree:\n",
      "\n",
      "Confusion matrix:\n",
      " [[1131   11]\n",
      " [  88 1015]] \n",
      "\n",
      "Accuracy: 0.955902004454343\n",
      "ROC AUC=0.9647\n",
      "Precision on (Landslide = 0) = 0.9278 \n",
      "Recall on (Landslide = 0) = 0.9904 \n",
      "F1 on (Landslide = 0) = 0.9581\n",
      "Precision on (Landslide = 1) = 0.9893 \n",
      "Recall on (Landslide = 1) = 0.9202 \n",
      "F1 on (Landslide = 1) = 0.9535 \n"
     ]
    }
   ],
   "source": [
    "dt_conf_mat = confusion_matrix(y_test, dt_pred)\n",
    "dt_acc = accuracy_score(y_test, dt_pred)\n",
    "dt_roc_auc = roc_auc_score(y_test, dt_proba[:,1])\n",
    "\n",
    "dt_fpr, dt_tpr, _ = roc_curve(y_test, dt_proba[:,1])\n",
    "dt_precision, dt_recall, _ = precision_recall_curve(y_test, dt_proba[:,1])\n",
    "\n",
    "dt_cls_precision, dt_cls_recall, dt_cls_f1, _ = precision_recall_fscore_support(y_test, dt_pred, average=None, labels=[0,1])\n",
    "\n",
    "print('Decision Tree:')\n",
    "print('\\nConfusion matrix:\\n',dt_conf_mat,'\\n')\n",
    "print('Accuracy:',dt_acc)\n",
    "print('ROC AUC=%.4f' % (dt_roc_auc))\n",
    "print('Precision on (Landslide = 0) = %.4f ' % (dt_cls_precision[0]))\n",
    "print('Recall on (Landslide = 0) = %.4f ' % (dt_cls_recall[0]))\n",
    "print('F1 on (Landslide = 0) = %.4f' % (dt_cls_f1[0]))\n",
    "print('Precision on (Landslide = 1) = %.4f ' % (dt_cls_precision[1]))\n",
    "print('Recall on (Landslide = 1) = %.4f ' % (dt_cls_recall[1]))\n",
    "print('F1 on (Landslide = 1) = %.4f ' % (dt_cls_f1[1]))"
   ]
  },
  {
   "cell_type": "markdown",
   "id": "0399abe4",
   "metadata": {},
   "source": [
    "## Export performance metrics of models"
   ]
  },
  {
   "cell_type": "code",
   "execution_count": 82,
   "id": "4000d699",
   "metadata": {},
   "outputs": [],
   "source": [
    "perf_metr = pd.DataFrame(index = ['K Nearest Neighbors',\n",
    "                        'Support Vector Machine',\n",
    "                        'Multi Layer Perceptron',\n",
    "                        'Decision Tree',\n",
    "                        'Random Forest',\n",
    "                       ],\n",
    "             columns = ['Accuracy', \n",
    "                        'ROC AUC', \n",
    "                        'Precision on Landlside=0', \n",
    "                        'Recall on Landlside=0', \n",
    "                        'F1-score on Landlside=0', \n",
    "                        'Precision on Landlside=1', \n",
    "                        'Recall on Landlside=1', \n",
    "                        'F1-score on Landlside=1']\n",
    "            )"
   ]
  },
  {
   "cell_type": "code",
   "execution_count": 83,
   "id": "94492aae",
   "metadata": {},
   "outputs": [],
   "source": [
    "knn_perf_metr = pd.Series([knn_acc, knn_roc_auc, knn_cls_precision[0], knn_cls_recall[0], knn_cls_f1[0], knn_cls_precision[0],knn_cls_recall[0], knn_cls_f1[0]])\n",
    "svm_perf_metr = pd.Series([svm_acc, svm_roc_auc, svm_cls_precision[0], svm_cls_recall[0], svm_cls_f1[0], svm_cls_precision[0],svm_cls_recall[0], svm_cls_f1[0]])\n",
    "mlp_perf_metr = pd.Series([mlp_acc, mlp_roc_auc, mlp_cls_precision[0], mlp_cls_recall[0], mlp_cls_f1[0], mlp_cls_precision[0],mlp_cls_recall[0], mlp_cls_f1[0]])\n",
    "dt_perf_metr = pd.Series([dt_acc, dt_roc_auc, dt_cls_precision[0], dt_cls_recall[0], dt_cls_f1[0], dt_cls_precision[0],dt_cls_recall[0], dt_cls_f1[0]])\n",
    "rf_perf_metr = pd.Series([rf_acc, rf_roc_auc, rf_cls_precision[0], rf_cls_recall[0], rf_cls_f1[0], rf_cls_precision[0],rf_cls_recall[0], rf_cls_f1[0]])"
   ]
  },
  {
   "cell_type": "code",
   "execution_count": 84,
   "id": "60ff0a83",
   "metadata": {},
   "outputs": [],
   "source": [
    "perf_metr.loc['K Nearest Neighbors',:] = knn_perf_metr.values\n",
    "perf_metr.loc[ 'Support Vector Machine',:] = svm_perf_metr.values\n",
    "perf_metr.loc['Multi Layer Perceptron',:] = mlp_perf_metr.values\n",
    "perf_metr.loc['Decision Tree',:] = dt_perf_metr.values\n",
    "perf_metr.loc['Random Forest',:] = rf_perf_metr.values"
   ]
  },
  {
   "cell_type": "code",
   "execution_count": 85,
   "id": "1a68c5e0",
   "metadata": {},
   "outputs": [],
   "source": [
    "perf_metr = perf_metr.astype(float).round(4)"
   ]
  },
  {
   "cell_type": "code",
   "execution_count": 86,
   "id": "fc3afb00",
   "metadata": {},
   "outputs": [
    {
     "data": {
      "text/html": [
       "<div>\n",
       "<style scoped>\n",
       "    .dataframe tbody tr th:only-of-type {\n",
       "        vertical-align: middle;\n",
       "    }\n",
       "\n",
       "    .dataframe tbody tr th {\n",
       "        vertical-align: top;\n",
       "    }\n",
       "\n",
       "    .dataframe thead th {\n",
       "        text-align: right;\n",
       "    }\n",
       "</style>\n",
       "<table border=\"1\" class=\"dataframe\">\n",
       "  <thead>\n",
       "    <tr style=\"text-align: right;\">\n",
       "      <th></th>\n",
       "      <th>Accuracy</th>\n",
       "      <th>ROC AUC</th>\n",
       "      <th>Precision on Landlside=0</th>\n",
       "      <th>Recall on Landlside=0</th>\n",
       "      <th>F1-score on Landlside=0</th>\n",
       "      <th>Precision on Landlside=1</th>\n",
       "      <th>Recall on Landlside=1</th>\n",
       "      <th>F1-score on Landlside=1</th>\n",
       "    </tr>\n",
       "  </thead>\n",
       "  <tbody>\n",
       "    <tr>\n",
       "      <th>K Nearest Neighbors</th>\n",
       "      <td>0.9626</td>\n",
       "      <td>0.9828</td>\n",
       "      <td>0.9315</td>\n",
       "      <td>1.0000</td>\n",
       "      <td>0.9645</td>\n",
       "      <td>0.9315</td>\n",
       "      <td>1.0000</td>\n",
       "      <td>0.9645</td>\n",
       "    </tr>\n",
       "    <tr>\n",
       "      <th>Support Vector Machine</th>\n",
       "      <td>1.0000</td>\n",
       "      <td>1.0000</td>\n",
       "      <td>1.0000</td>\n",
       "      <td>1.0000</td>\n",
       "      <td>1.0000</td>\n",
       "      <td>1.0000</td>\n",
       "      <td>1.0000</td>\n",
       "      <td>1.0000</td>\n",
       "    </tr>\n",
       "    <tr>\n",
       "      <th>Multi Layer Perceptron</th>\n",
       "      <td>0.9996</td>\n",
       "      <td>1.0000</td>\n",
       "      <td>0.9991</td>\n",
       "      <td>1.0000</td>\n",
       "      <td>0.9996</td>\n",
       "      <td>0.9991</td>\n",
       "      <td>1.0000</td>\n",
       "      <td>0.9996</td>\n",
       "    </tr>\n",
       "    <tr>\n",
       "      <th>Decision Tree</th>\n",
       "      <td>0.9559</td>\n",
       "      <td>0.9647</td>\n",
       "      <td>0.9278</td>\n",
       "      <td>0.9904</td>\n",
       "      <td>0.9581</td>\n",
       "      <td>0.9278</td>\n",
       "      <td>0.9904</td>\n",
       "      <td>0.9581</td>\n",
       "    </tr>\n",
       "    <tr>\n",
       "      <th>Random Forest</th>\n",
       "      <td>1.0000</td>\n",
       "      <td>1.0000</td>\n",
       "      <td>1.0000</td>\n",
       "      <td>1.0000</td>\n",
       "      <td>1.0000</td>\n",
       "      <td>1.0000</td>\n",
       "      <td>1.0000</td>\n",
       "      <td>1.0000</td>\n",
       "    </tr>\n",
       "  </tbody>\n",
       "</table>\n",
       "</div>"
      ],
      "text/plain": [
       "                        Accuracy  ROC AUC  Precision on Landlside=0  \\\n",
       "K Nearest Neighbors       0.9626   0.9828                    0.9315   \n",
       "Support Vector Machine    1.0000   1.0000                    1.0000   \n",
       "Multi Layer Perceptron    0.9996   1.0000                    0.9991   \n",
       "Decision Tree             0.9559   0.9647                    0.9278   \n",
       "Random Forest             1.0000   1.0000                    1.0000   \n",
       "\n",
       "                        Recall on Landlside=0  F1-score on Landlside=0  \\\n",
       "K Nearest Neighbors                    1.0000                   0.9645   \n",
       "Support Vector Machine                 1.0000                   1.0000   \n",
       "Multi Layer Perceptron                 1.0000                   0.9996   \n",
       "Decision Tree                          0.9904                   0.9581   \n",
       "Random Forest                          1.0000                   1.0000   \n",
       "\n",
       "                        Precision on Landlside=1  Recall on Landlside=1  \\\n",
       "K Nearest Neighbors                       0.9315                 1.0000   \n",
       "Support Vector Machine                    1.0000                 1.0000   \n",
       "Multi Layer Perceptron                    0.9991                 1.0000   \n",
       "Decision Tree                             0.9278                 0.9904   \n",
       "Random Forest                             1.0000                 1.0000   \n",
       "\n",
       "                        F1-score on Landlside=1  \n",
       "K Nearest Neighbors                      0.9645  \n",
       "Support Vector Machine                   1.0000  \n",
       "Multi Layer Perceptron                   0.9996  \n",
       "Decision Tree                            0.9581  \n",
       "Random Forest                            1.0000  "
      ]
     },
     "execution_count": 86,
     "metadata": {},
     "output_type": "execute_result"
    }
   ],
   "source": [
    "perf_metr"
   ]
  },
  {
   "cell_type": "markdown",
   "id": "d000db69",
   "metadata": {},
   "source": [
    "## ROC-AUC curves"
   ]
  },
  {
   "cell_type": "code",
   "execution_count": 89,
   "id": "909ad497",
   "metadata": {},
   "outputs": [
    {
     "data": {
      "image/png": "[encoded data removed]",
      "text/plain": [
       "<Figure size 720x720 with 1 Axes>"
      ]
     },
     "metadata": {
      "needs_background": "light"
     },
     "output_type": "display_data"
    }
   ],
   "source": [
    "\n",
    "svm_fpr, svm_tpr, _ = roc_curve(y_test, svm_proba[:,1])\n",
    "mlp_fpr, mlp_tpr, _ = roc_curve(y_test, mlp_proba[:,1])\n",
    "rf_fpr, rf_tpr, _ = roc_curve(y_test, rf_proba[:,1])\n",
    "\n",
    "fig, ax = plt.subplots(1, figsize=(10,10))\n",
    "\n",
    "# fig.figure(figsize=(10,10))\n",
    "\n",
    "# plot the roc curve for the model\n",
    "# pyplot.plot(ns_fpr, ns_tpr, linestyle='--', label='No Skill')\n",
    "ax.plot(svm_fpr, svm_tpr,  color = 'blue', label='Support Vector Machine (AUC: ' + str(np.round(svm_roc_auc,4))+')')\n",
    "ax.plot(mlp_fpr, mlp_tpr, color = 'green', label='Multi Layer Perceptron (AUC: ' + str(np.round(mlp_roc_auc,4))+')')\n",
    "ax.plot(knn_fpr, knn_tpr,  color = 'orange',label='K Nearest Neighbor (AUC: ' + str(np.round(knn_roc_auc,4))+')')\n",
    "ax.plot(dt_fpr, dt_tpr,  color = 'yellow', label='Decision Tree (AUC: ' + str(np.round(dt_roc_auc,4))+')')\n",
    "ax.plot(rf_fpr, rf_tpr,  color = 'red', label='Random Forest (AUC: ' + str(np.round(rf_roc_auc,4))+')')\n",
    "ax.plot([0,1],[0,1], color='grey', linestyle='dashed')\n",
    "\n",
    "# axis labels\n",
    "ax.set_xlabel('False Positive Rate', fontsize=15)\n",
    "ax.set_ylabel('True Positive Rate', fontsize=15)\n",
    "\n",
    "# show the legend\n",
    "# plt.legend()\n",
    "\n",
    "handles,labels = ax.get_legend_handles_labels()\n",
    "\n",
    "\n",
    "handles = [handles[0], handles[1], handles[2], handles[3], handles[4]]\n",
    "labels = [labels[0], labels[1], labels[2], labels[3], labels[4]]\n",
    "\n",
    "ax.grid(linestyle='dashed')\n",
    "ax.legend(handles,labels, fontsize=14)\n",
    "\n",
    "plt.show()"
   ]
  },
  {
   "cell_type": "markdown",
   "id": "786c2615",
   "metadata": {},
   "source": [
    "### deep learning model"
   ]
  },
  {
   "cell_type": "markdown",
   "id": "8eb82737",
   "metadata": {},
   "source": [
    "## 1. CNN "
   ]
  },
  {
   "cell_type": "code",
   "execution_count": null,
   "id": "cae51d56",
   "metadata": {},
   "outputs": [],
   "source": [
    "print(X_train.shape)\n",
    "print(y_train.shape)"
   ]
  },
  {
   "cell_type": "code",
   "execution_count": null,
   "id": "e6ed7b40",
   "metadata": {},
   "outputs": [],
   "source": []
  },
  {
   "cell_type": "code",
   "execution_count": null,
   "id": "52cc6ba7",
   "metadata": {},
   "outputs": [],
   "source": [
    "model = Sequential()\n",
    "model.add(Dense(80, activation='relu', input_dim=X_train.shape[1]))\n",
    "model.add(Dense(80, activation='relu'))\n",
    "model.add(Dense(50, activation='relu'))\n",
    "model.add(Dense(1, activation='sigmoid'))\n",
    "model.add(Flatten())\n",
    "\n",
    "model.compile(optimizer='adam', \n",
    "              loss='binary_crossentropy', \n",
    "              metrics=['accuracy'])"
   ]
  },
  {
   "cell_type": "code",
   "execution_count": null,
   "id": "d0e5bf08",
   "metadata": {},
   "outputs": [],
   "source": [
    "model.fit(X_train, y_train,epochs=20)\n"
   ]
  },
  {
   "cell_type": "code",
   "execution_count": null,
   "id": "cf5b0b8d",
   "metadata": {},
   "outputs": [],
   "source": [
    "results = model.evaluate(X_test, y_test, batch_size=128)"
   ]
  },
  {
   "cell_type": "code",
   "execution_count": null,
   "id": "16940344",
   "metadata": {},
   "outputs": [],
   "source": []
  }
 ],
 "metadata": {
  "kernelspec": {
   "display_name": "Python 3 (ipykernel)",
   "language": "python",
   "name": "python3"
  },
  "language_info": {
   "codemirror_mode": {
    "name": "ipython",
    "version": 3
   },
   "file_extension": ".py",
   "mimetype": "text/x-python",
   "name": "python",
   "nbconvert_exporter": "python",
   "pygments_lexer": "ipython3",
   "version": "3.8.10"
  }
 },
 "nbformat": 4,
 "nbformat_minor": 5
}
