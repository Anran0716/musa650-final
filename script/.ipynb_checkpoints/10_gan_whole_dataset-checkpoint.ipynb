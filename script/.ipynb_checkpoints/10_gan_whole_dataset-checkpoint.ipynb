{
 "cells": [
  {
   "cell_type": "code",
   "execution_count": 1,
   "metadata": {},
   "outputs": [],
   "source": [
    "\n",
    "import pandas as pd\n",
    "import numpy as np\n",
    "import numpy as np\n",
    "import pandas as pd\n",
    "import seaborn as sns\n",
    "import matplotlib.pyplot as plt\n",
    "import os\n",
    "\n",
    "import sklearn\n",
    "\n",
    "# Import necessary modules\n",
    "from sklearn.model_selection import train_test_split\n",
    "from sklearn.metrics import mean_squared_error\n",
    "from math import sqrt\n",
    "\n",
    "# Keras specific\n",
    "import keras\n",
    "from keras.models import Sequential\n",
    "from keras.layers import Dense,Flatten\n",
    "from tensorflow.keras.utils import to_categorical\n",
    "from sklearn import preprocessing\n",
    "from sklearn.model_selection import GridSearchCV\n",
    "\n",
    "from sklearn.linear_model import LogisticRegression\n",
    "from sklearn.svm import SVC\n",
    "from sklearn.tree import DecisionTreeClassifier\n",
    "from sklearn.ensemble import RandomForestClassifier\n",
    "from sklearn.neural_network import MLPClassifier\n",
    "from sklearn.neighbors import KNeighborsClassifier\n",
    "\n",
    "from sklearn.metrics import confusion_matrix\n",
    "from sklearn.metrics import accuracy_score\n",
    "from sklearn.metrics import roc_curve\n",
    "from sklearn.metrics import roc_auc_score\n",
    "from sklearn.metrics import precision_recall_fscore_support\n",
    "from sklearn.metrics import precision_recall_curve\n",
    "from tensorflow.keras.optimizers import RMSprop\n",
    "from keras.layers import Dense, Dropout,Flatten,Conv2D, MaxPooling2D\n",
    "import sys\n",
    "from sklearn.preprocessing import StandardScaler\n",
    "from sdv.demo import load_tabular_demo\n",
    "from sdv.tabular import CTGAN\n",
    "from sdv.evaluation import evaluate\n",
    "np.set_printoptions(threshold=sys.maxsize)"
   ]
  },
  {
   "cell_type": "code",
   "execution_count": 2,
   "metadata": {},
   "outputs": [
    {
     "data": {
      "text/plain": [
       "'C:\\\\Users\\\\zheng\\\\Desktop\\\\MUSA 650 RS\\\\429\\\\musa650-final\\\\script'"
      ]
     },
     "execution_count": 2,
     "metadata": {},
     "output_type": "execute_result"
    }
   ],
   "source": [
    "pwd"
   ]
  },
  {
   "cell_type": "code",
   "execution_count": 3,
   "metadata": {},
   "outputs": [
    {
     "data": {
      "text/html": [
       "<div>\n",
       "<style scoped>\n",
       "    .dataframe tbody tr th:only-of-type {\n",
       "        vertical-align: middle;\n",
       "    }\n",
       "\n",
       "    .dataframe tbody tr th {\n",
       "        vertical-align: top;\n",
       "    }\n",
       "\n",
       "    .dataframe thead th {\n",
       "        text-align: right;\n",
       "    }\n",
       "</style>\n",
       "<table border=\"1\" class=\"dataframe\">\n",
       "  <thead>\n",
       "    <tr style=\"text-align: right;\">\n",
       "      <th></th>\n",
       "      <th>SLIDE_TYPE</th>\n",
       "      <th>M_WIDTH</th>\n",
       "      <th>S_LENGTH</th>\n",
       "      <th>SLOPE</th>\n",
       "      <th>COVER</th>\n",
       "      <th>YEAR_1</th>\n",
       "      <th>HEADELEV</th>\n",
       "      <th>TAILELEV</th>\n",
       "      <th>ELE_DIFF</th>\n",
       "      <th>GULLY</th>\n",
       "      <th>CLASS</th>\n",
       "      <th>curv_plan</th>\n",
       "      <th>curv_prof</th>\n",
       "      <th>aspect</th>\n",
       "      <th>curv</th>\n",
       "      <th>ID</th>\n",
       "    </tr>\n",
       "  </thead>\n",
       "  <tbody>\n",
       "    <tr>\n",
       "      <th>0</th>\n",
       "      <td>R</td>\n",
       "      <td>14.0</td>\n",
       "      <td>8.0</td>\n",
       "      <td>9999.0</td>\n",
       "      <td>C</td>\n",
       "      <td>1967</td>\n",
       "      <td>9999.0</td>\n",
       "      <td>9999.0</td>\n",
       "      <td>9999.0</td>\n",
       "      <td>N</td>\n",
       "      <td>S</td>\n",
       "      <td>-9999.0</td>\n",
       "      <td>-9999.0</td>\n",
       "      <td>-9999.000</td>\n",
       "      <td>-9999.0</td>\n",
       "      <td>0</td>\n",
       "    </tr>\n",
       "    <tr>\n",
       "      <th>1</th>\n",
       "      <td>R</td>\n",
       "      <td>13.0</td>\n",
       "      <td>6.0</td>\n",
       "      <td>9999.0</td>\n",
       "      <td>C</td>\n",
       "      <td>1967</td>\n",
       "      <td>9999.0</td>\n",
       "      <td>9999.0</td>\n",
       "      <td>9999.0</td>\n",
       "      <td>N</td>\n",
       "      <td>S</td>\n",
       "      <td>-9999.0</td>\n",
       "      <td>-9999.0</td>\n",
       "      <td>-9999.000</td>\n",
       "      <td>-9999.0</td>\n",
       "      <td>1</td>\n",
       "    </tr>\n",
       "    <tr>\n",
       "      <th>2</th>\n",
       "      <td>R</td>\n",
       "      <td>15.0</td>\n",
       "      <td>13.5</td>\n",
       "      <td>9999.0</td>\n",
       "      <td>C</td>\n",
       "      <td>1967</td>\n",
       "      <td>9999.0</td>\n",
       "      <td>9999.0</td>\n",
       "      <td>9999.0</td>\n",
       "      <td>N</td>\n",
       "      <td>S</td>\n",
       "      <td>-9999.0</td>\n",
       "      <td>-9999.0</td>\n",
       "      <td>295.115</td>\n",
       "      <td>-9999.0</td>\n",
       "      <td>2</td>\n",
       "    </tr>\n",
       "    <tr>\n",
       "      <th>3</th>\n",
       "      <td>R</td>\n",
       "      <td>18.0</td>\n",
       "      <td>10.0</td>\n",
       "      <td>9999.0</td>\n",
       "      <td>C</td>\n",
       "      <td>1967</td>\n",
       "      <td>9999.0</td>\n",
       "      <td>9999.0</td>\n",
       "      <td>9999.0</td>\n",
       "      <td>N</td>\n",
       "      <td>S</td>\n",
       "      <td>-9999.0</td>\n",
       "      <td>-9999.0</td>\n",
       "      <td>150.945</td>\n",
       "      <td>-9999.0</td>\n",
       "      <td>3</td>\n",
       "    </tr>\n",
       "    <tr>\n",
       "      <th>4</th>\n",
       "      <td>R</td>\n",
       "      <td>17.0</td>\n",
       "      <td>10.0</td>\n",
       "      <td>9999.0</td>\n",
       "      <td>C</td>\n",
       "      <td>1967</td>\n",
       "      <td>9999.0</td>\n",
       "      <td>9999.0</td>\n",
       "      <td>9999.0</td>\n",
       "      <td>N</td>\n",
       "      <td>S</td>\n",
       "      <td>-9999.0</td>\n",
       "      <td>-9999.0</td>\n",
       "      <td>133.977</td>\n",
       "      <td>-9999.0</td>\n",
       "      <td>4</td>\n",
       "    </tr>\n",
       "  </tbody>\n",
       "</table>\n",
       "</div>"
      ],
      "text/plain": [
       "  SLIDE_TYPE  M_WIDTH  S_LENGTH   SLOPE COVER  YEAR_1  HEADELEV  TAILELEV  \\\n",
       "0          R     14.0       8.0  9999.0     C    1967    9999.0    9999.0   \n",
       "1          R     13.0       6.0  9999.0     C    1967    9999.0    9999.0   \n",
       "2          R     15.0      13.5  9999.0     C    1967    9999.0    9999.0   \n",
       "3          R     18.0      10.0  9999.0     C    1967    9999.0    9999.0   \n",
       "4          R     17.0      10.0  9999.0     C    1967    9999.0    9999.0   \n",
       "\n",
       "   ELE_DIFF GULLY CLASS  curv_plan  curv_prof    aspect    curv  ID  \n",
       "0    9999.0     N     S    -9999.0    -9999.0 -9999.000 -9999.0   0  \n",
       "1    9999.0     N     S    -9999.0    -9999.0 -9999.000 -9999.0   1  \n",
       "2    9999.0     N     S    -9999.0    -9999.0   295.115 -9999.0   2  \n",
       "3    9999.0     N     S    -9999.0    -9999.0   150.945 -9999.0   3  \n",
       "4    9999.0     N     S    -9999.0    -9999.0   133.977 -9999.0   4  "
      ]
     },
     "execution_count": 3,
     "metadata": {},
     "output_type": "execute_result"
    }
   ],
   "source": [
    "data_raw= pd.read_csv('..\\\\rawdata\\\\landslide3.csv')\n",
    "data_raw.head()"
   ]
  },
  {
   "cell_type": "markdown",
   "metadata": {},
   "source": [
    "#### data process\n"
   ]
  },
  {
   "cell_type": "code",
   "execution_count": 4,
   "metadata": {},
   "outputs": [
    {
     "name": "stderr",
     "output_type": "stream",
     "text": [
      "D:\\ProgramData\\Anaconda3\\lib\\site-packages\\seaborn\\_decorators.py:36: FutureWarning: Pass the following variable as a keyword arg: x. From version 0.12, the only valid positional argument will be `data`, and passing other arguments without an explicit keyword will result in an error or misinterpretation.\n",
      "  warnings.warn(\n"
     ]
    },
    {
     "data": {
      "text/plain": [
       "<AxesSubplot:xlabel='CLASS', ylabel='count'>"
      ]
     },
     "execution_count": 4,
     "metadata": {},
     "output_type": "execute_result"
    },
    {
     "data": {
      "image/png": "[encoded data removed]",
      "text/plain": [
       "<Figure size 432x288 with 1 Axes>"
      ]
     },
     "metadata": {
      "needs_background": "light"
     },
     "output_type": "display_data"
    }
   ],
   "source": [
    "#lot of '-' meaning uncategorized landslide\n",
    "sns.countplot(data_raw['CLASS'] )"
   ]
  },
  {
   "cell_type": "code",
   "execution_count": 5,
   "metadata": {},
   "outputs": [],
   "source": [
    "#use the whole dataset rather than select 10000 random sample\n",
    "data=data_raw"
   ]
  },
  {
   "cell_type": "code",
   "execution_count": 6,
   "metadata": {},
   "outputs": [
    {
     "data": {
      "text/plain": [
       "(111408, 16)"
      ]
     },
     "execution_count": 6,
     "metadata": {},
     "output_type": "execute_result"
    }
   ],
   "source": [
    "data.shape"
   ]
  },
  {
   "cell_type": "code",
   "execution_count": 7,
   "metadata": {},
   "outputs": [
    {
     "name": "stderr",
     "output_type": "stream",
     "text": [
      "C:\\Users\\zheng\\AppData\\Local\\Temp/ipykernel_6332/1970437344.py:11: SettingWithCopyWarning: \n",
      "A value is trying to be set on a copy of a slice from a DataFrame.\n",
      "Try using .loc[row_indexer,col_indexer] = value instead\n",
      "\n",
      "See the caveats in the documentation: https://pandas.pydata.org/pandas-docs/stable/user_guide/indexing.html#returning-a-view-versus-a-copy\n",
      "  data1['history']=2022-data1['YEAR_1']\n",
      "D:\\ProgramData\\Anaconda3\\lib\\site-packages\\seaborn\\_decorators.py:36: FutureWarning: Pass the following variable as a keyword arg: x. From version 0.12, the only valid positional argument will be `data`, and passing other arguments without an explicit keyword will result in an error or misinterpretation.\n",
      "  warnings.warn(\n"
     ]
    },
    {
     "data": {
      "text/plain": [
       "<AxesSubplot:xlabel='SLIDE_TYPE', ylabel='count'>"
      ]
     },
     "execution_count": 7,
     "metadata": {},
     "output_type": "execute_result"
    },
    {
     "data": {
      "image/png": "[encoded data removed]",
      "text/plain": [
       "<Figure size 432x288 with 1 Axes>"
      ]
     },
     "metadata": {
      "needs_background": "light"
     },
     "output_type": "display_data"
    }
   ],
   "source": [
    "data1=data[~data['SLOPE'].isin([9999])]\n",
    "data1=data[~data['HEADELEV'].isin([9999])]\n",
    "data1=data[~data['TAILELEV'].isin([9999])]\n",
    "\n",
    "#newly added data: curv_plan, curv_prof, aspect, curv\n",
    "data1=data[~data['curv_plan'].isin([-9999])]\n",
    "data1=data[~data['curv_prof'].isin([-9999])]\n",
    "data1=data[~data['aspect'].isin([-9999])]\n",
    "data1=data[~data['curv'].isin([-9999])]\n",
    "\n",
    "data1['history']=2022-data1['YEAR_1']\n",
    "data1=data1.drop(['YEAR_1','CLASS','ID'], axis=1)\n",
    "#remove class\n",
    "data2 = pd.get_dummies(data1, columns=['COVER','GULLY'])\n",
    "#Y variable: SLIDE_TYPE\n",
    "def slide_type(slide_type1):\n",
    "    if slide_type1 == 'R':\n",
    "        return 0\n",
    "    elif slide_type1 == 'C':\n",
    "        return 1\n",
    "    elif slide_type1 == 'O':\n",
    "        return 2\n",
    "    else :\n",
    "        return 3\n",
    "    \n",
    "data2['SLIDE_TYPE'] = data2['SLIDE_TYPE'].apply(slide_type)\n",
    "\n",
    "sns.countplot(data2['SLIDE_TYPE'] )"
   ]
  },
  {
   "cell_type": "code",
   "execution_count": 8,
   "metadata": {},
   "outputs": [
    {
     "data": {
      "text/plain": [
       "(102932, 18)"
      ]
     },
     "execution_count": 8,
     "metadata": {},
     "output_type": "execute_result"
    }
   ],
   "source": [
    "data2.shape"
   ]
  },
  {
   "cell_type": "code",
   "execution_count": 9,
   "metadata": {},
   "outputs": [
    {
     "data": {
      "text/html": [
       "<div>\n",
       "<style scoped>\n",
       "    .dataframe tbody tr th:only-of-type {\n",
       "        vertical-align: middle;\n",
       "    }\n",
       "\n",
       "    .dataframe tbody tr th {\n",
       "        vertical-align: top;\n",
       "    }\n",
       "\n",
       "    .dataframe thead th {\n",
       "        text-align: right;\n",
       "    }\n",
       "</style>\n",
       "<table border=\"1\" class=\"dataframe\">\n",
       "  <thead>\n",
       "    <tr style=\"text-align: right;\">\n",
       "      <th></th>\n",
       "      <th>SLIDE_TYPE</th>\n",
       "      <th>M_WIDTH</th>\n",
       "      <th>S_LENGTH</th>\n",
       "      <th>SLOPE</th>\n",
       "      <th>HEADELEV</th>\n",
       "      <th>TAILELEV</th>\n",
       "      <th>ELE_DIFF</th>\n",
       "      <th>curv_plan</th>\n",
       "      <th>curv_prof</th>\n",
       "      <th>aspect</th>\n",
       "      <th>curv</th>\n",
       "      <th>history</th>\n",
       "      <th>COVER_A</th>\n",
       "      <th>COVER_B</th>\n",
       "      <th>COVER_C</th>\n",
       "      <th>COVER_D</th>\n",
       "      <th>GULLY_N</th>\n",
       "      <th>GULLY_Y</th>\n",
       "    </tr>\n",
       "  </thead>\n",
       "  <tbody>\n",
       "    <tr>\n",
       "      <th>28</th>\n",
       "      <td>0</td>\n",
       "      <td>25.0</td>\n",
       "      <td>10.5</td>\n",
       "      <td>9999.0</td>\n",
       "      <td>9999.0</td>\n",
       "      <td>9999.0</td>\n",
       "      <td>9999.0</td>\n",
       "      <td>-0.031944</td>\n",
       "      <td>0.041773</td>\n",
       "      <td>27.1497</td>\n",
       "      <td>-0.073716</td>\n",
       "      <td>59</td>\n",
       "      <td>0</td>\n",
       "      <td>0</td>\n",
       "      <td>1</td>\n",
       "      <td>0</td>\n",
       "      <td>1</td>\n",
       "      <td>0</td>\n",
       "    </tr>\n",
       "    <tr>\n",
       "      <th>29</th>\n",
       "      <td>0</td>\n",
       "      <td>14.0</td>\n",
       "      <td>14.0</td>\n",
       "      <td>9999.0</td>\n",
       "      <td>9999.0</td>\n",
       "      <td>9999.0</td>\n",
       "      <td>9999.0</td>\n",
       "      <td>-0.031944</td>\n",
       "      <td>0.041773</td>\n",
       "      <td>13.7363</td>\n",
       "      <td>-0.073716</td>\n",
       "      <td>59</td>\n",
       "      <td>0</td>\n",
       "      <td>0</td>\n",
       "      <td>1</td>\n",
       "      <td>0</td>\n",
       "      <td>1</td>\n",
       "      <td>0</td>\n",
       "    </tr>\n",
       "    <tr>\n",
       "      <th>30</th>\n",
       "      <td>0</td>\n",
       "      <td>20.0</td>\n",
       "      <td>13.5</td>\n",
       "      <td>9999.0</td>\n",
       "      <td>9999.0</td>\n",
       "      <td>9999.0</td>\n",
       "      <td>9999.0</td>\n",
       "      <td>0.056516</td>\n",
       "      <td>0.056516</td>\n",
       "      <td>356.1860</td>\n",
       "      <td>0.000000</td>\n",
       "      <td>59</td>\n",
       "      <td>0</td>\n",
       "      <td>0</td>\n",
       "      <td>1</td>\n",
       "      <td>0</td>\n",
       "      <td>1</td>\n",
       "      <td>0</td>\n",
       "    </tr>\n",
       "    <tr>\n",
       "      <th>31</th>\n",
       "      <td>0</td>\n",
       "      <td>10.0</td>\n",
       "      <td>8.5</td>\n",
       "      <td>9999.0</td>\n",
       "      <td>9999.0</td>\n",
       "      <td>9999.0</td>\n",
       "      <td>9999.0</td>\n",
       "      <td>0.093374</td>\n",
       "      <td>-0.054059</td>\n",
       "      <td>356.1860</td>\n",
       "      <td>0.147433</td>\n",
       "      <td>59</td>\n",
       "      <td>0</td>\n",
       "      <td>0</td>\n",
       "      <td>1</td>\n",
       "      <td>0</td>\n",
       "      <td>1</td>\n",
       "      <td>0</td>\n",
       "    </tr>\n",
       "    <tr>\n",
       "      <th>32</th>\n",
       "      <td>0</td>\n",
       "      <td>11.0</td>\n",
       "      <td>11.0</td>\n",
       "      <td>9999.0</td>\n",
       "      <td>9999.0</td>\n",
       "      <td>9999.0</td>\n",
       "      <td>9999.0</td>\n",
       "      <td>-0.024572</td>\n",
       "      <td>0.086002</td>\n",
       "      <td>356.1860</td>\n",
       "      <td>-0.110575</td>\n",
       "      <td>59</td>\n",
       "      <td>0</td>\n",
       "      <td>0</td>\n",
       "      <td>1</td>\n",
       "      <td>0</td>\n",
       "      <td>1</td>\n",
       "      <td>0</td>\n",
       "    </tr>\n",
       "  </tbody>\n",
       "</table>\n",
       "</div>"
      ],
      "text/plain": [
       "    SLIDE_TYPE  M_WIDTH  S_LENGTH   SLOPE  HEADELEV  TAILELEV  ELE_DIFF  \\\n",
       "28           0     25.0      10.5  9999.0    9999.0    9999.0    9999.0   \n",
       "29           0     14.0      14.0  9999.0    9999.0    9999.0    9999.0   \n",
       "30           0     20.0      13.5  9999.0    9999.0    9999.0    9999.0   \n",
       "31           0     10.0       8.5  9999.0    9999.0    9999.0    9999.0   \n",
       "32           0     11.0      11.0  9999.0    9999.0    9999.0    9999.0   \n",
       "\n",
       "    curv_plan  curv_prof    aspect      curv  history  COVER_A  COVER_B  \\\n",
       "28  -0.031944   0.041773   27.1497 -0.073716       59        0        0   \n",
       "29  -0.031944   0.041773   13.7363 -0.073716       59        0        0   \n",
       "30   0.056516   0.056516  356.1860  0.000000       59        0        0   \n",
       "31   0.093374  -0.054059  356.1860  0.147433       59        0        0   \n",
       "32  -0.024572   0.086002  356.1860 -0.110575       59        0        0   \n",
       "\n",
       "    COVER_C  COVER_D  GULLY_N  GULLY_Y  \n",
       "28        1        0        1        0  \n",
       "29        1        0        1        0  \n",
       "30        1        0        1        0  \n",
       "31        1        0        1        0  \n",
       "32        1        0        1        0  "
      ]
     },
     "execution_count": 9,
     "metadata": {},
     "output_type": "execute_result"
    }
   ],
   "source": [
    "data2.head()"
   ]
  },
  {
   "cell_type": "code",
   "execution_count": 10,
   "metadata": {},
   "outputs": [
    {
     "name": "stderr",
     "output_type": "stream",
     "text": [
      "C:\\Users\\zheng\\AppData\\Local\\Temp/ipykernel_6332/3010493044.py:1: FutureWarning: The pandas.np module is deprecated and will be removed from pandas in a future version. Import numpy directly instead\n",
      "  col= data2.columns[pd.np.r_[1:18]]\n"
     ]
    }
   ],
   "source": [
    "col= data2.columns[pd.np.r_[1:18]]\n",
    "x = np.array(data2[col])\n",
    "y=np.array(data2['SLIDE_TYPE'])\n",
    "# collect data with train data:test data is 3:7\n",
    "X_train, X_test, y_train, y_test = train_test_split(x,y, test_size = 0.3, stratify = y, random_state = 4)\n"
   ]
  },
  {
   "cell_type": "code",
   "execution_count": 11,
   "metadata": {},
   "outputs": [
    {
     "name": "stdout",
     "output_type": "stream",
     "text": [
      "(102932,)\n",
      "(102932, 17)\n",
      "(72052, 17)\n",
      "(72052,)\n"
     ]
    }
   ],
   "source": [
    "print(y.shape)\n",
    "print(x.shape)\n",
    "print(X_train.shape)\n",
    "print(y_train.shape)"
   ]
  },
  {
   "cell_type": "code",
   "execution_count": 12,
   "metadata": {},
   "outputs": [
    {
     "data": {
      "text/plain": [
       "array([0, 0, 0, 0, 0], dtype=int64)"
      ]
     },
     "execution_count": 12,
     "metadata": {},
     "output_type": "execute_result"
    }
   ],
   "source": [
    "y_train[:5]"
   ]
  },
  {
   "cell_type": "code",
   "execution_count": 13,
   "metadata": {},
   "outputs": [
    {
     "data": {
      "text/plain": [
       "array([[ 2.10000e+01,  1.50000e+01,  2.95000e+01,  2.40000e+01,\n",
       "         1.70000e+01,  7.00000e+00, -5.34805e-02,  1.55383e-01,\n",
       "         3.70199e+01, -2.08863e-01,  5.90000e+01,  0.00000e+00,\n",
       "         0.00000e+00,  1.00000e+00,  0.00000e+00,  1.00000e+00,\n",
       "         0.00000e+00],\n",
       "       [ 1.60000e+01,  7.00000e+00,  5.05000e+01,  5.25000e+02,\n",
       "         5.17000e+02,  8.00000e+00, -7.86955e-01,  3.31077e-01,\n",
       "         1.55426e+02, -1.11803e+00,  5.90000e+01,  0.00000e+00,\n",
       "         0.00000e+00,  1.00000e+00,  0.00000e+00,  1.00000e+00,\n",
       "         0.00000e+00],\n",
       "       [ 6.00000e+00,  7.00000e+00,  4.05000e+01,  1.73000e+02,\n",
       "         1.68000e+02,  5.00000e+00,  1.25751e-01,  6.43211e-02,\n",
       "         1.73540e+01,  6.14303e-02,  5.90000e+01,  0.00000e+00,\n",
       "         0.00000e+00,  1.00000e+00,  0.00000e+00,  1.00000e+00,\n",
       "         0.00000e+00],\n",
       "       [ 1.20000e+01,  1.15000e+01,  4.35000e+01,  1.06000e+02,\n",
       "         9.80000e+01,  8.00000e+00, -1.59719e-01,  3.68582e-02,\n",
       "        -9.99900e+03, -1.96577e-01,  5.90000e+01,  0.00000e+00,\n",
       "         0.00000e+00,  1.00000e+00,  0.00000e+00,  1.00000e+00,\n",
       "         0.00000e+00],\n",
       "       [ 1.10000e+01,  8.50000e+00,  3.85000e+01,  4.16000e+02,\n",
       "         4.10000e+02,  6.00000e+00, -3.29076e-01,  2.36083e-01,\n",
       "         1.55136e+02, -5.65159e-01,  5.80000e+01,  0.00000e+00,\n",
       "         0.00000e+00,  1.00000e+00,  0.00000e+00,  1.00000e+00,\n",
       "         0.00000e+00]])"
      ]
     },
     "execution_count": 13,
     "metadata": {},
     "output_type": "execute_result"
    }
   ],
   "source": [
    "X_train[:5,:]"
   ]
  },
  {
   "cell_type": "markdown",
   "metadata": {},
   "source": [
    "### changes of data processing"
   ]
  },
  {
   "cell_type": "code",
   "execution_count": 14,
   "metadata": {},
   "outputs": [
    {
     "name": "stderr",
     "output_type": "stream",
     "text": [
      "C:\\Users\\zheng\\AppData\\Local\\Temp/ipykernel_6332/2506634044.py:3: FutureWarning: The pandas.np module is deprecated and will be removed from pandas in a future version. Import numpy directly instead\n",
      "  train_data=pd.DataFrame(data=original_train,columns=data2.columns[pd.np.r_[:18]])\n"
     ]
    },
    {
     "data": {
      "text/html": [
       "<div>\n",
       "<style scoped>\n",
       "    .dataframe tbody tr th:only-of-type {\n",
       "        vertical-align: middle;\n",
       "    }\n",
       "\n",
       "    .dataframe tbody tr th {\n",
       "        vertical-align: top;\n",
       "    }\n",
       "\n",
       "    .dataframe thead th {\n",
       "        text-align: right;\n",
       "    }\n",
       "</style>\n",
       "<table border=\"1\" class=\"dataframe\">\n",
       "  <thead>\n",
       "    <tr style=\"text-align: right;\">\n",
       "      <th></th>\n",
       "      <th>SLIDE_TYPE</th>\n",
       "      <th>M_WIDTH</th>\n",
       "      <th>S_LENGTH</th>\n",
       "      <th>SLOPE</th>\n",
       "      <th>HEADELEV</th>\n",
       "      <th>TAILELEV</th>\n",
       "      <th>ELE_DIFF</th>\n",
       "      <th>curv_plan</th>\n",
       "      <th>curv_prof</th>\n",
       "      <th>aspect</th>\n",
       "      <th>curv</th>\n",
       "      <th>history</th>\n",
       "      <th>COVER_A</th>\n",
       "      <th>COVER_B</th>\n",
       "      <th>COVER_C</th>\n",
       "      <th>COVER_D</th>\n",
       "      <th>GULLY_N</th>\n",
       "      <th>GULLY_Y</th>\n",
       "    </tr>\n",
       "  </thead>\n",
       "  <tbody>\n",
       "    <tr>\n",
       "      <th>0</th>\n",
       "      <td>0.0</td>\n",
       "      <td>21.0</td>\n",
       "      <td>15.0</td>\n",
       "      <td>29.5</td>\n",
       "      <td>24.0</td>\n",
       "      <td>17.0</td>\n",
       "      <td>7.0</td>\n",
       "      <td>-0.053481</td>\n",
       "      <td>0.155383</td>\n",
       "      <td>37.0199</td>\n",
       "      <td>-0.208863</td>\n",
       "      <td>59.0</td>\n",
       "      <td>0.0</td>\n",
       "      <td>0.0</td>\n",
       "      <td>1.0</td>\n",
       "      <td>0.0</td>\n",
       "      <td>1.0</td>\n",
       "      <td>0.0</td>\n",
       "    </tr>\n",
       "    <tr>\n",
       "      <th>1</th>\n",
       "      <td>0.0</td>\n",
       "      <td>16.0</td>\n",
       "      <td>7.0</td>\n",
       "      <td>50.5</td>\n",
       "      <td>525.0</td>\n",
       "      <td>517.0</td>\n",
       "      <td>8.0</td>\n",
       "      <td>-0.786955</td>\n",
       "      <td>0.331077</td>\n",
       "      <td>155.4260</td>\n",
       "      <td>-1.118030</td>\n",
       "      <td>59.0</td>\n",
       "      <td>0.0</td>\n",
       "      <td>0.0</td>\n",
       "      <td>1.0</td>\n",
       "      <td>0.0</td>\n",
       "      <td>1.0</td>\n",
       "      <td>0.0</td>\n",
       "    </tr>\n",
       "    <tr>\n",
       "      <th>2</th>\n",
       "      <td>0.0</td>\n",
       "      <td>6.0</td>\n",
       "      <td>7.0</td>\n",
       "      <td>40.5</td>\n",
       "      <td>173.0</td>\n",
       "      <td>168.0</td>\n",
       "      <td>5.0</td>\n",
       "      <td>0.125751</td>\n",
       "      <td>0.064321</td>\n",
       "      <td>17.3540</td>\n",
       "      <td>0.061430</td>\n",
       "      <td>59.0</td>\n",
       "      <td>0.0</td>\n",
       "      <td>0.0</td>\n",
       "      <td>1.0</td>\n",
       "      <td>0.0</td>\n",
       "      <td>1.0</td>\n",
       "      <td>0.0</td>\n",
       "    </tr>\n",
       "    <tr>\n",
       "      <th>3</th>\n",
       "      <td>0.0</td>\n",
       "      <td>12.0</td>\n",
       "      <td>11.5</td>\n",
       "      <td>43.5</td>\n",
       "      <td>106.0</td>\n",
       "      <td>98.0</td>\n",
       "      <td>8.0</td>\n",
       "      <td>-0.159719</td>\n",
       "      <td>0.036858</td>\n",
       "      <td>-9999.0000</td>\n",
       "      <td>-0.196577</td>\n",
       "      <td>59.0</td>\n",
       "      <td>0.0</td>\n",
       "      <td>0.0</td>\n",
       "      <td>1.0</td>\n",
       "      <td>0.0</td>\n",
       "      <td>1.0</td>\n",
       "      <td>0.0</td>\n",
       "    </tr>\n",
       "    <tr>\n",
       "      <th>4</th>\n",
       "      <td>0.0</td>\n",
       "      <td>11.0</td>\n",
       "      <td>8.5</td>\n",
       "      <td>38.5</td>\n",
       "      <td>416.0</td>\n",
       "      <td>410.0</td>\n",
       "      <td>6.0</td>\n",
       "      <td>-0.329076</td>\n",
       "      <td>0.236083</td>\n",
       "      <td>155.1360</td>\n",
       "      <td>-0.565159</td>\n",
       "      <td>58.0</td>\n",
       "      <td>0.0</td>\n",
       "      <td>0.0</td>\n",
       "      <td>1.0</td>\n",
       "      <td>0.0</td>\n",
       "      <td>1.0</td>\n",
       "      <td>0.0</td>\n",
       "    </tr>\n",
       "  </tbody>\n",
       "</table>\n",
       "</div>"
      ],
      "text/plain": [
       "   SLIDE_TYPE  M_WIDTH  S_LENGTH  SLOPE  HEADELEV  TAILELEV  ELE_DIFF  \\\n",
       "0         0.0     21.0      15.0   29.5      24.0      17.0       7.0   \n",
       "1         0.0     16.0       7.0   50.5     525.0     517.0       8.0   \n",
       "2         0.0      6.0       7.0   40.5     173.0     168.0       5.0   \n",
       "3         0.0     12.0      11.5   43.5     106.0      98.0       8.0   \n",
       "4         0.0     11.0       8.5   38.5     416.0     410.0       6.0   \n",
       "\n",
       "   curv_plan  curv_prof     aspect      curv  history  COVER_A  COVER_B  \\\n",
       "0  -0.053481   0.155383    37.0199 -0.208863     59.0      0.0      0.0   \n",
       "1  -0.786955   0.331077   155.4260 -1.118030     59.0      0.0      0.0   \n",
       "2   0.125751   0.064321    17.3540  0.061430     59.0      0.0      0.0   \n",
       "3  -0.159719   0.036858 -9999.0000 -0.196577     59.0      0.0      0.0   \n",
       "4  -0.329076   0.236083   155.1360 -0.565159     58.0      0.0      0.0   \n",
       "\n",
       "   COVER_C  COVER_D  GULLY_N  GULLY_Y  \n",
       "0      1.0      0.0      1.0      0.0  \n",
       "1      1.0      0.0      1.0      0.0  \n",
       "2      1.0      0.0      1.0      0.0  \n",
       "3      1.0      0.0      1.0      0.0  \n",
       "4      1.0      0.0      1.0      0.0  "
      ]
     },
     "execution_count": 14,
     "metadata": {},
     "output_type": "execute_result"
    }
   ],
   "source": [
    "# the input of gan in svd package is df, here convert the numpy into df\n",
    "original_train=np.concatenate((y_train.reshape(-1,1),X_train),axis=1)\n",
    "train_data=pd.DataFrame(data=original_train,columns=data2.columns[pd.np.r_[:18]])\n",
    "train_data.head()\n"
   ]
  },
  {
   "cell_type": "markdown",
   "metadata": {},
   "source": []
  },
  {
   "cell_type": "markdown",
   "metadata": {},
   "source": [
    "### GAN Core"
   ]
  },
  {
   "cell_type": "code",
   "execution_count": 16,
   "metadata": {},
   "outputs": [
    {
     "name": "stdout",
     "output_type": "stream",
     "text": [
      "Object `model.fit` not found.\n"
     ]
    }
   ],
   "source": [
    "model.fit?"
   ]
  },
  {
   "cell_type": "code",
   "execution_count": null,
   "metadata": {},
   "outputs": [],
   "source": [
    "# todo(important!): if you have GPU, cuda = True, else cuda = False \n",
    "model = CTGAN(cuda=True)\n",
    "\n",
    "# todo(important!): here we train gan model according to original train_data\n",
    "# tune the parameter according to ref doc: https://sdv.dev/SDV/user_guides/single_table/ctgan.html\n",
    "model.fit(train_data)"
   ]
  },
  {
   "cell_type": "code",
   "execution_count": 162,
   "metadata": {},
   "outputs": [
    {
     "data": {
      "text/plain": [
       "(6468, 18)"
      ]
     },
     "execution_count": 162,
     "metadata": {},
     "output_type": "execute_result"
    }
   ],
   "source": [
    "original_train.shape"
   ]
  },
  {
   "cell_type": "code",
   "execution_count": 163,
   "metadata": {},
   "outputs": [],
   "source": [
    "\n",
    "# todo: nothing needs to change but a reminder: \n",
    "# once you decide to use previous model, just load it, you don't need to train it again!\n",
    "\n",
    "# save gan model \n",
    "model.save('new_trial\\\\my_model.pkl')\n"
   ]
  },
  {
   "cell_type": "code",
   "execution_count": 164,
   "metadata": {},
   "outputs": [],
   "source": [
    "# load gan model \n",
    "loaded = CTGAN.load('new_trial\\\\my_model.pkl')"
   ]
  },
  {
   "cell_type": "code",
   "execution_count": 165,
   "metadata": {},
   "outputs": [],
   "source": [
    "# generate new data, the original data: new data = 1:1 \n",
    "# todo: you can change the ratio between original data: new data by 'num_rows'\n",
    "new_data = loaded.sample(num_rows=train_data.shape[0])"
   ]
  },
  {
   "cell_type": "code",
   "execution_count": 166,
   "metadata": {},
   "outputs": [
    {
     "data": {
      "text/plain": [
       "(6468, 18)"
      ]
     },
     "execution_count": 166,
     "metadata": {},
     "output_type": "execute_result"
    }
   ],
   "source": [
    "new_data.shape"
   ]
  },
  {
   "cell_type": "code",
   "execution_count": 167,
   "metadata": {},
   "outputs": [
    {
     "name": "stderr",
     "output_type": "stream",
     "text": [
      "D:\\ProgramData\\Anaconda3\\lib\\site-packages\\seaborn\\_decorators.py:36: FutureWarning: Pass the following variable as a keyword arg: x. From version 0.12, the only valid positional argument will be `data`, and passing other arguments without an explicit keyword will result in an error or misinterpretation.\n",
      "  warnings.warn(\n"
     ]
    },
    {
     "data": {
      "text/plain": [
       "<AxesSubplot:xlabel='SLIDE_TYPE', ylabel='count'>"
      ]
     },
     "execution_count": 167,
     "metadata": {},
     "output_type": "execute_result"
    },
    {
     "data": {
      "image/png": "[encoded data removed]",
      "text/plain": [
       "<Figure size 432x288 with 1 Axes>"
      ]
     },
     "metadata": {},
     "output_type": "display_data"
    }
   ],
   "source": [
    "# label ditribution in sythetic data\n",
    "# filter \n",
    "# todo(important!): nothing need to change, but remember to tune the parameter according to the this plot\n",
    "sns.countplot(new_data['SLIDE_TYPE'] )\n"
   ]
  },
  {
   "cell_type": "code",
   "execution_count": null,
   "metadata": {},
   "outputs": [],
   "source": [
    "# todo(important!): understand the evaluation metric and add it to report \n",
    "# and use other metrics with doc below to evaluate and figure out what is wrong with new data\n",
    "# ref doc: https://sdv.dev/SDV/user_guides/evaluation/index.html#evaluation\n",
    "evaluate(new_data, train_data)"
   ]
  },
  {
   "cell_type": "markdown",
   "metadata": {},
   "source": []
  },
  {
   "cell_type": "code",
   "execution_count": null,
   "metadata": {},
   "outputs": [],
   "source": []
  },
  {
   "cell_type": "markdown",
   "metadata": {},
   "source": []
  },
  {
   "cell_type": "code",
   "execution_count": 169,
   "metadata": {},
   "outputs": [
    {
     "name": "stdout",
     "output_type": "stream",
     "text": [
      "(12936, 18)\n"
     ]
    },
    {
     "data": {
      "text/html": [
       "<div>\n",
       "<style scoped>\n",
       "    .dataframe tbody tr th:only-of-type {\n",
       "        vertical-align: middle;\n",
       "    }\n",
       "\n",
       "    .dataframe tbody tr th {\n",
       "        vertical-align: top;\n",
       "    }\n",
       "\n",
       "    .dataframe thead th {\n",
       "        text-align: right;\n",
       "    }\n",
       "</style>\n",
       "<table border=\"1\" class=\"dataframe\">\n",
       "  <thead>\n",
       "    <tr style=\"text-align: right;\">\n",
       "      <th></th>\n",
       "      <th>SLIDE_TYPE</th>\n",
       "      <th>M_WIDTH</th>\n",
       "      <th>S_LENGTH</th>\n",
       "      <th>SLOPE</th>\n",
       "      <th>HEADELEV</th>\n",
       "      <th>TAILELEV</th>\n",
       "      <th>ELE_DIFF</th>\n",
       "      <th>curv_plan</th>\n",
       "      <th>curv_prof</th>\n",
       "      <th>aspect</th>\n",
       "      <th>curv</th>\n",
       "      <th>history</th>\n",
       "      <th>COVER_A</th>\n",
       "      <th>COVER_B</th>\n",
       "      <th>COVER_C</th>\n",
       "      <th>COVER_D</th>\n",
       "      <th>GULLY_N</th>\n",
       "      <th>GULLY_Y</th>\n",
       "    </tr>\n",
       "  </thead>\n",
       "  <tbody>\n",
       "    <tr>\n",
       "      <th>0</th>\n",
       "      <td>0.0</td>\n",
       "      <td>16.3</td>\n",
       "      <td>10.3</td>\n",
       "      <td>30.779584</td>\n",
       "      <td>231.340599</td>\n",
       "      <td>251.033790</td>\n",
       "      <td>8.221914</td>\n",
       "      <td>-0.183623</td>\n",
       "      <td>0.163208</td>\n",
       "      <td>307.931987</td>\n",
       "      <td>-0.199836</td>\n",
       "      <td>59.0</td>\n",
       "      <td>0.0</td>\n",
       "      <td>0.0</td>\n",
       "      <td>1.0</td>\n",
       "      <td>0.0</td>\n",
       "      <td>1.0</td>\n",
       "      <td>1.0</td>\n",
       "    </tr>\n",
       "    <tr>\n",
       "      <th>1</th>\n",
       "      <td>0.0</td>\n",
       "      <td>6.8</td>\n",
       "      <td>11.7</td>\n",
       "      <td>25.108121</td>\n",
       "      <td>194.655404</td>\n",
       "      <td>345.489022</td>\n",
       "      <td>2.000000</td>\n",
       "      <td>-0.022904</td>\n",
       "      <td>-0.156054</td>\n",
       "      <td>290.417784</td>\n",
       "      <td>0.178642</td>\n",
       "      <td>59.0</td>\n",
       "      <td>0.0</td>\n",
       "      <td>0.0</td>\n",
       "      <td>0.0</td>\n",
       "      <td>1.0</td>\n",
       "      <td>1.0</td>\n",
       "      <td>0.0</td>\n",
       "    </tr>\n",
       "    <tr>\n",
       "      <th>2</th>\n",
       "      <td>2.0</td>\n",
       "      <td>9.6</td>\n",
       "      <td>5.9</td>\n",
       "      <td>9999.000000</td>\n",
       "      <td>156.777551</td>\n",
       "      <td>24.080515</td>\n",
       "      <td>29.009537</td>\n",
       "      <td>0.323032</td>\n",
       "      <td>-0.208827</td>\n",
       "      <td>131.470887</td>\n",
       "      <td>0.245628</td>\n",
       "      <td>40.0</td>\n",
       "      <td>1.0</td>\n",
       "      <td>0.0</td>\n",
       "      <td>0.0</td>\n",
       "      <td>0.0</td>\n",
       "      <td>0.0</td>\n",
       "      <td>1.0</td>\n",
       "    </tr>\n",
       "    <tr>\n",
       "      <th>3</th>\n",
       "      <td>0.0</td>\n",
       "      <td>18.1</td>\n",
       "      <td>7.2</td>\n",
       "      <td>34.534174</td>\n",
       "      <td>363.691750</td>\n",
       "      <td>490.961784</td>\n",
       "      <td>44.908121</td>\n",
       "      <td>0.146806</td>\n",
       "      <td>0.089022</td>\n",
       "      <td>-9999.000000</td>\n",
       "      <td>0.101753</td>\n",
       "      <td>59.0</td>\n",
       "      <td>0.0</td>\n",
       "      <td>0.0</td>\n",
       "      <td>1.0</td>\n",
       "      <td>0.0</td>\n",
       "      <td>1.0</td>\n",
       "      <td>0.0</td>\n",
       "    </tr>\n",
       "    <tr>\n",
       "      <th>4</th>\n",
       "      <td>0.0</td>\n",
       "      <td>11.3</td>\n",
       "      <td>4.4</td>\n",
       "      <td>28.479939</td>\n",
       "      <td>397.671005</td>\n",
       "      <td>376.218402</td>\n",
       "      <td>2.000000</td>\n",
       "      <td>-0.063700</td>\n",
       "      <td>0.154573</td>\n",
       "      <td>148.427561</td>\n",
       "      <td>0.007579</td>\n",
       "      <td>59.0</td>\n",
       "      <td>0.0</td>\n",
       "      <td>0.0</td>\n",
       "      <td>1.0</td>\n",
       "      <td>0.0</td>\n",
       "      <td>1.0</td>\n",
       "      <td>0.0</td>\n",
       "    </tr>\n",
       "  </tbody>\n",
       "</table>\n",
       "</div>"
      ],
      "text/plain": [
       "   SLIDE_TYPE  M_WIDTH  S_LENGTH        SLOPE    HEADELEV    TAILELEV  \\\n",
       "0         0.0     16.3      10.3    30.779584  231.340599  251.033790   \n",
       "1         0.0      6.8      11.7    25.108121  194.655404  345.489022   \n",
       "2         2.0      9.6       5.9  9999.000000  156.777551   24.080515   \n",
       "3         0.0     18.1       7.2    34.534174  363.691750  490.961784   \n",
       "4         0.0     11.3       4.4    28.479939  397.671005  376.218402   \n",
       "\n",
       "    ELE_DIFF  curv_plan  curv_prof       aspect      curv  history  COVER_A  \\\n",
       "0   8.221914  -0.183623   0.163208   307.931987 -0.199836     59.0      0.0   \n",
       "1   2.000000  -0.022904  -0.156054   290.417784  0.178642     59.0      0.0   \n",
       "2  29.009537   0.323032  -0.208827   131.470887  0.245628     40.0      1.0   \n",
       "3  44.908121   0.146806   0.089022 -9999.000000  0.101753     59.0      0.0   \n",
       "4   2.000000  -0.063700   0.154573   148.427561  0.007579     59.0      0.0   \n",
       "\n",
       "   COVER_B  COVER_C  COVER_D  GULLY_N  GULLY_Y  \n",
       "0      0.0      1.0      0.0      1.0      1.0  \n",
       "1      0.0      0.0      1.0      1.0      0.0  \n",
       "2      0.0      0.0      0.0      0.0      1.0  \n",
       "3      0.0      1.0      0.0      1.0      0.0  \n",
       "4      0.0      1.0      0.0      1.0      0.0  "
      ]
     },
     "execution_count": 169,
     "metadata": {},
     "output_type": "execute_result"
    }
   ],
   "source": [
    "# new train data: the mixture of original and generative data\n",
    "new_train=pd.concat(\n",
    "    [new_data, train_data],\n",
    "    axis=0,\n",
    ")\n",
    "print(new_train.shape)\n",
    "new_train.head()"
   ]
  },
  {
   "cell_type": "code",
   "execution_count": 170,
   "metadata": {},
   "outputs": [],
   "source": [
    "# todo: nothing needs to change, but you can read the data directly next time\n",
    "new_train.to_csv('../save_data/new_train1.csv')"
   ]
  },
  {
   "cell_type": "code",
   "execution_count": 171,
   "metadata": {},
   "outputs": [],
   "source": [
    "#shuffle data\n",
    "new_train_data = new_train.sample(frac=1).reset_index(drop=True)\n"
   ]
  },
  {
   "cell_type": "code",
   "execution_count": 172,
   "metadata": {},
   "outputs": [],
   "source": [
    "# convert df to numpy for training input \n",
    "new_train_X=new_train_data.iloc[:,1:].values\n",
    "new_train_Y_1=new_train_data.iloc[:,0:1].values\n",
    "new_train_Y=np.squeeze(new_train_Y_1)"
   ]
  },
  {
   "cell_type": "code",
   "execution_count": 173,
   "metadata": {},
   "outputs": [
    {
     "name": "stdout",
     "output_type": "stream",
     "text": [
      "(12936, 17)\n",
      "(2772, 17)\n",
      "(12936,)\n",
      "(2772,)\n"
     ]
    }
   ],
   "source": [
    "print(new_train_X.shape)\n",
    "print(X_test.shape)\n",
    "print(new_train_Y.shape)\n",
    "print(y_test.shape)"
   ]
  },
  {
   "cell_type": "code",
   "execution_count": 174,
   "metadata": {},
   "outputs": [],
   "source": [
    "# We need to do feature scaling first.\n",
    "from sklearn.preprocessing import StandardScaler\n",
    "#from sklearn.preprocessing import MinMaxScaler\n",
    "sc = StandardScaler()\n",
    "#sc = MinMaxScaler()\n",
    "new_train = sc.fit_transform(new_train_X)\n",
    "X_test = sc.fit_transform(X_test)"
   ]
  },
  {
   "cell_type": "code",
   "execution_count": 175,
   "metadata": {},
   "outputs": [],
   "source": [
    "X_train = sc.fit_transform(X_train)"
   ]
  },
  {
   "cell_type": "markdown",
   "metadata": {},
   "source": [
    "### 1. KNN"
   ]
  },
  {
   "cell_type": "markdown",
   "metadata": {},
   "source": [
    "### original KNN model"
   ]
  },
  {
   "cell_type": "code",
   "execution_count": 176,
   "metadata": {},
   "outputs": [
    {
     "name": "stdout",
     "output_type": "stream",
     "text": [
      "Best score: 0.9305811461310517\n",
      "Best hyperparameters: {'metric': 'euclidean', 'n_neighbors': 11, 'weights': 'distance'}\n"
     ]
    }
   ],
   "source": [
    "from sklearn.neighbors import KNeighborsClassifier\n",
    "from sklearn.model_selection import GridSearchCV\n",
    "from sklearn.metrics import roc_curve\n",
    "import matplotlib.pyplot as plt\n",
    "\n",
    "# todo: n_jobs=-1, accelerate running speed: https://scikit-learn.org/stable/computing/parallelism.html\n",
    "model = KNeighborsClassifier(n_jobs=-1)\n",
    "\n",
    "param_grid = { \n",
    "    'n_neighbors': [3,5,11,19],\n",
    "    'weights': ['uniform', 'distance'],\n",
    "    'metric' : ['euclidean', 'manhattan'],\n",
    "}\n",
    "\n",
    "grid = GridSearchCV(estimator=model, param_grid=param_grid,n_jobs=-1)\n",
    "\n",
    "grid.fit(X_train, y_train.ravel())\n",
    "\n",
    "metric = grid.best_estimator_.metric\n",
    "n_neighbors = grid.best_estimator_.n_neighbors\n",
    "weights = grid.best_estimator_.weights\n",
    "\n",
    "# summarize the results of the grid search\n",
    "print('Best score:', grid.best_score_)\n",
    "print('Best hyperparameters:',grid.best_params_)"
   ]
  },
  {
   "cell_type": "code",
   "execution_count": 177,
   "metadata": {},
   "outputs": [
    {
     "data": {
      "text/plain": [
       "(6468, 17)"
      ]
     },
     "execution_count": 177,
     "metadata": {},
     "output_type": "execute_result"
    }
   ],
   "source": [
    "X_train.shape"
   ]
  },
  {
   "cell_type": "code",
   "execution_count": 178,
   "metadata": {},
   "outputs": [],
   "source": [
    "knn = KNeighborsClassifier(metric=metric, n_neighbors=n_neighbors, weights=weights, n_jobs=-1).fit(X_train, y_train.ravel())\n",
    "knn_pred = knn.predict(X_test)\n",
    "knn_proba = knn.predict_proba(X_test)"
   ]
  },
  {
   "cell_type": "code",
   "execution_count": 125,
   "metadata": {},
   "outputs": [
    {
     "data": {
      "image/png": "[encoded data removed]",
      "text/plain": [
       "<Figure size 432x288 with 1 Axes>"
      ]
     },
     "metadata": {},
     "output_type": "display_data"
    }
   ],
   "source": [
    "# roc curve for classes\n",
    "fpr = {}\n",
    "tpr = {}\n",
    "thresh ={}\n",
    "\n",
    "n_class = 4\n",
    "\n",
    "for i in range(n_class):    \n",
    "    fpr[i], tpr[i], thresh[i] = roc_curve(y_test, knn_proba[:,i], pos_label=i)\n",
    "    \n",
    "# plotting    \n",
    "plt.plot(fpr[0], tpr[0], linestyle='--',color='orange', label='Class 0 vs Rest')\n",
    "plt.plot(fpr[1], tpr[1], linestyle='--',color='green', label='Class 1 vs Rest')\n",
    "plt.plot(fpr[2], tpr[2], linestyle='--',color='red', label='Class 2 vs Rest')\n",
    "plt.plot(fpr[3], tpr[3], linestyle='--',color='blue', label='Class 3 vs Rest')\n",
    "\n",
    "plt.title('Multiclass ROC curve')\n",
    "plt.xlabel('False Positive Rate')\n",
    "plt.ylabel('True Positive rate')\n",
    "plt.legend(loc='best')\n",
    "plt.savefig('ROC',dpi=300);"
   ]
  },
  {
   "cell_type": "code",
   "execution_count": 179,
   "metadata": {},
   "outputs": [
    {
     "name": "stderr",
     "output_type": "stream",
     "text": [
      "D:\\ProgramData\\Anaconda3\\lib\\site-packages\\sklearn\\metrics\\_classification.py:1248: UndefinedMetricWarning: Precision and F-score are ill-defined and being set to 0.0 in labels with no predicted samples. Use `zero_division` parameter to control this behavior.\n",
      "  _warn_prf(average, modifier, msg_start, len(result))\n"
     ]
    }
   ],
   "source": [
    "knn_cls_precision, knn_cls_recall, knn_cls_f1, _ = precision_recall_fscore_support(y_test, knn_pred, average=None, labels=[0,1,2,3])"
   ]
  },
  {
   "cell_type": "code",
   "execution_count": 180,
   "metadata": {},
   "outputs": [
    {
     "name": "stdout",
     "output_type": "stream",
     "text": [
      "k Nearest Neighbors:\n",
      "Accuracy: 0.9267676767676768\n"
     ]
    }
   ],
   "source": [
    "knn_conf_mat = confusion_matrix(y_test, knn_pred)\n",
    "knn_acc = accuracy_score(y_test, knn_pred)\n",
    "print('k Nearest Neighbors:')\n",
    "print('Accuracy:',knn_acc)\n",
    "#print('ROC AUC=%.4f' % (knn_roc_auc))"
   ]
  },
  {
   "cell_type": "code",
   "execution_count": 181,
   "metadata": {},
   "outputs": [
    {
     "name": "stdout",
     "output_type": "stream",
     "text": [
      "Confusion Matrix:\n"
     ]
    },
    {
     "data": {
      "image/png": "[encoded data removed]",
      "text/plain": [
       "<Figure size 288x288 with 2 Axes>"
      ]
     },
     "metadata": {},
     "output_type": "display_data"
    }
   ],
   "source": [
    "array = confusion_matrix(y_test, knn_pred)\n",
    "\n",
    "knn_cm = pd.DataFrame(array, range(4), range(4))\n",
    "\n",
    "plt.figure(figsize=(4,4))\n",
    "sns.set(font_scale=1) # for label size\n",
    "sns.heatmap(knn_cm, annot=True, annot_kws={\"size\": 15}, cbar=True, square= True, fmt='.1f') # font size\n",
    "\n",
    "print('Confusion Matrix:')\n",
    "plt.show()"
   ]
  },
  {
   "cell_type": "code",
   "execution_count": 182,
   "metadata": {},
   "outputs": [
    {
     "name": "stdout",
     "output_type": "stream",
     "text": [
      "0\n",
      "Precision  = 0.9959 \n",
      "Recall on Y label = 1.0000 \n",
      "F1 on Y label = 0.9980 \n",
      "----------------------------\n",
      "1\n",
      "Precision  = 0.5000 \n",
      "Recall on Y label = 0.2386 \n",
      "F1 on Y label = 0.3230 \n",
      "----------------------------\n",
      "2\n",
      "Precision  = 0.6776 \n",
      "Recall on Y label = 0.8607 \n",
      "F1 on Y label = 0.7583 \n",
      "----------------------------\n",
      "3\n",
      "Precision  = 0.0000 \n",
      "Recall on Y label = 0.0000 \n",
      "F1 on Y label = 0.0000 \n",
      "----------------------------\n"
     ]
    }
   ],
   "source": [
    "for i in range(n_class): \n",
    "    print(i)\n",
    "    print('Precision  = %.4f ' % (knn_cls_precision[i]))\n",
    "    print('Recall on Y label = %.4f ' % (knn_cls_recall[i]))\n",
    "    print('F1 on Y label = %.4f ' % (knn_cls_f1[i]))\n",
    "    print('----------------------------')"
   ]
  },
  {
   "cell_type": "markdown",
   "metadata": {},
   "source": [
    "### KNN & GAN"
   ]
  },
  {
   "cell_type": "code",
   "execution_count": 183,
   "metadata": {},
   "outputs": [
    {
     "name": "stdout",
     "output_type": "stream",
     "text": [
      "Best score: 0.8374308529928204\n",
      "Best hyperparameters: {'metric': 'manhattan', 'n_neighbors': 5, 'weights': 'distance'}\n"
     ]
    }
   ],
   "source": [
    "from sklearn.neighbors import KNeighborsClassifier\n",
    "from sklearn.model_selection import GridSearchCV\n",
    "from sklearn.metrics import roc_curve\n",
    "import matplotlib.pyplot as plt\n",
    "\n",
    "# todo: n_jobs=-1, accelerate running speed: https://scikit-learn.org/stable/computing/parallelism.html\n",
    "model = KNeighborsClassifier(n_jobs=-1)\n",
    "\n",
    "param_grid = { \n",
    "    'n_neighbors': [3,5,11,19],\n",
    "    'weights': ['uniform', 'distance'],\n",
    "    'metric' : ['euclidean', 'manhattan'],\n",
    "}\n",
    "\n",
    "grid = GridSearchCV(estimator=model, param_grid=param_grid,n_jobs=-1)\n",
    "\n",
    "grid.fit(new_train_X, new_train_Y.ravel())\n",
    "\n",
    "metric = grid.best_estimator_.metric\n",
    "n_neighbors = grid.best_estimator_.n_neighbors\n",
    "weights = grid.best_estimator_.weights\n",
    "\n",
    "# summarize the results of the grid search\n",
    "print('Best score:', grid.best_score_)\n",
    "print('Best hyperparameters:',grid.best_params_)"
   ]
  },
  {
   "cell_type": "code",
   "execution_count": 184,
   "metadata": {},
   "outputs": [],
   "source": [
    "knn = KNeighborsClassifier(metric=metric, n_neighbors=n_neighbors, weights=weights, n_jobs=8).fit(new_train_X, new_train_Y.ravel())\n",
    "knn_pred = knn.predict(X_test)\n",
    "knn_proba = knn.predict_proba(X_test)"
   ]
  },
  {
   "cell_type": "code",
   "execution_count": 132,
   "metadata": {},
   "outputs": [
    {
     "data": {
      "image/png": "[encoded data removed]",
      "text/plain": [
       "<Figure size 432x288 with 1 Axes>"
      ]
     },
     "metadata": {},
     "output_type": "display_data"
    }
   ],
   "source": [
    "# roc curve for classes\n",
    "fpr = {}\n",
    "tpr = {}\n",
    "thresh ={}\n",
    "\n",
    "n_class = 4\n",
    "\n",
    "for i in range(n_class):    \n",
    "    fpr[i], tpr[i], thresh[i] = roc_curve(y_test, knn_proba[:,i], pos_label=i)\n",
    "    \n",
    "# plotting    \n",
    "plt.plot(fpr[0], tpr[0], linestyle='--',color='orange', label='Class 0 vs Rest')\n",
    "plt.plot(fpr[1], tpr[1], linestyle='--',color='green', label='Class 1 vs Rest')\n",
    "plt.plot(fpr[2], tpr[2], linestyle='--',color='red', label='Class 2 vs Rest')\n",
    "plt.plot(fpr[3], tpr[3], linestyle='--',color='blue', label='Class 3 vs Rest')\n",
    "\n",
    "plt.title('Multiclass ROC curve')\n",
    "plt.xlabel('False Positive Rate')\n",
    "plt.ylabel('True Positive rate')\n",
    "plt.legend(loc='best')\n",
    "plt.savefig('ROC',dpi=300);"
   ]
  },
  {
   "cell_type": "code",
   "execution_count": 185,
   "metadata": {},
   "outputs": [
    {
     "name": "stdout",
     "output_type": "stream",
     "text": [
      "k Nearest Neighbors:\n",
      "Accuracy: 0.2676767676767677\n"
     ]
    },
    {
     "name": "stderr",
     "output_type": "stream",
     "text": [
      "D:\\ProgramData\\Anaconda3\\lib\\site-packages\\sklearn\\metrics\\_classification.py:1248: UndefinedMetricWarning: Precision and F-score are ill-defined and being set to 0.0 in labels with no predicted samples. Use `zero_division` parameter to control this behavior.\n",
      "  _warn_prf(average, modifier, msg_start, len(result))\n"
     ]
    }
   ],
   "source": [
    "knn_cls_precision, knn_cls_recall, knn_cls_f1, _ = precision_recall_fscore_support(y_test, knn_pred, average=None, labels=[0,1,2,3])\n",
    "knn_conf_mat = confusion_matrix(y_test, knn_pred)\n",
    "knn_acc = accuracy_score(y_test, knn_pred)\n",
    "print('k Nearest Neighbors:')\n",
    "print('Accuracy:',knn_acc)"
   ]
  },
  {
   "cell_type": "markdown",
   "metadata": {},
   "source": [
    "## 2. Random Forest (GAN)"
   ]
  },
  {
   "cell_type": "code",
   "execution_count": 62,
   "metadata": {},
   "outputs": [
    {
     "name": "stdout",
     "output_type": "stream",
     "text": [
      "Best score: 0.8721522740661888\n",
      "Best hyperparameters: {'criterion': 'gini', 'max_depth': 12, 'max_features': 'auto', 'n_estimators': 300}\n"
     ]
    }
   ],
   "source": [
    "model = RandomForestClassifier(random_state=0)\n",
    "\n",
    "param_grid = { \n",
    "    'n_estimators': [200, 300, 400, 500],\n",
    "    'max_features': ['auto', 'sqrt', 'log2'],\n",
    "    'max_depth' : np.arange(10,30,2),\n",
    "    'criterion' :['gini', 'entropy']\n",
    "}\n",
    "\n",
    "grid = GridSearchCV(estimator=model, param_grid=param_grid)\n",
    "\n",
    "grid.fit(new_train_X, new_train_Y.ravel())\n",
    "\n",
    "n_estimators = grid.best_estimator_.n_estimators\n",
    "criterion = grid.best_estimator_.criterion\n",
    "max_depth = grid.best_estimator_.max_depth\n",
    "max_features = grid.best_estimator_.max_features\n",
    "\n",
    "# summarize the results of the grid search\n",
    "print('Best score:', grid.best_score_)\n",
    "print('Best hyperparameters:',grid.best_params_)"
   ]
  },
  {
   "cell_type": "code",
   "execution_count": 63,
   "metadata": {},
   "outputs": [],
   "source": [
    "rf = RandomForestClassifier(random_state=0, criterion=criterion, max_depth=max_depth, max_features=max_features, n_estimators = n_estimators).fit(new_train_X, new_train_Y.ravel())"
   ]
  },
  {
   "cell_type": "code",
   "execution_count": 64,
   "metadata": {},
   "outputs": [],
   "source": [
    "rf_pred = rf.predict(X_test)\n",
    "rf_proba = rf.predict_proba(X_test)"
   ]
  },
  {
   "cell_type": "code",
   "execution_count": 65,
   "metadata": {},
   "outputs": [
    {
     "data": {
      "image/png": "[encoded data removed]",
      "text/plain": [
       "<Figure size 432x288 with 1 Axes>"
      ]
     },
     "metadata": {},
     "output_type": "display_data"
    }
   ],
   "source": [
    "# roc curve for classes\n",
    "fpr = {}\n",
    "tpr = {}\n",
    "thresh ={}\n",
    "\n",
    "n_class = 4\n",
    "\n",
    "for i in range(n_class):    \n",
    "    fpr[i], tpr[i], thresh[i] = roc_curve(y_test, rf_proba[:,i], pos_label=i)\n",
    "    \n",
    "# plotting    \n",
    "plt.plot(fpr[0], tpr[0], linestyle='--',color='orange', label='Class 0 vs Rest')\n",
    "plt.plot(fpr[1], tpr[1], linestyle='--',color='green', label='Class 1 vs Rest')\n",
    "plt.plot(fpr[2], tpr[2], linestyle='--',color='red', label='Class 2 vs Rest')\n",
    "plt.plot(fpr[3], tpr[3], linestyle='--',color='blue', label='Class 3 vs Rest')\n",
    "\n",
    "plt.title('Multiclass ROC curve')\n",
    "plt.xlabel('False Positive Rate')\n",
    "plt.ylabel('True Positive rate')\n",
    "plt.legend(loc='best')\n",
    "plt.savefig('ROC',dpi=300);"
   ]
  },
  {
   "cell_type": "code",
   "execution_count": 66,
   "metadata": {
    "scrolled": true
   },
   "outputs": [
    {
     "name": "stderr",
     "output_type": "stream",
     "text": [
      "D:\\ProgramData\\Anaconda3\\lib\\site-packages\\sklearn\\metrics\\_classification.py:1248: UndefinedMetricWarning: Precision and F-score are ill-defined and being set to 0.0 in labels with no predicted samples. Use `zero_division` parameter to control this behavior.\n",
      "  _warn_prf(average, modifier, msg_start, len(result))\n"
     ]
    }
   ],
   "source": [
    "rf_cls_precision, rf_cls_recall, rf_cls_f1, _ = precision_recall_fscore_support(y_test, rf_pred, average=None, labels=[0,1,2,3])"
   ]
  },
  {
   "cell_type": "code",
   "execution_count": 68,
   "metadata": {},
   "outputs": [
    {
     "name": "stdout",
     "output_type": "stream",
     "text": [
      "Random Forest:\n",
      "Accuracy: 0.7660882140274765\n"
     ]
    }
   ],
   "source": [
    "rf_conf_mat = confusion_matrix(y_test, rf_pred)\n",
    "rf_acc = accuracy_score(y_test, rf_pred)\n",
    "print('Random Forest:')\n",
    "print('Accuracy:',rf_acc)"
   ]
  },
  {
   "cell_type": "code",
   "execution_count": 69,
   "metadata": {},
   "outputs": [
    {
     "name": "stdout",
     "output_type": "stream",
     "text": [
      "Confusion Matrix:\n"
     ]
    },
    {
     "data": {
      "image/png": "[encoded data removed]",
      "text/plain": [
       "<Figure size 288x288 with 2 Axes>"
      ]
     },
     "metadata": {},
     "output_type": "display_data"
    }
   ],
   "source": [
    "array = confusion_matrix(y_test, rf_pred)\n",
    "\n",
    "rf_cm = pd.DataFrame(array, range(4), range(4))\n",
    "\n",
    "plt.figure(figsize=(4,4))\n",
    "sns.set(font_scale=1) # for label size\n",
    "sns.heatmap(rf_cm, annot=True, annot_kws={\"size\": 15}, cbar=True, square= True, fmt='.1f') # font size\n",
    "\n",
    "print('Confusion Matrix:')\n",
    "plt.show()"
   ]
  },
  {
   "cell_type": "markdown",
   "metadata": {},
   "source": [
    "## origin model"
   ]
  },
  {
   "cell_type": "code",
   "execution_count": 203,
   "metadata": {},
   "outputs": [
    {
     "name": "stdout",
     "output_type": "stream",
     "text": [
      "Best score: 0.9465061542893549\n",
      "Best hyperparameters: {'criterion': 'entropy', 'max_depth': 10, 'max_features': 'auto', 'n_estimators': 500}\n"
     ]
    }
   ],
   "source": [
    "model = RandomForestClassifier(random_state=0)\n",
    "\n",
    "param_grid = { \n",
    "    'n_estimators': [200, 300, 400, 500],\n",
    "    'max_features': ['auto', 'sqrt', 'log2'],\n",
    "    'max_depth' : np.arange(10,30,2),\n",
    "    'criterion' :['gini', 'entropy']\n",
    "}\n",
    "\n",
    "grid = GridSearchCV(estimator=model, param_grid=param_grid)\n",
    "\n",
    "grid.fit(X_train, y_train.ravel())\n",
    "\n",
    "n_estimators = grid.best_estimator_.n_estimators\n",
    "criterion = grid.best_estimator_.criterion\n",
    "max_depth = grid.best_estimator_.max_depth\n",
    "max_features = grid.best_estimator_.max_features\n",
    "\n",
    "# summarize the results of the grid search\n",
    "print('Best score:', grid.best_score_)\n",
    "print('Best hyperparameters:',grid.best_params_)"
   ]
  },
  {
   "cell_type": "code",
   "execution_count": 204,
   "metadata": {},
   "outputs": [],
   "source": [
    "rf = RandomForestClassifier(random_state=0, criterion=criterion, max_depth=max_depth, max_features=max_features, n_estimators = n_estimators).fit(X_train,y_train.ravel())\n",
    "\n",
    "rf_pred = rf.predict(X_test)\n",
    "rf_proba = rf.predict_proba(X_test)"
   ]
  },
  {
   "cell_type": "code",
   "execution_count": 205,
   "metadata": {},
   "outputs": [
    {
     "name": "stdout",
     "output_type": "stream",
     "text": [
      "k Nearest Neighbors:\n",
      "Accuracy: 0.9523809523809523\n"
     ]
    },
    {
     "name": "stderr",
     "output_type": "stream",
     "text": [
      "D:\\ProgramData\\Anaconda3\\lib\\site-packages\\sklearn\\metrics\\_classification.py:1248: UndefinedMetricWarning: Precision and F-score are ill-defined and being set to 0.0 in labels with no predicted samples. Use `zero_division` parameter to control this behavior.\n",
      "  _warn_prf(average, modifier, msg_start, len(result))\n"
     ]
    }
   ],
   "source": [
    "rf_cls_precision, rf_cls_recall, rf_cls_f1, _ = precision_recall_fscore_support(y_test, rf_pred, average=None, labels=[0,1,2,3])\n",
    "rf_conf_mat = confusion_matrix(y_test, rf_pred)\n",
    "rf_acc = accuracy_score(y_test, rf_pred)\n",
    "print('k Nearest Neighbors:')\n",
    "print('Accuracy:',rf_acc)"
   ]
  },
  {
   "cell_type": "markdown",
   "metadata": {},
   "source": [
    "## 3. Logistic Regression"
   ]
  },
  {
   "cell_type": "code",
   "execution_count": 186,
   "metadata": {},
   "outputs": [
    {
     "name": "stdout",
     "output_type": "stream",
     "text": [
      "Best score: 0.9338283301716173\n",
      "Best hyperparameters: {'C': 100.0}\n"
     ]
    }
   ],
   "source": [
    "model = LogisticRegression(random_state=0, solver = 'liblinear')\n",
    "\n",
    "param_grid={'C':np.logspace(-3,3,7), # inverse of regularization strength\n",
    "     }\n",
    "\n",
    "grid = GridSearchCV(estimator=model, param_grid=param_grid)\n",
    "\n",
    "grid.fit(X_train, y_train.ravel())\n",
    "\n",
    "C = grid.best_estimator_.C\n",
    "\n",
    "# summarize the results of the grid search\n",
    "print('Best score:', grid.best_score_)\n",
    "print('Best hyperparameters:',grid.best_params_)"
   ]
  },
  {
   "cell_type": "code",
   "execution_count": 187,
   "metadata": {},
   "outputs": [],
   "source": [
    "lr = LogisticRegression(random_state =0, solver = 'liblinear', C=C).fit(X_train,y_train.ravel())"
   ]
  },
  {
   "cell_type": "code",
   "execution_count": 188,
   "metadata": {},
   "outputs": [],
   "source": [
    "lr_pred = lr.predict(X_test)\n",
    "lr_proba = lr.predict_proba(X_test)"
   ]
  },
  {
   "cell_type": "code",
   "execution_count": 189,
   "metadata": {},
   "outputs": [
    {
     "name": "stdout",
     "output_type": "stream",
     "text": [
      "Logistic Regression:\n",
      "Accuracy: 0.9314574314574314\n"
     ]
    }
   ],
   "source": [
    "lr_conf_mat = confusion_matrix(y_test, lr_pred)\n",
    "lr_acc = accuracy_score(y_test, lr_pred)\n",
    "print('Logistic Regression:')\n",
    "print('Accuracy:',lr_acc)"
   ]
  },
  {
   "cell_type": "markdown",
   "metadata": {},
   "source": [
    "## GAN"
   ]
  },
  {
   "cell_type": "code",
   "execution_count": 190,
   "metadata": {},
   "outputs": [
    {
     "name": "stderr",
     "output_type": "stream",
     "text": [
      "D:\\ProgramData\\Anaconda3\\lib\\site-packages\\sklearn\\svm\\_base.py:985: ConvergenceWarning: Liblinear failed to converge, increase the number of iterations.\n",
      "  warnings.warn(\"Liblinear failed to converge, increase \"\n",
      "D:\\ProgramData\\Anaconda3\\lib\\site-packages\\sklearn\\svm\\_base.py:985: ConvergenceWarning: Liblinear failed to converge, increase the number of iterations.\n",
      "  warnings.warn(\"Liblinear failed to converge, increase \"\n",
      "D:\\ProgramData\\Anaconda3\\lib\\site-packages\\sklearn\\svm\\_base.py:985: ConvergenceWarning: Liblinear failed to converge, increase the number of iterations.\n",
      "  warnings.warn(\"Liblinear failed to converge, increase \"\n",
      "D:\\ProgramData\\Anaconda3\\lib\\site-packages\\sklearn\\svm\\_base.py:985: ConvergenceWarning: Liblinear failed to converge, increase the number of iterations.\n",
      "  warnings.warn(\"Liblinear failed to converge, increase \"\n",
      "D:\\ProgramData\\Anaconda3\\lib\\site-packages\\sklearn\\svm\\_base.py:985: ConvergenceWarning: Liblinear failed to converge, increase the number of iterations.\n",
      "  warnings.warn(\"Liblinear failed to converge, increase \"\n",
      "D:\\ProgramData\\Anaconda3\\lib\\site-packages\\sklearn\\svm\\_base.py:985: ConvergenceWarning: Liblinear failed to converge, increase the number of iterations.\n",
      "  warnings.warn(\"Liblinear failed to converge, increase \"\n",
      "D:\\ProgramData\\Anaconda3\\lib\\site-packages\\sklearn\\svm\\_base.py:985: ConvergenceWarning: Liblinear failed to converge, increase the number of iterations.\n",
      "  warnings.warn(\"Liblinear failed to converge, increase \"\n",
      "D:\\ProgramData\\Anaconda3\\lib\\site-packages\\sklearn\\svm\\_base.py:985: ConvergenceWarning: Liblinear failed to converge, increase the number of iterations.\n",
      "  warnings.warn(\"Liblinear failed to converge, increase \"\n",
      "D:\\ProgramData\\Anaconda3\\lib\\site-packages\\sklearn\\svm\\_base.py:985: ConvergenceWarning: Liblinear failed to converge, increase the number of iterations.\n",
      "  warnings.warn(\"Liblinear failed to converge, increase \"\n",
      "D:\\ProgramData\\Anaconda3\\lib\\site-packages\\sklearn\\svm\\_base.py:985: ConvergenceWarning: Liblinear failed to converge, increase the number of iterations.\n",
      "  warnings.warn(\"Liblinear failed to converge, increase \"\n",
      "D:\\ProgramData\\Anaconda3\\lib\\site-packages\\sklearn\\svm\\_base.py:985: ConvergenceWarning: Liblinear failed to converge, increase the number of iterations.\n",
      "  warnings.warn(\"Liblinear failed to converge, increase \"\n",
      "D:\\ProgramData\\Anaconda3\\lib\\site-packages\\sklearn\\svm\\_base.py:985: ConvergenceWarning: Liblinear failed to converge, increase the number of iterations.\n",
      "  warnings.warn(\"Liblinear failed to converge, increase \"\n",
      "D:\\ProgramData\\Anaconda3\\lib\\site-packages\\sklearn\\svm\\_base.py:985: ConvergenceWarning: Liblinear failed to converge, increase the number of iterations.\n",
      "  warnings.warn(\"Liblinear failed to converge, increase \"\n",
      "D:\\ProgramData\\Anaconda3\\lib\\site-packages\\sklearn\\svm\\_base.py:985: ConvergenceWarning: Liblinear failed to converge, increase the number of iterations.\n",
      "  warnings.warn(\"Liblinear failed to converge, increase \"\n",
      "D:\\ProgramData\\Anaconda3\\lib\\site-packages\\sklearn\\svm\\_base.py:985: ConvergenceWarning: Liblinear failed to converge, increase the number of iterations.\n",
      "  warnings.warn(\"Liblinear failed to converge, increase \"\n",
      "D:\\ProgramData\\Anaconda3\\lib\\site-packages\\sklearn\\svm\\_base.py:985: ConvergenceWarning: Liblinear failed to converge, increase the number of iterations.\n",
      "  warnings.warn(\"Liblinear failed to converge, increase \"\n",
      "D:\\ProgramData\\Anaconda3\\lib\\site-packages\\sklearn\\svm\\_base.py:985: ConvergenceWarning: Liblinear failed to converge, increase the number of iterations.\n",
      "  warnings.warn(\"Liblinear failed to converge, increase \"\n",
      "D:\\ProgramData\\Anaconda3\\lib\\site-packages\\sklearn\\svm\\_base.py:985: ConvergenceWarning: Liblinear failed to converge, increase the number of iterations.\n",
      "  warnings.warn(\"Liblinear failed to converge, increase \"\n",
      "D:\\ProgramData\\Anaconda3\\lib\\site-packages\\sklearn\\svm\\_base.py:985: ConvergenceWarning: Liblinear failed to converge, increase the number of iterations.\n",
      "  warnings.warn(\"Liblinear failed to converge, increase \"\n",
      "D:\\ProgramData\\Anaconda3\\lib\\site-packages\\sklearn\\svm\\_base.py:985: ConvergenceWarning: Liblinear failed to converge, increase the number of iterations.\n",
      "  warnings.warn(\"Liblinear failed to converge, increase \"\n",
      "D:\\ProgramData\\Anaconda3\\lib\\site-packages\\sklearn\\svm\\_base.py:985: ConvergenceWarning: Liblinear failed to converge, increase the number of iterations.\n",
      "  warnings.warn(\"Liblinear failed to converge, increase \"\n"
     ]
    },
    {
     "name": "stdout",
     "output_type": "stream",
     "text": [
      "Best score: 0.9048392897790583\n",
      "Best hyperparameters: {'C': 1.0}\n"
     ]
    },
    {
     "name": "stderr",
     "output_type": "stream",
     "text": [
      "D:\\ProgramData\\Anaconda3\\lib\\site-packages\\sklearn\\svm\\_base.py:985: ConvergenceWarning: Liblinear failed to converge, increase the number of iterations.\n",
      "  warnings.warn(\"Liblinear failed to converge, increase \"\n"
     ]
    }
   ],
   "source": [
    "model = LogisticRegression(random_state=0, solver = 'liblinear')\n",
    "\n",
    "param_grid={'C':np.logspace(-3,3,7), # inverse of regularization strength\n",
    "     }\n",
    "\n",
    "grid = GridSearchCV(estimator=model, param_grid=param_grid)\n",
    "\n",
    "grid.fit(new_train_X, new_train_Y.ravel())\n",
    "\n",
    "C = grid.best_estimator_.C\n",
    "\n",
    "# summarize the results of the grid search\n",
    "print('Best score:', grid.best_score_)\n",
    "print('Best hyperparameters:',grid.best_params_)"
   ]
  },
  {
   "cell_type": "code",
   "execution_count": 191,
   "metadata": {},
   "outputs": [
    {
     "name": "stderr",
     "output_type": "stream",
     "text": [
      "D:\\ProgramData\\Anaconda3\\lib\\site-packages\\sklearn\\svm\\_base.py:985: ConvergenceWarning: Liblinear failed to converge, increase the number of iterations.\n",
      "  warnings.warn(\"Liblinear failed to converge, increase \"\n"
     ]
    }
   ],
   "source": [
    "lr = LogisticRegression(random_state =0, solver = 'liblinear', C=C).fit(new_train_X, new_train_Y.ravel())"
   ]
  },
  {
   "cell_type": "code",
   "execution_count": 192,
   "metadata": {},
   "outputs": [],
   "source": [
    "lr_pred = lr.predict(X_test)\n",
    "lr_proba = lr.predict_proba(X_test)"
   ]
  },
  {
   "cell_type": "code",
   "execution_count": 198,
   "metadata": {},
   "outputs": [
    {
     "data": {
      "image/png": "[encoded data removed]",
      "text/plain": [
       "<Figure size 432x288 with 1 Axes>"
      ]
     },
     "metadata": {},
     "output_type": "display_data"
    }
   ],
   "source": [
    "# roc curve for classes\n",
    "fpr = {}\n",
    "tpr = {}\n",
    "thresh ={}\n",
    "\n",
    "n_class = 4\n",
    "\n",
    "for i in range(n_class):    \n",
    "    fpr[i], tpr[i], thresh[i] = roc_curve(y_test, lr_proba[:,i], pos_label=i)\n",
    "    \n",
    "# plotting    \n",
    "plt.plot(fpr[0], tpr[0], linestyle='--',color='orange', label='Class 0 vs Rest')\n",
    "plt.plot(fpr[1], tpr[1], linestyle='--',color='green', label='Class 1 vs Rest')\n",
    "plt.plot(fpr[2], tpr[2], linestyle='--',color='red', label='Class 2 vs Rest')\n",
    "plt.plot(fpr[3], tpr[3], linestyle='--',color='blue', label='Class 3 vs Rest')\n",
    "\n",
    "plt.title('Multiclass ROC curve')\n",
    "plt.xlabel('False Positive Rate')\n",
    "plt.ylabel('True Positive rate')\n",
    "plt.legend(loc='best')\n",
    "plt.savefig('ROC',dpi=300);"
   ]
  },
  {
   "cell_type": "code",
   "execution_count": 193,
   "metadata": {},
   "outputs": [
    {
     "name": "stdout",
     "output_type": "stream",
     "text": [
      "Logistic regression:\n",
      "Accuracy: 0.8878066378066378\n"
     ]
    },
    {
     "name": "stderr",
     "output_type": "stream",
     "text": [
      "D:\\ProgramData\\Anaconda3\\lib\\site-packages\\sklearn\\metrics\\_classification.py:1248: UndefinedMetricWarning: Precision and F-score are ill-defined and being set to 0.0 in labels with no predicted samples. Use `zero_division` parameter to control this behavior.\n",
      "  _warn_prf(average, modifier, msg_start, len(result))\n"
     ]
    }
   ],
   "source": [
    "lr_cls_precision, lr_cls_recall, lr_cls_f1, _ = precision_recall_fscore_support(y_test, lr_pred, average=None, labels=[0,1,2,3])\n",
    "lr_conf_mat = confusion_matrix(y_test, lr_pred)\n",
    "lr_acc = accuracy_score(y_test, lr_pred)\n",
    "print('Logistic regression:')\n",
    "print('Accuracy:',lr_acc)\n",
    "#print('ROC AUC=%.4f' % (knn_roc_auc))"
   ]
  },
  {
   "cell_type": "code",
   "execution_count": 199,
   "metadata": {},
   "outputs": [
    {
     "name": "stdout",
     "output_type": "stream",
     "text": [
      "Confusion Matrix:\n"
     ]
    },
    {
     "data": {
      "image/png": "[encoded data removed]",
      "text/plain": [
       "<Figure size 288x288 with 2 Axes>"
      ]
     },
     "metadata": {},
     "output_type": "display_data"
    }
   ],
   "source": [
    "array = confusion_matrix(y_test, lr_pred)\n",
    "\n",
    "lr_cm = pd.DataFrame(array, range(4), range(4))\n",
    "\n",
    "plt.figure(figsize=(4,4))\n",
    "sns.set(font_scale=1) # for label size\n",
    "sns.heatmap(lr_cm, annot=True, annot_kws={\"size\": 15}, cbar=True, square= True, fmt='.1f') # font size\n",
    "\n",
    "print('Confusion Matrix:')\n",
    "plt.show()"
   ]
  },
  {
   "cell_type": "code",
   "execution_count": 200,
   "metadata": {},
   "outputs": [
    {
     "name": "stdout",
     "output_type": "stream",
     "text": [
      "0\n",
      "Precision  = 1.0000 \n",
      "Recall on Y label = 0.9521 \n",
      "F1 on Y label = 0.9755 \n",
      "----------------------------\n",
      "1\n",
      "Precision  = 0.2812 \n",
      "Recall on Y label = 0.1371 \n",
      "F1 on Y label = 0.1843 \n",
      "----------------------------\n",
      "2\n",
      "Precision  = 0.5747 \n",
      "Recall on Y label = 0.9109 \n",
      "F1 on Y label = 0.7047 \n",
      "----------------------------\n",
      "3\n",
      "Precision  = 0.0000 \n",
      "Recall on Y label = 0.0000 \n",
      "F1 on Y label = 0.0000 \n",
      "----------------------------\n"
     ]
    }
   ],
   "source": [
    "for i in range(n_class): \n",
    "    print(i)\n",
    "    print('Precision  = %.4f ' % (lr_cls_precision[i]))\n",
    "    print('Recall on Y label = %.4f ' % (lr_cls_recall[i]))\n",
    "    print('F1 on Y label = %.4f ' % (lr_cls_f1[i]))\n",
    "    print('----------------------------')"
   ]
  },
  {
   "cell_type": "markdown",
   "metadata": {},
   "source": [
    "## 3.decision tree"
   ]
  },
  {
   "cell_type": "code",
   "execution_count": 194,
   "metadata": {},
   "outputs": [
    {
     "name": "stdout",
     "output_type": "stream",
     "text": [
      "Best score: 0.9352182899000802\n",
      "Best hyperparameters: {'criterion': 'entropy', 'max_depth': 10, 'max_features': 'auto'}\n"
     ]
    }
   ],
   "source": [
    "model = DecisionTreeClassifier(random_state=0)\n",
    "\n",
    "param_grid = { \n",
    "    'max_features': ['auto', 'sqrt', 'log2'],\n",
    "    'max_depth' : np.arange(10,40,5),\n",
    "    'criterion' :['gini', 'entropy']\n",
    "}\n",
    "\n",
    "grid = GridSearchCV(estimator=model, param_grid=param_grid)\n",
    "\n",
    "grid.fit(X_train, y_train.ravel())\n",
    "\n",
    "criterion = grid.best_estimator_.criterion\n",
    "max_depth = grid.best_estimator_.max_depth\n",
    "max_features = grid.best_estimator_.max_features\n",
    "\n",
    "# summarize the results of the grid search\n",
    "print('Best score:', grid.best_score_)\n",
    "print('Best hyperparameters:',grid.best_params_)"
   ]
  },
  {
   "cell_type": "code",
   "execution_count": 195,
   "metadata": {},
   "outputs": [
    {
     "name": "stdout",
     "output_type": "stream",
     "text": [
      "Decision Tree:\n",
      "Accuracy: 0.9336219336219336\n"
     ]
    }
   ],
   "source": [
    "dt = DecisionTreeClassifier(random_state=0, criterion = criterion, max_depth=max_depth, max_features=max_features).fit(X_train, y_train.ravel())\n",
    "dt_pred = dt.predict(X_test)\n",
    "dt_proba = dt.predict_proba(X_test)\n",
    "\n",
    "dt_conf_mat = confusion_matrix(y_test, dt_pred)\n",
    "dt_acc = accuracy_score(y_test, dt_pred)\n",
    "print('Decision Tree:')\n",
    "print('Accuracy:',dt_acc)"
   ]
  },
  {
   "cell_type": "markdown",
   "metadata": {},
   "source": [
    "## GAN"
   ]
  },
  {
   "cell_type": "code",
   "execution_count": 196,
   "metadata": {},
   "outputs": [
    {
     "name": "stdout",
     "output_type": "stream",
     "text": [
      "Best score: 0.8940165098468207\n",
      "Best hyperparameters: {'criterion': 'gini', 'max_depth': 10, 'max_features': 'auto'}\n"
     ]
    }
   ],
   "source": [
    "model = DecisionTreeClassifier(random_state=0)\n",
    "\n",
    "param_grid = { \n",
    "    'max_features': ['auto', 'sqrt', 'log2'],\n",
    "    'max_depth' : np.arange(10,40,5),\n",
    "    'criterion' :['gini', 'entropy']\n",
    "}\n",
    "\n",
    "grid = GridSearchCV(estimator=model, param_grid=param_grid)\n",
    "\n",
    "grid.fit(new_train_X, new_train_Y.ravel())\n",
    "\n",
    "criterion = grid.best_estimator_.criterion\n",
    "max_depth = grid.best_estimator_.max_depth\n",
    "max_features = grid.best_estimator_.max_features\n",
    "\n",
    "# summarize the results of the grid search\n",
    "print('Best score:', grid.best_score_)\n",
    "print('Best hyperparameters:',grid.best_params_)"
   ]
  },
  {
   "cell_type": "code",
   "execution_count": 197,
   "metadata": {},
   "outputs": [
    {
     "name": "stdout",
     "output_type": "stream",
     "text": [
      "Decision Tree:\n",
      "Accuracy: 0.35209235209235207\n"
     ]
    }
   ],
   "source": [
    "dt = DecisionTreeClassifier(random_state=0, criterion = criterion, max_depth=max_depth, max_features=max_features).fit(new_train_X, new_train_Y.ravel())\n",
    "dt_pred = dt.predict(X_test)\n",
    "dt_proba = dt.predict_proba(X_test)\n",
    "\n",
    "dt_conf_mat = confusion_matrix(y_test, dt_pred)\n",
    "dt_acc = accuracy_score(y_test, dt_pred)\n",
    "print('Decision Tree:')\n",
    "print('Accuracy:',dt_acc)"
   ]
  },
  {
   "cell_type": "code",
   "execution_count": 201,
   "metadata": {},
   "outputs": [
    {
     "data": {
      "image/png": "[encoded data removed]",
      "text/plain": [
       "<Figure size 432x288 with 1 Axes>"
      ]
     },
     "metadata": {},
     "output_type": "display_data"
    }
   ],
   "source": [
    "# roc curve for classes\n",
    "fpr = {}\n",
    "tpr = {}\n",
    "thresh ={}\n",
    "\n",
    "n_class = 4\n",
    "\n",
    "for i in range(n_class):    \n",
    "    fpr[i], tpr[i], thresh[i] = roc_curve(y_test, dt_proba[:,i], pos_label=i)\n",
    "    \n",
    "# plotting    \n",
    "plt.plot(fpr[0], tpr[0], linestyle='--',color='orange', label='Class 0 vs Rest')\n",
    "plt.plot(fpr[1], tpr[1], linestyle='--',color='green', label='Class 1 vs Rest')\n",
    "plt.plot(fpr[2], tpr[2], linestyle='--',color='red', label='Class 2 vs Rest')\n",
    "plt.plot(fpr[3], tpr[3], linestyle='--',color='blue', label='Class 3 vs Rest')\n",
    "\n",
    "plt.title('Multiclass ROC curve')\n",
    "plt.xlabel('False Positive Rate')\n",
    "plt.ylabel('True Positive rate')\n",
    "plt.legend(loc='best')\n",
    "plt.savefig('ROC',dpi=300);"
   ]
  },
  {
   "cell_type": "code",
   "execution_count": 202,
   "metadata": {},
   "outputs": [
    {
     "name": "stdout",
     "output_type": "stream",
     "text": [
      "Decision Tree Confusion Matrix:\n"
     ]
    },
    {
     "data": {
      "image/png": "[encoded data removed]",
      "text/plain": [
       "<Figure size 288x288 with 2 Axes>"
      ]
     },
     "metadata": {},
     "output_type": "display_data"
    }
   ],
   "source": [
    "array = confusion_matrix(y_test, dt_pred)\n",
    "\n",
    "dt_cm = pd.DataFrame(array, range(4), range(4))\n",
    "\n",
    "plt.figure(figsize=(4,4))\n",
    "sns.set(font_scale=1) # for label size\n",
    "sns.heatmap(dt_cm, annot=True, annot_kws={\"size\": 15}, cbar=True, square= True, fmt='.1f') # font size\n",
    "\n",
    "print('Decision Tree Confusion Matrix:')\n",
    "plt.show()"
   ]
  },
  {
   "cell_type": "code",
   "execution_count": null,
   "metadata": {},
   "outputs": [],
   "source": []
  }
 ],
 "metadata": {
  "interpreter": {
   "hash": "968b5077a0d48cf2da4a50a8b0deb8e369346d611fbfede337ab15dbbe1d618f"
  },
  "kernelspec": {
   "display_name": "Python 3 (ipykernel)",
   "language": "python",
   "name": "python3"
  },
  "language_info": {
   "codemirror_mode": {
    "name": "ipython",
    "version": 3
   },
   "file_extension": ".py",
   "mimetype": "text/x-python",
   "name": "python",
   "nbconvert_exporter": "python",
   "pygments_lexer": "ipython3",
   "version": "3.9.7"
  }
 },
 "nbformat": 4,
 "nbformat_minor": 2
}
